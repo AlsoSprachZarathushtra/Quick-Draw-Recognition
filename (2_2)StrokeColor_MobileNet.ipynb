{
  "nbformat": 4,
  "nbformat_minor": 0,
  "metadata": {
    "colab": {
      "name": "(2-2)StrokeColor_MobileNet.ipynb",
      "version": "0.3.2",
      "provenance": [],
      "collapsed_sections": [],
      "toc_visible": true,
      "include_colab_link": true
    },
    "kernelspec": {
      "name": "python3",
      "display_name": "Python 3"
    },
    "accelerator": "GPU"
  },
  "cells": [
    {
      "cell_type": "markdown",
      "metadata": {
        "id": "view-in-github",
        "colab_type": "text"
      },
      "source": [
        "<a href=\"https://colab.research.google.com/github/AlsoSprachZarathushtra/Quick-Draw-Recognition/blob/master/(2_2)StrokeColor_MobileNet.ipynb\" target=\"_parent\"><img src=\"https://colab.research.google.com/assets/colab-badge.svg\" alt=\"Open In Colab\"/></a>"
      ]
    },
    {
      "metadata": {
        "id": "ioxMYD5fIN0l",
        "colab_type": "text"
      },
      "cell_type": "markdown",
      "source": [
        "# Connect Google Drive"
      ]
    },
    {
      "metadata": {
        "id": "QfwNChIWH-gL",
        "colab_type": "code",
        "outputId": "6c95c951-2b8b-4040-9c39-b9214ffd0a71",
        "colab": {
          "base_uri": "https://localhost:8080/",
          "height": 55
        }
      },
      "cell_type": "code",
      "source": [
        "from google.colab import drive\n",
        "drive.mount('/content/gdrive')"
      ],
      "execution_count": 0,
      "outputs": [
        {
          "output_type": "stream",
          "text": [
            "Drive already mounted at /content/gdrive; to attempt to forcibly remount, call drive.mount(\"/content/gdrive\", force_remount=True).\n"
          ],
          "name": "stdout"
        }
      ]
    },
    {
      "metadata": {
        "id": "bEMTrWPCLoJL",
        "colab_type": "text"
      },
      "cell_type": "markdown",
      "source": [
        "# Import"
      ]
    },
    {
      "metadata": {
        "id": "Bwe8XgfZExAn",
        "colab_type": "code",
        "colab": {}
      },
      "cell_type": "code",
      "source": [
        "import tensorflow as tf\n",
        "import numpy as np\n",
        "import pandas as pd\n",
        "import matplotlib.pyplot as plt\n",
        "import cv2\n",
        "import os\n",
        "\n",
        "from tensorflow import keras\n",
        "from tensorflow.keras.layers import Input\n",
        "from tensorflow.keras.layers import Conv2D\n",
        "from tensorflow.keras.layers import MaxPool2D\n",
        "from tensorflow.keras.layers import ReLU\n",
        "from tensorflow.keras.layers import Softmax\n",
        "from tensorflow.keras.layers import Flatten\n",
        "from tensorflow.keras.layers import Dropout\n",
        "from tensorflow.keras.layers import BatchNormalization\n",
        "from tensorflow.keras.metrics import sparse_top_k_categorical_accuracy\n",
        "from tensorflow.keras.callbacks import CSVLogger\n",
        "from ast import literal_eval"
      ],
      "execution_count": 0,
      "outputs": []
    },
    {
      "metadata": {
        "id": "JUvwhYjZIe-M",
        "colab_type": "text"
      },
      "cell_type": "markdown",
      "source": [
        "# Parameters  and  Work-Space Paths"
      ]
    },
    {
      "metadata": {
        "id": "dPOH3112IVQN",
        "colab_type": "code",
        "outputId": "d8e8cc30-f121-4108-8b31-579d5e7ce389",
        "colab": {
          "base_uri": "https://localhost:8080/",
          "height": 35
        }
      },
      "cell_type": "code",
      "source": [
        "# parameters\n",
        "BATCH_SIZE = 200\n",
        "EPOCHS = 50\n",
        "STEPS_PER_EPOCH = 850\n",
        "VALIDATION_STEPS = 100\n",
        "EVALUATE_STEPS = 850\n",
        "IMAGE_SIZE = 128\n",
        "LINE_SIZE = 3\n",
        "\n",
        "\n",
        "# load path\n",
        "TRAIN_DATA_PATH = 'gdrive/My Drive/QW/Data/Data_10000/All_classes_10000.csv'\n",
        "VALID_DATA_PATH = 'gdrive/My Drive/QW/Data/My_test_data/My_test_data.csv'\n",
        "LABEL_DICT_PATH = 'gdrive/My Drive/QW/Data/labels_dict.npy'\n",
        "\n",
        "# save path\n",
        "CKPT_PATH = 'gdrive/My Drive/QW/Notebook/Quick Draw/Thesis_pre_research/(2-2)Stroke_MobileNet/best_model_2_2.ckpt'\n",
        "LOSS_PLOT_PATH = 'gdrive/My Drive/QW/Notebook/Quick Draw/Thesis_pre_research/(2-2)Stroke_MobileNet/loss_plot_2_2.png'\n",
        "ACC_PLOT_PATH = 'gdrive/My Drive/QW/Notebook/Quick Draw/Thesis_pre_research/(2-2)Stroke_MobileNet/acc_plot_2_2.png'\n",
        "LOG_PATH = 'gdrive/My Drive/QW/Notebook/Quick Draw/Thesis_pre_research/(2-2)Stroke_MobileNet/Log_2_2.log'\n",
        "\n",
        "print('finish!')"
      ],
      "execution_count": 0,
      "outputs": [
        {
          "output_type": "stream",
          "text": [
            "finish!\n"
          ],
          "name": "stdout"
        }
      ]
    },
    {
      "metadata": {
        "id": "bTH2CjZKLbQ7",
        "colab_type": "text"
      },
      "cell_type": "markdown",
      "source": [
        "# Generator"
      ]
    },
    {
      "metadata": {
        "id": "kCe0hZq3ZBtp",
        "colab_type": "code",
        "outputId": "81f33e78-2ef0-436f-d80b-40c3ca308a26",
        "colab": {
          "base_uri": "https://localhost:8080/",
          "height": 35
        }
      },
      "cell_type": "code",
      "source": [
        "def generate_data(data, batch_size, choose_recognized):\n",
        "    data = data.sample(frac = 1)\n",
        "    while 1:\n",
        "        \n",
        "#         get columns' values named 'drawing', 'word' and 'recognized'\n",
        "        drawings = data[\"drawing\"].values\n",
        "        drawing_recognized = data[\"recognized\"].values\n",
        "        drawing_class = data[\"word\"].values\n",
        "      \n",
        "#         initialization\n",
        "        cnt = 0\n",
        "        data_X =[]\n",
        "        data_Y =[]\n",
        "        \n",
        "#         generate batch\n",
        "        for i in range(len(drawings)):\n",
        "            if choose_recognized:\n",
        "                if drawing_recognized[i] == 'False':    #Choose according to recognized value\n",
        "                    continue\n",
        "            draw = drawings[i]\n",
        "            label = drawing_class[i]\n",
        "            stroke_vec = literal_eval(draw)\n",
        "            img = np.zeros([256, 256])\n",
        "            x = []\n",
        "            for j in range(len(stroke_vec)): \n",
        "                line = np.array(stroke_vec[j]).T\n",
        "                cv2.polylines(img, [line], False, 255-(13*min(j,10)), LINE_SIZE)\n",
        "            img = cv2.resize(img, (IMAGE_SIZE,IMAGE_SIZE), interpolation = cv2.INTER_NEAREST)\n",
        "            img = img[:,:, np.newaxis]\n",
        "            x = img\n",
        "            y = labels2nums_dict[label]\n",
        "            data_X.append(x)\n",
        "            data_Y.append(y)\n",
        "            cnt += 1\n",
        "            if cnt==batch_size:        #generate a batch when cnt reaches batch_size \n",
        "                cnt = 0\n",
        "                yield (np.array(data_X), np.array(data_Y))\n",
        "                data_X = []\n",
        "                data_Y = []\n",
        "\n",
        "print('finish!')"
      ],
      "execution_count": 0,
      "outputs": [
        {
          "output_type": "stream",
          "text": [
            "finish!\n"
          ],
          "name": "stdout"
        }
      ]
    },
    {
      "metadata": {
        "id": "Z3SIDIfoSR2d",
        "colab_type": "text"
      },
      "cell_type": "markdown",
      "source": [
        "# Callbacks"
      ]
    },
    {
      "metadata": {
        "id": "fhoAdkcESQiM",
        "colab_type": "code",
        "outputId": "e02cddb5-62b8-4b6a-aa46-fb20f9d4fcae",
        "colab": {
          "base_uri": "https://localhost:8080/",
          "height": 35
        }
      },
      "cell_type": "code",
      "source": [
        "# define a class named LossHitory \n",
        "class LossHistory(keras.callbacks.Callback):\n",
        "    def on_train_begin(self, logs={}):\n",
        "        self.losses = {'batch':[], 'epoch':[]}\n",
        "        self.accuracy = {'batch':[], 'epoch':[]}\n",
        "        self.val_loss = {'batch':[], 'epoch':[]}\n",
        "        self.val_acc = {'batch':[], 'epoch':[]}\n",
        "\n",
        "    def on_batch_end(self, batch, logs={}):\n",
        "        self.losses['batch'].append(logs.get('loss'))\n",
        "        self.accuracy['batch'].append(logs.get('acc'))\n",
        "        self.val_loss['batch'].append(logs.get('val_loss'))\n",
        "        self.val_acc['batch'].append(logs.get('val_acc'))\n",
        "\n",
        "    def on_epoch_end(self, batch, logs={}):\n",
        "        self.losses['epoch'].append(logs.get('loss'))\n",
        "        self.accuracy['epoch'].append(logs.get('acc'))\n",
        "        self.val_loss['epoch'].append(logs.get('val_loss'))\n",
        "        self.val_acc['epoch'].append(logs.get('val_acc'))\n",
        "\n",
        "    def loss_plot(self, loss_type, loss_fig_save_path, acc_fig_save_path):\n",
        "        iters = range(len(self.losses[loss_type]))\n",
        "        plt.figure('acc')\n",
        "        plt.plot(iters, self.accuracy[loss_type], 'r', label='train acc')\n",
        "        plt.plot(iters, self.val_acc[loss_type], 'b', label='val acc')\n",
        "        plt.grid(True)\n",
        "        plt.xlabel(loss_type)\n",
        "        plt.ylabel('acc')\n",
        "        plt.legend(loc=\"upper right\")\n",
        "        plt.savefig(acc_fig_save_path)\n",
        "        plt.show()\n",
        "        \n",
        "        \n",
        "        plt.figure('loss')\n",
        "        plt.plot(iters, self.losses[loss_type], 'g', label='train loss')\n",
        "        plt.plot(iters, self.val_loss[loss_type], 'k', label='val loss')\n",
        "        plt.grid(True)\n",
        "        plt.xlabel(loss_type)\n",
        "        plt.ylabel('loss')\n",
        "        plt.legend(loc=\"upper right\")\n",
        "        plt.savefig(loss_fig_save_path)\n",
        "        plt.show()\n",
        "        \n",
        "# create a object from LossHistory class\n",
        "History = LossHistory()\n",
        "\n",
        "print(\"finish!\")"
      ],
      "execution_count": 0,
      "outputs": [
        {
          "output_type": "stream",
          "text": [
            "finish!\n"
          ],
          "name": "stdout"
        }
      ]
    },
    {
      "metadata": {
        "id": "zUBqEb49S7qZ",
        "colab_type": "code",
        "outputId": "f0cf9e8e-ab22-4883-fdc2-8c8b447ac427",
        "colab": {
          "base_uri": "https://localhost:8080/",
          "height": 35
        }
      },
      "cell_type": "code",
      "source": [
        "\n",
        "cp_callback = tf.keras.callbacks.ModelCheckpoint(\n",
        "    CKPT_PATH, \n",
        "    verbose = 1, \n",
        "    monitor='val_acc', \n",
        "    mode = 'max', \n",
        "    save_best_only=True)\n",
        "\n",
        "print(\"finish!\")"
      ],
      "execution_count": 0,
      "outputs": [
        {
          "output_type": "stream",
          "text": [
            "finish!\n"
          ],
          "name": "stdout"
        }
      ]
    },
    {
      "metadata": {
        "id": "UAb_4FpSQo-j",
        "colab_type": "code",
        "colab": {}
      },
      "cell_type": "code",
      "source": [
        "ReduceLR = tf.keras.callbacks.ReduceLROnPlateau(monitor='val_acc', factor=0.5, patience=3,\n",
        "                      min_delta=0.005, mode='max', cooldown=3, verbose=1)"
      ],
      "execution_count": 0,
      "outputs": []
    },
    {
      "metadata": {
        "id": "tdHOp_LLskQI",
        "colab_type": "code",
        "colab": {}
      },
      "cell_type": "code",
      "source": [
        "csv_logger = CSVLogger(LOG_PATH, separator=',', append=True)"
      ],
      "execution_count": 0,
      "outputs": []
    },
    {
      "metadata": {
        "id": "bwRxaI2QTibU",
        "colab_type": "text"
      },
      "cell_type": "markdown",
      "source": [
        "# Load Data"
      ]
    },
    {
      "metadata": {
        "id": "aj041zzZTwrF",
        "colab_type": "code",
        "outputId": "732c8cf5-3025-43b4-9a78-b965153e38e4",
        "colab": {
          "base_uri": "https://localhost:8080/",
          "height": 35
        }
      },
      "cell_type": "code",
      "source": [
        "# load train data and valid data\n",
        "#  labels_dict and data path\n",
        "\n",
        "# labels convert into nums\n",
        "labels_dict = np.load(LABEL_DICT_PATH)\n",
        "labels2nums_dict = {v: k for k, v in enumerate(labels_dict)}\n",
        "\n",
        "# read csv \n",
        "train_data = pd.read_csv(TRAIN_DATA_PATH)\n",
        "valid_data = pd.read_csv(VALID_DATA_PATH)\n",
        "\n",
        "print('finish!')"
      ],
      "execution_count": 0,
      "outputs": [
        {
          "output_type": "stream",
          "text": [
            "finish!\n"
          ],
          "name": "stdout"
        }
      ]
    },
    {
      "metadata": {
        "id": "D_sA1QMzUysO",
        "colab_type": "text"
      },
      "cell_type": "markdown",
      "source": [
        "# Model"
      ]
    },
    {
      "metadata": {
        "id": "-DXg_7LEU1Ap",
        "colab_type": "code",
        "outputId": "f6296448-f9a5-46a6-8f71-0bba766c47b1",
        "colab": {
          "base_uri": "https://localhost:8080/",
          "height": 3491
        }
      },
      "cell_type": "code",
      "source": [
        "\n",
        "MODEL = tf.keras.applications.MobileNet(\n",
        "        input_shape=(IMAGE_SIZE,IMAGE_SIZE,1),\n",
        "        alpha=1.0,\n",
        "        include_top=True,\n",
        "        weights=None,\n",
        "        classes=340\n",
        "        )\n",
        "MODEL.summary()"
      ],
      "execution_count": 0,
      "outputs": [
        {
          "output_type": "stream",
          "text": [
            "_________________________________________________________________\n",
            "Layer (type)                 Output Shape              Param #   \n",
            "=================================================================\n",
            "input_1 (InputLayer)         (None, 128, 128, 1)       0         \n",
            "_________________________________________________________________\n",
            "conv1_pad (ZeroPadding2D)    (None, 129, 129, 1)       0         \n",
            "_________________________________________________________________\n",
            "conv1 (Conv2D)               (None, 64, 64, 32)        288       \n",
            "_________________________________________________________________\n",
            "conv1_bn (BatchNormalization (None, 64, 64, 32)        128       \n",
            "_________________________________________________________________\n",
            "conv1_relu (ReLU)            (None, 64, 64, 32)        0         \n",
            "_________________________________________________________________\n",
            "conv_dw_1 (DepthwiseConv2D)  (None, 64, 64, 32)        288       \n",
            "_________________________________________________________________\n",
            "conv_dw_1_bn (BatchNormaliza (None, 64, 64, 32)        128       \n",
            "_________________________________________________________________\n",
            "conv_dw_1_relu (ReLU)        (None, 64, 64, 32)        0         \n",
            "_________________________________________________________________\n",
            "conv_pw_1 (Conv2D)           (None, 64, 64, 64)        2048      \n",
            "_________________________________________________________________\n",
            "conv_pw_1_bn (BatchNormaliza (None, 64, 64, 64)        256       \n",
            "_________________________________________________________________\n",
            "conv_pw_1_relu (ReLU)        (None, 64, 64, 64)        0         \n",
            "_________________________________________________________________\n",
            "conv_pad_2 (ZeroPadding2D)   (None, 65, 65, 64)        0         \n",
            "_________________________________________________________________\n",
            "conv_dw_2 (DepthwiseConv2D)  (None, 32, 32, 64)        576       \n",
            "_________________________________________________________________\n",
            "conv_dw_2_bn (BatchNormaliza (None, 32, 32, 64)        256       \n",
            "_________________________________________________________________\n",
            "conv_dw_2_relu (ReLU)        (None, 32, 32, 64)        0         \n",
            "_________________________________________________________________\n",
            "conv_pw_2 (Conv2D)           (None, 32, 32, 128)       8192      \n",
            "_________________________________________________________________\n",
            "conv_pw_2_bn (BatchNormaliza (None, 32, 32, 128)       512       \n",
            "_________________________________________________________________\n",
            "conv_pw_2_relu (ReLU)        (None, 32, 32, 128)       0         \n",
            "_________________________________________________________________\n",
            "conv_dw_3 (DepthwiseConv2D)  (None, 32, 32, 128)       1152      \n",
            "_________________________________________________________________\n",
            "conv_dw_3_bn (BatchNormaliza (None, 32, 32, 128)       512       \n",
            "_________________________________________________________________\n",
            "conv_dw_3_relu (ReLU)        (None, 32, 32, 128)       0         \n",
            "_________________________________________________________________\n",
            "conv_pw_3 (Conv2D)           (None, 32, 32, 128)       16384     \n",
            "_________________________________________________________________\n",
            "conv_pw_3_bn (BatchNormaliza (None, 32, 32, 128)       512       \n",
            "_________________________________________________________________\n",
            "conv_pw_3_relu (ReLU)        (None, 32, 32, 128)       0         \n",
            "_________________________________________________________________\n",
            "conv_pad_4 (ZeroPadding2D)   (None, 33, 33, 128)       0         \n",
            "_________________________________________________________________\n",
            "conv_dw_4 (DepthwiseConv2D)  (None, 16, 16, 128)       1152      \n",
            "_________________________________________________________________\n",
            "conv_dw_4_bn (BatchNormaliza (None, 16, 16, 128)       512       \n",
            "_________________________________________________________________\n",
            "conv_dw_4_relu (ReLU)        (None, 16, 16, 128)       0         \n",
            "_________________________________________________________________\n",
            "conv_pw_4 (Conv2D)           (None, 16, 16, 256)       32768     \n",
            "_________________________________________________________________\n",
            "conv_pw_4_bn (BatchNormaliza (None, 16, 16, 256)       1024      \n",
            "_________________________________________________________________\n",
            "conv_pw_4_relu (ReLU)        (None, 16, 16, 256)       0         \n",
            "_________________________________________________________________\n",
            "conv_dw_5 (DepthwiseConv2D)  (None, 16, 16, 256)       2304      \n",
            "_________________________________________________________________\n",
            "conv_dw_5_bn (BatchNormaliza (None, 16, 16, 256)       1024      \n",
            "_________________________________________________________________\n",
            "conv_dw_5_relu (ReLU)        (None, 16, 16, 256)       0         \n",
            "_________________________________________________________________\n",
            "conv_pw_5 (Conv2D)           (None, 16, 16, 256)       65536     \n",
            "_________________________________________________________________\n",
            "conv_pw_5_bn (BatchNormaliza (None, 16, 16, 256)       1024      \n",
            "_________________________________________________________________\n",
            "conv_pw_5_relu (ReLU)        (None, 16, 16, 256)       0         \n",
            "_________________________________________________________________\n",
            "conv_pad_6 (ZeroPadding2D)   (None, 17, 17, 256)       0         \n",
            "_________________________________________________________________\n",
            "conv_dw_6 (DepthwiseConv2D)  (None, 8, 8, 256)         2304      \n",
            "_________________________________________________________________\n",
            "conv_dw_6_bn (BatchNormaliza (None, 8, 8, 256)         1024      \n",
            "_________________________________________________________________\n",
            "conv_dw_6_relu (ReLU)        (None, 8, 8, 256)         0         \n",
            "_________________________________________________________________\n",
            "conv_pw_6 (Conv2D)           (None, 8, 8, 512)         131072    \n",
            "_________________________________________________________________\n",
            "conv_pw_6_bn (BatchNormaliza (None, 8, 8, 512)         2048      \n",
            "_________________________________________________________________\n",
            "conv_pw_6_relu (ReLU)        (None, 8, 8, 512)         0         \n",
            "_________________________________________________________________\n",
            "conv_dw_7 (DepthwiseConv2D)  (None, 8, 8, 512)         4608      \n",
            "_________________________________________________________________\n",
            "conv_dw_7_bn (BatchNormaliza (None, 8, 8, 512)         2048      \n",
            "_________________________________________________________________\n",
            "conv_dw_7_relu (ReLU)        (None, 8, 8, 512)         0         \n",
            "_________________________________________________________________\n",
            "conv_pw_7 (Conv2D)           (None, 8, 8, 512)         262144    \n",
            "_________________________________________________________________\n",
            "conv_pw_7_bn (BatchNormaliza (None, 8, 8, 512)         2048      \n",
            "_________________________________________________________________\n",
            "conv_pw_7_relu (ReLU)        (None, 8, 8, 512)         0         \n",
            "_________________________________________________________________\n",
            "conv_dw_8 (DepthwiseConv2D)  (None, 8, 8, 512)         4608      \n",
            "_________________________________________________________________\n",
            "conv_dw_8_bn (BatchNormaliza (None, 8, 8, 512)         2048      \n",
            "_________________________________________________________________\n",
            "conv_dw_8_relu (ReLU)        (None, 8, 8, 512)         0         \n",
            "_________________________________________________________________\n",
            "conv_pw_8 (Conv2D)           (None, 8, 8, 512)         262144    \n",
            "_________________________________________________________________\n",
            "conv_pw_8_bn (BatchNormaliza (None, 8, 8, 512)         2048      \n",
            "_________________________________________________________________\n",
            "conv_pw_8_relu (ReLU)        (None, 8, 8, 512)         0         \n",
            "_________________________________________________________________\n",
            "conv_dw_9 (DepthwiseConv2D)  (None, 8, 8, 512)         4608      \n",
            "_________________________________________________________________\n",
            "conv_dw_9_bn (BatchNormaliza (None, 8, 8, 512)         2048      \n",
            "_________________________________________________________________\n",
            "conv_dw_9_relu (ReLU)        (None, 8, 8, 512)         0         \n",
            "_________________________________________________________________\n",
            "conv_pw_9 (Conv2D)           (None, 8, 8, 512)         262144    \n",
            "_________________________________________________________________\n",
            "conv_pw_9_bn (BatchNormaliza (None, 8, 8, 512)         2048      \n",
            "_________________________________________________________________\n",
            "conv_pw_9_relu (ReLU)        (None, 8, 8, 512)         0         \n",
            "_________________________________________________________________\n",
            "conv_dw_10 (DepthwiseConv2D) (None, 8, 8, 512)         4608      \n",
            "_________________________________________________________________\n",
            "conv_dw_10_bn (BatchNormaliz (None, 8, 8, 512)         2048      \n",
            "_________________________________________________________________\n",
            "conv_dw_10_relu (ReLU)       (None, 8, 8, 512)         0         \n",
            "_________________________________________________________________\n",
            "conv_pw_10 (Conv2D)          (None, 8, 8, 512)         262144    \n",
            "_________________________________________________________________\n",
            "conv_pw_10_bn (BatchNormaliz (None, 8, 8, 512)         2048      \n",
            "_________________________________________________________________\n",
            "conv_pw_10_relu (ReLU)       (None, 8, 8, 512)         0         \n",
            "_________________________________________________________________\n",
            "conv_dw_11 (DepthwiseConv2D) (None, 8, 8, 512)         4608      \n",
            "_________________________________________________________________\n",
            "conv_dw_11_bn (BatchNormaliz (None, 8, 8, 512)         2048      \n",
            "_________________________________________________________________\n",
            "conv_dw_11_relu (ReLU)       (None, 8, 8, 512)         0         \n",
            "_________________________________________________________________\n",
            "conv_pw_11 (Conv2D)          (None, 8, 8, 512)         262144    \n",
            "_________________________________________________________________\n",
            "conv_pw_11_bn (BatchNormaliz (None, 8, 8, 512)         2048      \n",
            "_________________________________________________________________\n",
            "conv_pw_11_relu (ReLU)       (None, 8, 8, 512)         0         \n",
            "_________________________________________________________________\n",
            "conv_pad_12 (ZeroPadding2D)  (None, 9, 9, 512)         0         \n",
            "_________________________________________________________________\n",
            "conv_dw_12 (DepthwiseConv2D) (None, 4, 4, 512)         4608      \n",
            "_________________________________________________________________\n",
            "conv_dw_12_bn (BatchNormaliz (None, 4, 4, 512)         2048      \n",
            "_________________________________________________________________\n",
            "conv_dw_12_relu (ReLU)       (None, 4, 4, 512)         0         \n",
            "_________________________________________________________________\n",
            "conv_pw_12 (Conv2D)          (None, 4, 4, 1024)        524288    \n",
            "_________________________________________________________________\n",
            "conv_pw_12_bn (BatchNormaliz (None, 4, 4, 1024)        4096      \n",
            "_________________________________________________________________\n",
            "conv_pw_12_relu (ReLU)       (None, 4, 4, 1024)        0         \n",
            "_________________________________________________________________\n",
            "conv_dw_13 (DepthwiseConv2D) (None, 4, 4, 1024)        9216      \n",
            "_________________________________________________________________\n",
            "conv_dw_13_bn (BatchNormaliz (None, 4, 4, 1024)        4096      \n",
            "_________________________________________________________________\n",
            "conv_dw_13_relu (ReLU)       (None, 4, 4, 1024)        0         \n",
            "_________________________________________________________________\n",
            "conv_pw_13 (Conv2D)          (None, 4, 4, 1024)        1048576   \n",
            "_________________________________________________________________\n",
            "conv_pw_13_bn (BatchNormaliz (None, 4, 4, 1024)        4096      \n",
            "_________________________________________________________________\n",
            "conv_pw_13_relu (ReLU)       (None, 4, 4, 1024)        0         \n",
            "_________________________________________________________________\n",
            "global_average_pooling2d (Gl (None, 1024)              0         \n",
            "_________________________________________________________________\n",
            "reshape_1 (Reshape)          (None, 1, 1, 1024)        0         \n",
            "_________________________________________________________________\n",
            "dropout (Dropout)            (None, 1, 1, 1024)        0         \n",
            "_________________________________________________________________\n",
            "conv_preds (Conv2D)          (None, 1, 1, 340)         348500    \n",
            "_________________________________________________________________\n",
            "act_softmax (Activation)     (None, 1, 1, 340)         0         \n",
            "_________________________________________________________________\n",
            "reshape_2 (Reshape)          (None, 340)               0         \n",
            "=================================================================\n",
            "Total params: 3,576,788\n",
            "Trainable params: 3,554,900\n",
            "Non-trainable params: 21,888\n",
            "_________________________________________________________________\n"
          ],
          "name": "stdout"
        }
      ]
    },
    {
      "metadata": {
        "id": "02zm3e7qU87T",
        "colab_type": "text"
      },
      "cell_type": "markdown",
      "source": [
        "# Complie"
      ]
    },
    {
      "metadata": {
        "id": "Rtz3F1UAU_RW",
        "colab_type": "code",
        "outputId": "4dfb40f3-ed1d-4f93-c847-92030fb65fcc",
        "colab": {
          "base_uri": "https://localhost:8080/",
          "height": 35
        }
      },
      "cell_type": "code",
      "source": [
        "model = MODEL\n",
        "model.compile(loss='sparse_categorical_crossentropy',\n",
        "              optimizer='adam',\n",
        "              metrics=['accuracy'])\n",
        "\n",
        "print('finish')\n"
      ],
      "execution_count": 0,
      "outputs": [
        {
          "output_type": "stream",
          "text": [
            "finish\n"
          ],
          "name": "stdout"
        }
      ]
    },
    {
      "metadata": {
        "id": "hOj3QaVNVm-H",
        "colab_type": "text"
      },
      "cell_type": "markdown",
      "source": [
        "# Train"
      ]
    },
    {
      "metadata": {
        "id": "5Kl8pgH8Vope",
        "colab_type": "code",
        "outputId": "16e549ce-c0b9-464b-a755-92c1035169c2",
        "colab": {
          "base_uri": "https://localhost:8080/",
          "height": 4631
        }
      },
      "cell_type": "code",
      "source": [
        "print('start training')\n",
        "# callbacks = [History, cp_callback]\n",
        "\n",
        "history = model.fit_generator(generate_data(train_data, BATCH_SIZE, True),\n",
        "                              steps_per_epoch = STEPS_PER_EPOCH,\n",
        "                              epochs = EPOCHS,\n",
        "                              validation_data = generate_data(valid_data, BATCH_SIZE, False) ,\n",
        "                              validation_steps = VALIDATION_STEPS,\n",
        "                              verbose = 1,\n",
        "                              initial_epoch = 0,\n",
        "                              callbacks = [History,cp_callback,ReduceLR,csv_logger]\n",
        "                             )\n",
        "print(\"finish training\")\n",
        "\n",
        "History.loss_plot('epoch', LOSS_PLOT_PATH, ACC_PLOT_PATH)\n",
        "\n",
        "print('finish!')"
      ],
      "execution_count": 0,
      "outputs": [
        {
          "output_type": "stream",
          "text": [
            "start training\n",
            "Epoch 1/50\n",
            "849/850 [============================>.] - ETA: 0s - loss: 3.2030 - acc: 0.3055\n",
            "Epoch 00001: val_acc improved from -inf to 0.31375, saving model to gdrive/My Drive/QW/Notebook/Quick Draw/Thesis_pre_research/(2-2)Stroke_MobileNet/best_model_2_2.ckpt\n",
            "850/850 [==============================] - 520s 611ms/step - loss: 3.2015 - acc: 0.3058 - val_loss: 3.3183 - val_acc: 0.3137\n",
            "Epoch 2/50\n",
            "849/850 [============================>.] - ETA: 0s - loss: 1.8222 - acc: 0.5555\n",
            "Epoch 00002: val_acc improved from 0.31375 to 0.52565, saving model to gdrive/My Drive/QW/Notebook/Quick Draw/Thesis_pre_research/(2-2)Stroke_MobileNet/best_model_2_2.ckpt\n",
            "850/850 [==============================] - 508s 597ms/step - loss: 1.8221 - acc: 0.5555 - val_loss: 1.9914 - val_acc: 0.5256\n",
            "Epoch 3/50\n",
            "849/850 [============================>.] - ETA: 0s - loss: 1.5510 - acc: 0.6155\n",
            "Epoch 00003: val_acc improved from 0.52565 to 0.53295, saving model to gdrive/My Drive/QW/Notebook/Quick Draw/Thesis_pre_research/(2-2)Stroke_MobileNet/best_model_2_2.ckpt\n",
            "850/850 [==============================] - 508s 597ms/step - loss: 1.5510 - acc: 0.6155 - val_loss: 1.9374 - val_acc: 0.5329\n",
            "Epoch 4/50\n",
            "849/850 [============================>.] - ETA: 0s - loss: 1.4300 - acc: 0.6441\n",
            "Epoch 00004: val_acc improved from 0.53295 to 0.61040, saving model to gdrive/My Drive/QW/Notebook/Quick Draw/Thesis_pre_research/(2-2)Stroke_MobileNet/best_model_2_2.ckpt\n",
            "850/850 [==============================] - 508s 598ms/step - loss: 1.4299 - acc: 0.6441 - val_loss: 1.5618 - val_acc: 0.6104\n",
            "Epoch 5/50\n",
            "849/850 [============================>.] - ETA: 0s - loss: 1.3501 - acc: 0.6631\n",
            "Epoch 00005: val_acc improved from 0.61040 to 0.62900, saving model to gdrive/My Drive/QW/Notebook/Quick Draw/Thesis_pre_research/(2-2)Stroke_MobileNet/best_model_2_2.ckpt\n",
            "850/850 [==============================] - 508s 598ms/step - loss: 1.3500 - acc: 0.6632 - val_loss: 1.4979 - val_acc: 0.6290\n",
            "Epoch 6/50\n",
            "849/850 [============================>.] - ETA: 0s - loss: 1.2941 - acc: 0.6762\n",
            "Epoch 00006: val_acc improved from 0.62900 to 0.64800, saving model to gdrive/My Drive/QW/Notebook/Quick Draw/Thesis_pre_research/(2-2)Stroke_MobileNet/best_model_2_2.ckpt\n",
            "850/850 [==============================] - 508s 598ms/step - loss: 1.2940 - acc: 0.6762 - val_loss: 1.4217 - val_acc: 0.6480\n",
            "Epoch 7/50\n",
            "849/850 [============================>.] - ETA: 0s - loss: 1.2441 - acc: 0.6862\n",
            "Epoch 00007: val_acc improved from 0.64800 to 0.67050, saving model to gdrive/My Drive/QW/Notebook/Quick Draw/Thesis_pre_research/(2-2)Stroke_MobileNet/best_model_2_2.ckpt\n",
            "850/850 [==============================] - 508s 597ms/step - loss: 1.2441 - acc: 0.6862 - val_loss: 1.3065 - val_acc: 0.6705\n",
            "Epoch 8/50\n",
            "849/850 [============================>.] - ETA: 0s - loss: 1.2082 - acc: 0.6959\n",
            "Epoch 00008: val_acc improved from 0.67050 to 0.69150, saving model to gdrive/My Drive/QW/Notebook/Quick Draw/Thesis_pre_research/(2-2)Stroke_MobileNet/best_model_2_2.ckpt\n",
            "850/850 [==============================] - 507s 597ms/step - loss: 1.2080 - acc: 0.6959 - val_loss: 1.2241 - val_acc: 0.6915\n",
            "Epoch 9/50\n",
            "849/850 [============================>.] - ETA: 0s - loss: 1.1824 - acc: 0.7013\n",
            "Epoch 00009: val_acc improved from 0.69150 to 0.69885, saving model to gdrive/My Drive/QW/Notebook/Quick Draw/Thesis_pre_research/(2-2)Stroke_MobileNet/best_model_2_2.ckpt\n",
            "850/850 [==============================] - 509s 598ms/step - loss: 1.1823 - acc: 0.7013 - val_loss: 1.1843 - val_acc: 0.6988\n",
            "Epoch 10/50\n",
            "849/850 [============================>.] - ETA: 0s - loss: 1.1488 - acc: 0.7077\n",
            "Epoch 00010: val_acc did not improve from 0.69885\n",
            "850/850 [==============================] - 508s 597ms/step - loss: 1.1489 - acc: 0.7077 - val_loss: 1.2112 - val_acc: 0.6955\n",
            "Epoch 11/50\n",
            "849/850 [============================>.] - ETA: 0s - loss: 1.1274 - acc: 0.7136\n",
            "Epoch 00011: val_acc did not improve from 0.69885\n",
            "850/850 [==============================] - 508s 597ms/step - loss: 1.1273 - acc: 0.7136 - val_loss: 1.1969 - val_acc: 0.6968\n",
            "Epoch 12/50\n",
            "849/850 [============================>.] - ETA: 0s - loss: 1.1078 - acc: 0.7189\n",
            "Epoch 00012: val_acc improved from 0.69885 to 0.70360, saving model to gdrive/My Drive/QW/Notebook/Quick Draw/Thesis_pre_research/(2-2)Stroke_MobileNet/best_model_2_2.ckpt\n",
            "\n",
            "Epoch 00012: ReduceLROnPlateau reducing learning rate to 0.0005000000237487257.\n",
            "850/850 [==============================] - 510s 600ms/step - loss: 1.1080 - acc: 0.7189 - val_loss: 1.1564 - val_acc: 0.7036\n",
            "Epoch 13/50\n",
            "849/850 [============================>.] - ETA: 0s - loss: 1.0272 - acc: 0.7399\n",
            "Epoch 00013: val_acc improved from 0.70360 to 0.74715, saving model to gdrive/My Drive/QW/Notebook/Quick Draw/Thesis_pre_research/(2-2)Stroke_MobileNet/best_model_2_2.ckpt\n",
            "850/850 [==============================] - 509s 599ms/step - loss: 1.0270 - acc: 0.7399 - val_loss: 0.9943 - val_acc: 0.7472\n",
            "Epoch 14/50\n",
            "849/850 [============================>.] - ETA: 0s - loss: 1.0142 - acc: 0.7437\n",
            "Epoch 00014: val_acc did not improve from 0.74715\n",
            "850/850 [==============================] - 507s 597ms/step - loss: 1.0142 - acc: 0.7437 - val_loss: 1.0396 - val_acc: 0.7386\n",
            "Epoch 15/50\n",
            "849/850 [============================>.] - ETA: 0s - loss: 0.9983 - acc: 0.7462\n",
            "Epoch 00015: val_acc did not improve from 0.74715\n",
            "850/850 [==============================] - 506s 595ms/step - loss: 0.9982 - acc: 0.7462 - val_loss: 1.0082 - val_acc: 0.7424\n",
            "Epoch 16/50\n",
            "849/850 [============================>.] - ETA: 0s - loss: 0.9882 - acc: 0.7479\n",
            "Epoch 00016: val_acc improved from 0.74715 to 0.75015, saving model to gdrive/My Drive/QW/Notebook/Quick Draw/Thesis_pre_research/(2-2)Stroke_MobileNet/best_model_2_2.ckpt\n",
            "850/850 [==============================] - 510s 599ms/step - loss: 0.9881 - acc: 0.7479 - val_loss: 0.9775 - val_acc: 0.7501\n",
            "Epoch 17/50\n",
            "849/850 [============================>.] - ETA: 0s - loss: 0.9839 - acc: 0.7501\n",
            "Epoch 00017: val_acc did not improve from 0.75015\n",
            "\n",
            "Epoch 00017: ReduceLROnPlateau reducing learning rate to 0.0002500000118743628.\n",
            "850/850 [==============================] - 508s 597ms/step - loss: 0.9839 - acc: 0.7501 - val_loss: 0.9890 - val_acc: 0.7434\n",
            "Epoch 18/50\n",
            "849/850 [============================>.] - ETA: 0s - loss: 0.9515 - acc: 0.7577\n",
            "Epoch 00018: val_acc improved from 0.75015 to 0.76445, saving model to gdrive/My Drive/QW/Notebook/Quick Draw/Thesis_pre_research/(2-2)Stroke_MobileNet/best_model_2_2.ckpt\n",
            "850/850 [==============================] - 509s 599ms/step - loss: 0.9515 - acc: 0.7577 - val_loss: 0.9210 - val_acc: 0.7644\n",
            "Epoch 19/50\n",
            "849/850 [============================>.] - ETA: 0s - loss: 0.9338 - acc: 0.7617\n",
            "Epoch 00019: val_acc improved from 0.76445 to 0.76595, saving model to gdrive/My Drive/QW/Notebook/Quick Draw/Thesis_pre_research/(2-2)Stroke_MobileNet/best_model_2_2.ckpt\n",
            "850/850 [==============================] - 509s 599ms/step - loss: 0.9341 - acc: 0.7617 - val_loss: 0.9242 - val_acc: 0.7659\n",
            "Epoch 20/50\n",
            "849/850 [============================>.] - ETA: 0s - loss: 0.9350 - acc: 0.7612\n",
            "Epoch 00020: val_acc did not improve from 0.76595\n",
            "850/850 [==============================] - 508s 597ms/step - loss: 0.9350 - acc: 0.7612 - val_loss: 0.9272 - val_acc: 0.7614\n",
            "Epoch 21/50\n",
            "849/850 [============================>.] - ETA: 0s - loss: 0.9254 - acc: 0.7642\n",
            "Epoch 00021: val_acc did not improve from 0.76595\n",
            "850/850 [==============================] - 508s 597ms/step - loss: 0.9251 - acc: 0.7642 - val_loss: 0.9125 - val_acc: 0.7656\n",
            "Epoch 22/50\n",
            "849/850 [============================>.] - ETA: 0s - loss: 0.9122 - acc: 0.7680\n",
            "Epoch 00022: val_acc did not improve from 0.76595\n",
            "\n",
            "Epoch 00022: ReduceLROnPlateau reducing learning rate to 0.0001250000059371814.\n",
            "850/850 [==============================] - 507s 597ms/step - loss: 0.9123 - acc: 0.7680 - val_loss: 0.9238 - val_acc: 0.7639\n",
            "Epoch 23/50\n",
            "849/850 [============================>.] - ETA: 0s - loss: 0.8880 - acc: 0.7725\n",
            "Epoch 00023: val_acc did not improve from 0.76595\n",
            "850/850 [==============================] - 508s 597ms/step - loss: 0.8879 - acc: 0.7725 - val_loss: 0.9225 - val_acc: 0.7658\n",
            "Epoch 24/50\n",
            "849/850 [============================>.] - ETA: 0s - loss: 0.8808 - acc: 0.7753\n",
            "Epoch 00024: val_acc improved from 0.76595 to 0.77345, saving model to gdrive/My Drive/QW/Notebook/Quick Draw/Thesis_pre_research/(2-2)Stroke_MobileNet/best_model_2_2.ckpt\n",
            "850/850 [==============================] - 509s 599ms/step - loss: 0.8808 - acc: 0.7753 - val_loss: 0.8868 - val_acc: 0.7734\n",
            "Epoch 25/50\n",
            "849/850 [============================>.] - ETA: 0s - loss: 0.8776 - acc: 0.7757\n",
            "Epoch 00025: val_acc improved from 0.77345 to 0.77770, saving model to gdrive/My Drive/QW/Notebook/Quick Draw/Thesis_pre_research/(2-2)Stroke_MobileNet/best_model_2_2.ckpt\n",
            "850/850 [==============================] - 509s 598ms/step - loss: 0.8776 - acc: 0.7757 - val_loss: 0.8639 - val_acc: 0.7777\n",
            "Epoch 26/50\n",
            "849/850 [============================>.] - ETA: 0s - loss: 0.8727 - acc: 0.7777\n",
            "Epoch 00026: val_acc did not improve from 0.77770\n",
            "850/850 [==============================] - 507s 597ms/step - loss: 0.8727 - acc: 0.7777 - val_loss: 0.8699 - val_acc: 0.7738\n",
            "Epoch 27/50\n",
            "849/850 [============================>.] - ETA: 0s - loss: 0.8605 - acc: 0.7800\n",
            "Epoch 00027: val_acc improved from 0.77770 to 0.78035, saving model to gdrive/My Drive/QW/Notebook/Quick Draw/Thesis_pre_research/(2-2)Stroke_MobileNet/best_model_2_2.ckpt\n",
            "850/850 [==============================] - 509s 599ms/step - loss: 0.8606 - acc: 0.7799 - val_loss: 0.8777 - val_acc: 0.7804\n",
            "Epoch 28/50\n",
            "849/850 [============================>.] - ETA: 0s - loss: 0.8500 - acc: 0.7817\n",
            "Epoch 00028: val_acc did not improve from 0.78035\n",
            "850/850 [==============================] - 508s 598ms/step - loss: 0.8499 - acc: 0.7817 - val_loss: 0.8925 - val_acc: 0.7747\n",
            "Epoch 29/50\n",
            "849/850 [============================>.] - ETA: 0s - loss: 0.8460 - acc: 0.7830\n",
            "Epoch 00029: val_acc did not improve from 0.78035\n",
            "850/850 [==============================] - 508s 597ms/step - loss: 0.8460 - acc: 0.7830 - val_loss: 0.8685 - val_acc: 0.7777\n",
            "Epoch 30/50\n",
            "849/850 [============================>.] - ETA: 0s - loss: 0.8281 - acc: 0.7861\n",
            "Epoch 00030: val_acc did not improve from 0.78035\n",
            "\n",
            "Epoch 00030: ReduceLROnPlateau reducing learning rate to 6.25000029685907e-05.\n",
            "850/850 [==============================] - 510s 600ms/step - loss: 0.8282 - acc: 0.7861 - val_loss: 0.8666 - val_acc: 0.7786\n",
            "Epoch 31/50\n",
            "849/850 [============================>.] - ETA: 0s - loss: 0.8102 - acc: 0.7911\n",
            "Epoch 00031: val_acc did not improve from 0.78035\n",
            "850/850 [==============================] - 510s 600ms/step - loss: 0.8101 - acc: 0.7911 - val_loss: 0.8964 - val_acc: 0.7740\n",
            "Epoch 32/50\n",
            "849/850 [============================>.] - ETA: 0s - loss: 0.7938 - acc: 0.7968\n",
            "Epoch 00032: val_acc did not improve from 0.78035\n",
            "850/850 [==============================] - 510s 600ms/step - loss: 0.7940 - acc: 0.7968 - val_loss: 0.8822 - val_acc: 0.7741\n",
            "Epoch 33/50\n",
            "849/850 [============================>.] - ETA: 0s - loss: 0.8154 - acc: 0.7910\n",
            "Epoch 00033: val_acc improved from 0.78035 to 0.78500, saving model to gdrive/My Drive/QW/Notebook/Quick Draw/Thesis_pre_research/(2-2)Stroke_MobileNet/best_model_2_2.ckpt\n",
            "850/850 [==============================] - 511s 601ms/step - loss: 0.8152 - acc: 0.7910 - val_loss: 0.8404 - val_acc: 0.7850\n",
            "Epoch 34/50\n",
            "849/850 [============================>.] - ETA: 0s - loss: 0.8119 - acc: 0.7925\n",
            "Epoch 00034: val_acc did not improve from 0.78500\n",
            "850/850 [==============================] - 509s 599ms/step - loss: 0.8120 - acc: 0.7924 - val_loss: 0.8561 - val_acc: 0.7797\n",
            "Epoch 35/50\n",
            "849/850 [============================>.] - ETA: 0s - loss: 0.7981 - acc: 0.7960\n",
            "Epoch 00035: val_acc did not improve from 0.78500\n",
            "\n",
            "Epoch 00035: ReduceLROnPlateau reducing learning rate to 3.125000148429535e-05.\n",
            "850/850 [==============================] - 510s 601ms/step - loss: 0.7981 - acc: 0.7960 - val_loss: 0.8453 - val_acc: 0.7845\n",
            "Epoch 36/50\n",
            "849/850 [============================>.] - ETA: 0s - loss: 0.7869 - acc: 0.7973\n",
            "Epoch 00036: val_acc did not improve from 0.78500\n",
            "850/850 [==============================] - 511s 601ms/step - loss: 0.7868 - acc: 0.7973 - val_loss: 0.8609 - val_acc: 0.7839\n",
            "Epoch 37/50\n",
            "849/850 [============================>.] - ETA: 0s - loss: 0.7802 - acc: 0.8014\n",
            "Epoch 00037: val_acc did not improve from 0.78500\n",
            "850/850 [==============================] - 513s 603ms/step - loss: 0.7802 - acc: 0.8014 - val_loss: 0.8643 - val_acc: 0.7808\n",
            "Epoch 38/50\n",
            "849/850 [============================>.] - ETA: 0s - loss: 0.8172 - acc: 0.7912\n",
            "Epoch 00038: val_acc improved from 0.78500 to 0.78565, saving model to gdrive/My Drive/QW/Notebook/Quick Draw/Thesis_pre_research/(2-2)Stroke_MobileNet/best_model_2_2.ckpt\n",
            "850/850 [==============================] - 514s 604ms/step - loss: 0.8173 - acc: 0.7912 - val_loss: 0.8400 - val_acc: 0.7856\n",
            "Epoch 39/50\n",
            "849/850 [============================>.] - ETA: 0s - loss: 0.8050 - acc: 0.7935\n",
            "Epoch 00039: val_acc did not improve from 0.78565\n",
            "850/850 [==============================] - 509s 599ms/step - loss: 0.8053 - acc: 0.7934 - val_loss: 0.8713 - val_acc: 0.7799\n",
            "Epoch 40/50\n",
            "849/850 [============================>.] - ETA: 0s - loss: 0.8075 - acc: 0.7929\n",
            "Epoch 00040: val_acc did not improve from 0.78565\n",
            "850/850 [==============================] - 507s 597ms/step - loss: 0.8075 - acc: 0.7929 - val_loss: 0.8824 - val_acc: 0.7744\n",
            "Epoch 41/50\n",
            "849/850 [============================>.] - ETA: 0s - loss: 0.7986 - acc: 0.7954\n",
            "Epoch 00041: val_acc did not improve from 0.78565\n",
            "\n",
            "Epoch 00041: ReduceLROnPlateau reducing learning rate to 1.5625000742147677e-05.\n",
            "850/850 [==============================] - 513s 603ms/step - loss: 0.7984 - acc: 0.7955 - val_loss: 0.8409 - val_acc: 0.7844\n",
            "Epoch 42/50\n",
            "849/850 [============================>.] - ETA: 0s - loss: 0.7858 - acc: 0.7986\n",
            "Epoch 00042: val_acc improved from 0.78565 to 0.78715, saving model to gdrive/My Drive/QW/Notebook/Quick Draw/Thesis_pre_research/(2-2)Stroke_MobileNet/best_model_2_2.ckpt\n",
            "850/850 [==============================] - 533s 627ms/step - loss: 0.7859 - acc: 0.7985 - val_loss: 0.8366 - val_acc: 0.7871\n",
            "Epoch 43/50\n",
            "849/850 [============================>.] - ETA: 0s - loss: 0.8090 - acc: 0.7924\n",
            "Epoch 00043: val_acc did not improve from 0.78715\n",
            "850/850 [==============================] - 535s 629ms/step - loss: 0.8090 - acc: 0.7924 - val_loss: 0.8406 - val_acc: 0.7834\n",
            "Epoch 44/50\n",
            "849/850 [============================>.] - ETA: 0s - loss: 0.8065 - acc: 0.7941\n",
            "Epoch 00044: val_acc did not improve from 0.78715\n",
            "850/850 [==============================] - 532s 626ms/step - loss: 0.8064 - acc: 0.7941 - val_loss: 0.8581 - val_acc: 0.7846\n",
            "Epoch 45/50\n",
            "849/850 [============================>.] - ETA: 0s - loss: 0.8044 - acc: 0.7937\n",
            "Epoch 00045: val_acc did not improve from 0.78715\n",
            "850/850 [==============================] - 532s 626ms/step - loss: 0.8045 - acc: 0.7937 - val_loss: 0.8569 - val_acc: 0.7835\n",
            "Epoch 46/50\n",
            "849/850 [============================>.] - ETA: 0s - loss: 0.7999 - acc: 0.7956\n",
            "Epoch 00046: val_acc did not improve from 0.78715\n",
            "\n",
            "Epoch 00046: ReduceLROnPlateau reducing learning rate to 7.812500371073838e-06.\n",
            "850/850 [==============================] - 533s 627ms/step - loss: 0.7999 - acc: 0.7956 - val_loss: 0.8358 - val_acc: 0.7871\n",
            "Epoch 47/50\n",
            "849/850 [============================>.] - ETA: 0s - loss: 0.7885 - acc: 0.7976\n",
            "Epoch 00047: val_acc did not improve from 0.78715\n",
            "850/850 [==============================] - 531s 625ms/step - loss: 0.7887 - acc: 0.7975 - val_loss: 0.8497 - val_acc: 0.7836\n",
            "Epoch 48/50\n",
            "849/850 [============================>.] - ETA: 0s - loss: 0.7783 - acc: 0.8001\n",
            "Epoch 00048: val_acc did not improve from 0.78715\n",
            "850/850 [==============================] - 531s 625ms/step - loss: 0.7782 - acc: 0.8001 - val_loss: 0.8794 - val_acc: 0.7771\n",
            "Epoch 49/50\n",
            "849/850 [============================>.] - ETA: 0s - loss: 0.7732 - acc: 0.8009\n",
            "Epoch 00049: val_acc did not improve from 0.78715\n",
            "850/850 [==============================] - 531s 624ms/step - loss: 0.7732 - acc: 0.8009 - val_loss: 0.8548 - val_acc: 0.7806\n",
            "Epoch 50/50\n",
            "849/850 [============================>.] - ETA: 0s - loss: 0.7553 - acc: 0.8042\n",
            "Epoch 00050: val_acc improved from 0.78715 to 0.79000, saving model to gdrive/My Drive/QW/Notebook/Quick Draw/Thesis_pre_research/(2-2)Stroke_MobileNet/best_model_2_2.ckpt\n",
            "850/850 [==============================] - 533s 627ms/step - loss: 0.7554 - acc: 0.8042 - val_loss: 0.8258 - val_acc: 0.7900\n",
            "finish training\n"
          ],
          "name": "stdout"
        },
        {
          "output_type": "display_data",
          "data": {
            "image/png": "[encoded data removed]",
            "text/plain": [
              "<matplotlib.figure.Figure at 0x7fccdad96278>"
            ]
          },
          "metadata": {
            "tags": []
          }
        },
        {
          "output_type": "display_data",
          "data": {
            "image/png": "[encoded data removed]",
            "text/plain": [
              "<matplotlib.figure.Figure at 0x7fccd3788128>"
            ]
          },
          "metadata": {
            "tags": []
          }
        },
        {
          "output_type": "stream",
          "text": [
            "finish!\n"
          ],
          "name": "stdout"
        }
      ]
    },
    {
      "metadata": {
        "id": "Xf7OWwaTdJEn",
        "colab_type": "text"
      },
      "cell_type": "markdown",
      "source": [
        "# Evaluate"
      ]
    },
    {
      "metadata": {
        "id": "WA_Jeo2AdIvS",
        "colab_type": "code",
        "outputId": "bfcf7837-106c-4f44-cc2d-3c809fcc23ce",
        "colab": {
          "base_uri": "https://localhost:8080/",
          "height": 35
        }
      },
      "cell_type": "code",
      "source": [
        "def top_3_accuracy(X, Y):\n",
        "        return sparse_top_k_categorical_accuracy(X, Y, 3)\n",
        "  \n",
        "def top_5_accuracy(X, Y):\n",
        "        return sparse_top_k_categorical_accuracy(X, Y, 5)\n",
        "  \n",
        "model_E = MODEL\n",
        "model_E.compile(loss=tf.keras.losses.sparse_categorical_crossentropy,\n",
        "              optimizer=tf.train.AdamOptimizer(),\n",
        "              metrics=['accuracy',top_3_accuracy, top_5_accuracy])\n",
        "\n",
        "model_weights_path = CKPT_PATH\n",
        "model_E.load_weights(model_weights_path)\n",
        "print('finish')"
      ],
      "execution_count": 0,
      "outputs": [
        {
          "output_type": "stream",
          "text": [
            "finish\n"
          ],
          "name": "stdout"
        }
      ]
    },
    {
      "metadata": {
        "id": "hks1cNludS1s",
        "colab_type": "code",
        "outputId": "4f0ba01d-bcc9-4359-d088-d73c2e2205ef",
        "colab": {
          "base_uri": "https://localhost:8080/",
          "height": 107
        }
      },
      "cell_type": "code",
      "source": [
        "result = model_E.evaluate_generator(\n",
        "    generate_data(valid_data, BATCH_SIZE, False),\n",
        "    steps = EVALUATE_STEPS,\n",
        "    verbose = 1\n",
        ")\n",
        "\n",
        "print('loss:', result[0])\n",
        "print('top1 accuracy:', result[1])\n",
        "print('top3 accuracy:', result[2])\n",
        "print('top3 accuracy:', result[3])"
      ],
      "execution_count": 0,
      "outputs": [
        {
          "output_type": "stream",
          "text": [
            "850/850 [==============================] - 138s 162ms/step\n",
            "loss: 0.8496719417501898\n",
            "top1 accuracy: 0.7838941168083864\n",
            "top3 accuracy: 0.9139941189569586\n",
            "top3 accuracy: 0.9383294103426092\n"
          ],
          "name": "stdout"
        }
      ]
    }
  ]
}