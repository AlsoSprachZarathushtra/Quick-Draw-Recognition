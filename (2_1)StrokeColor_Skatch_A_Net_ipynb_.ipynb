{
  "nbformat": 4,
  "nbformat_minor": 0,
  "metadata": {
    "colab": {
      "name": "(2-1)StrokeColor_Skatch-A-Net.ipynb.",
      "version": "0.3.2",
      "provenance": [],
      "collapsed_sections": [],
      "toc_visible": true,
      "include_colab_link": true
    },
    "kernelspec": {
      "name": "python3",
      "display_name": "Python 3"
    },
    "accelerator": "GPU"
  },
  "cells": [
    {
      "cell_type": "markdown",
      "metadata": {
        "id": "view-in-github",
        "colab_type": "text"
      },
      "source": [
        "<a href=\"https://colab.research.google.com/github/AlsoSprachZarathushtra/Quick-Draw-Recognition/blob/master/(2_1)StrokeColor_Skatch_A_Net_ipynb_.ipynb\" target=\"_parent\"><img src=\"https://colab.research.google.com/assets/colab-badge.svg\" alt=\"Open In Colab\"/></a>"
      ]
    },
    {
      "metadata": {
        "id": "ioxMYD5fIN0l",
        "colab_type": "text"
      },
      "cell_type": "markdown",
      "source": [
        "# Connect Google Drive"
      ]
    },
    {
      "metadata": {
        "id": "QfwNChIWH-gL",
        "colab_type": "code",
        "outputId": "60d18612-37d5-48e8-d71e-5d599c01d811",
        "colab": {
          "base_uri": "https://localhost:8080/",
          "height": 35
        }
      },
      "cell_type": "code",
      "source": [
        "from google.colab import drive\n",
        "drive.mount('/content/gdrive')"
      ],
      "execution_count": 0,
      "outputs": [
        {
          "output_type": "stream",
          "text": [
            "Drive already mounted at /content/gdrive; to attempt to forcibly remount, call drive.mount(\"/content/gdrive\", force_remount=True).\n"
          ],
          "name": "stdout"
        }
      ]
    },
    {
      "metadata": {
        "id": "bEMTrWPCLoJL",
        "colab_type": "text"
      },
      "cell_type": "markdown",
      "source": [
        "# Import"
      ]
    },
    {
      "metadata": {
        "id": "Bwe8XgfZExAn",
        "colab_type": "code",
        "colab": {}
      },
      "cell_type": "code",
      "source": [
        "import tensorflow as tf\n",
        "import numpy as np\n",
        "import pandas as pd\n",
        "import matplotlib.pyplot as plt\n",
        "import cv2\n",
        "import os\n",
        "\n",
        "from tensorflow import keras\n",
        "from tensorflow.keras.layers import Input\n",
        "from tensorflow.keras.layers import Conv2D\n",
        "from tensorflow.keras.layers import MaxPool2D\n",
        "from tensorflow.keras.layers import ReLU\n",
        "from tensorflow.keras.layers import Softmax\n",
        "from tensorflow.keras.layers import Flatten\n",
        "from tensorflow.keras.layers import Dropout\n",
        "from tensorflow.keras.layers import BatchNormalization\n",
        "from tensorflow.keras.metrics import sparse_top_k_categorical_accuracy\n",
        "from tensorflow.keras.callbacks import CSVLogger\n",
        "from ast import literal_eval"
      ],
      "execution_count": 0,
      "outputs": []
    },
    {
      "metadata": {
        "id": "JUvwhYjZIe-M",
        "colab_type": "text"
      },
      "cell_type": "markdown",
      "source": [
        "# Parameters  and  Work-Space Paths"
      ]
    },
    {
      "metadata": {
        "id": "dPOH3112IVQN",
        "colab_type": "code",
        "outputId": "73ac82ee-9acc-4363-d127-5f810d87ba57",
        "colab": {
          "base_uri": "https://localhost:8080/",
          "height": 35
        }
      },
      "cell_type": "code",
      "source": [
        "# parameters\n",
        "BATCH_SIZE = 200\n",
        "EPOCHS = 50\n",
        "STEPS_PER_EPOCH = 850\n",
        "VALIDATION_STEPS = 100\n",
        "EVALUATE_STEPS = 850\n",
        "IMAGE_SIZE = 225\n",
        "LINE_SIZE = 3\n",
        "\n",
        "\n",
        "# load path\n",
        "TRAIN_DATA_PATH = 'gdrive/My Drive/QW/Data/Data_10000/All_classes_10000.csv'\n",
        "VALID_DATA_PATH = 'gdrive/My Drive/QW/Data/My_test_data/My_test_data.csv'\n",
        "LABEL_DICT_PATH = 'gdrive/My Drive/QW/Data/labels_dict.npy'\n",
        "\n",
        "# save path\n",
        "CKPT_PATH = 'gdrive/My Drive/QW/Notebook/Quick Draw/Thesis_pre_research/(2-1)StrokeColor_Skatch-A-Net/best_model_2_1.ckpt'\n",
        "LOSS_PLOT_PATH = 'gdrive/My Drive/QW/Notebook/Quick Draw/Thesis_pre_research/(2-1)StrokeColor_Skatch-A-Net/loss_plot_2_1.png'\n",
        "ACC_PLOT_PATH = 'gdrive/My Drive/QW/Notebook/Quick Draw/Thesis_pre_research/(2-1)StrokeColor_Skatch-A-Net/acc_plot_2_1.png'\n",
        "LOG_PATH = 'gdrive/My Drive/QW/Notebook/Quick Draw/Thesis_pre_research/(2-1)StrokeColor_Skatch-A-Net/Log_2_1.log'\n",
        "\n",
        "print('finish!')"
      ],
      "execution_count": 0,
      "outputs": [
        {
          "output_type": "stream",
          "text": [
            "finish!\n"
          ],
          "name": "stdout"
        }
      ]
    },
    {
      "metadata": {
        "id": "bTH2CjZKLbQ7",
        "colab_type": "text"
      },
      "cell_type": "markdown",
      "source": [
        "# Generator"
      ]
    },
    {
      "metadata": {
        "id": "kCe0hZq3ZBtp",
        "colab_type": "code",
        "outputId": "0a03a098-a919-40db-f201-f041754fd115",
        "colab": {
          "base_uri": "https://localhost:8080/",
          "height": 35
        }
      },
      "cell_type": "code",
      "source": [
        "def generate_data(data, batch_size, choose_recognized):\n",
        "    data = data.sample(frac = 1)\n",
        "    while 1:\n",
        "        \n",
        "#         get columns' values named 'drawing', 'word' and 'recognized'\n",
        "        drawings = data[\"drawing\"].values\n",
        "        drawing_recognized = data[\"recognized\"].values\n",
        "        drawing_class = data[\"word\"].values\n",
        "      \n",
        "#         initialization\n",
        "        cnt = 0\n",
        "        data_X =[]\n",
        "        data_Y =[]\n",
        "        \n",
        "#         generate batch\n",
        "        for i in range(len(drawings)):\n",
        "            if choose_recognized:\n",
        "                if drawing_recognized[i] == 'False':    #Choose according to recognized value\n",
        "                    continue\n",
        "            draw = drawings[i]\n",
        "            label = drawing_class[i]\n",
        "            stroke_vec = literal_eval(draw)\n",
        "            img = np.zeros([256, 256])\n",
        "            x = []\n",
        "            for j in range(len(stroke_vec)): \n",
        "                line = np.array(stroke_vec[j]).T\n",
        "                cv2.polylines(img, [line], False, 255-(13*min(j,10)), LINE_SIZE)\n",
        "            img = cv2.resize(img, (IMAGE_SIZE,IMAGE_SIZE), interpolation = cv2.INTER_NEAREST)\n",
        "            img = img[:,:, np.newaxis]\n",
        "            x = img\n",
        "            y = labels2nums_dict[label]\n",
        "            data_X.append(x)\n",
        "            data_Y.append(y)\n",
        "            cnt += 1\n",
        "            if cnt==batch_size:        #generate a batch when cnt reaches batch_size \n",
        "                cnt = 0\n",
        "                yield (np.array(data_X), np.array(data_Y))\n",
        "                data_X = []\n",
        "                data_Y = []\n",
        "\n",
        "print('finish!')"
      ],
      "execution_count": 0,
      "outputs": [
        {
          "output_type": "stream",
          "text": [
            "finish!\n"
          ],
          "name": "stdout"
        }
      ]
    },
    {
      "metadata": {
        "id": "Z3SIDIfoSR2d",
        "colab_type": "text"
      },
      "cell_type": "markdown",
      "source": [
        "# Callbacks"
      ]
    },
    {
      "metadata": {
        "id": "fhoAdkcESQiM",
        "colab_type": "code",
        "outputId": "95bafd29-caa5-46e8-bdbc-8f35d403a78b",
        "colab": {
          "base_uri": "https://localhost:8080/",
          "height": 35
        }
      },
      "cell_type": "code",
      "source": [
        "# define a class named LossHitory \n",
        "class LossHistory(keras.callbacks.Callback):\n",
        "    def on_train_begin(self, logs={}):\n",
        "        self.losses = {'batch':[], 'epoch':[]}\n",
        "        self.accuracy = {'batch':[], 'epoch':[]}\n",
        "        self.val_loss = {'batch':[], 'epoch':[]}\n",
        "        self.val_acc = {'batch':[], 'epoch':[]}\n",
        "\n",
        "    def on_batch_end(self, batch, logs={}):\n",
        "        self.losses['batch'].append(logs.get('loss'))\n",
        "        self.accuracy['batch'].append(logs.get('acc'))\n",
        "        self.val_loss['batch'].append(logs.get('val_loss'))\n",
        "        self.val_acc['batch'].append(logs.get('val_acc'))\n",
        "\n",
        "    def on_epoch_end(self, batch, logs={}):\n",
        "        self.losses['epoch'].append(logs.get('loss'))\n",
        "        self.accuracy['epoch'].append(logs.get('acc'))\n",
        "        self.val_loss['epoch'].append(logs.get('val_loss'))\n",
        "        self.val_acc['epoch'].append(logs.get('val_acc'))\n",
        "\n",
        "    def loss_plot(self, loss_type, loss_fig_save_path, acc_fig_save_path):\n",
        "        iters = range(len(self.losses[loss_type]))\n",
        "        plt.figure('acc')\n",
        "        plt.plot(iters, self.accuracy[loss_type], 'r', label='train acc')\n",
        "        plt.plot(iters, self.val_acc[loss_type], 'b', label='val acc')\n",
        "        plt.grid(True)\n",
        "        plt.xlabel(loss_type)\n",
        "        plt.ylabel('acc')\n",
        "        plt.legend(loc=\"upper right\")\n",
        "        plt.savefig(acc_fig_save_path)\n",
        "        plt.show()\n",
        "        \n",
        "        \n",
        "        plt.figure('loss')\n",
        "        plt.plot(iters, self.losses[loss_type], 'g', label='train loss')\n",
        "        plt.plot(iters, self.val_loss[loss_type], 'k', label='val loss')\n",
        "        plt.grid(True)\n",
        "        plt.xlabel(loss_type)\n",
        "        plt.ylabel('loss')\n",
        "        plt.legend(loc=\"upper right\")\n",
        "        plt.savefig(loss_fig_save_path)\n",
        "        plt.show()\n",
        "        \n",
        "# create a object from LossHistory class\n",
        "History = LossHistory()\n",
        "\n",
        "print(\"finish!\")"
      ],
      "execution_count": 0,
      "outputs": [
        {
          "output_type": "stream",
          "text": [
            "finish!\n"
          ],
          "name": "stdout"
        }
      ]
    },
    {
      "metadata": {
        "id": "zUBqEb49S7qZ",
        "colab_type": "code",
        "outputId": "26b570ea-fa91-42b2-f956-ab02c52db7e4",
        "colab": {
          "base_uri": "https://localhost:8080/",
          "height": 35
        }
      },
      "cell_type": "code",
      "source": [
        "\n",
        "cp_callback = tf.keras.callbacks.ModelCheckpoint(\n",
        "    CKPT_PATH, \n",
        "    verbose = 1, \n",
        "    monitor='val_acc', \n",
        "    mode = 'max', \n",
        "    save_best_only=True)\n",
        "\n",
        "print(\"finish!\")"
      ],
      "execution_count": 0,
      "outputs": [
        {
          "output_type": "stream",
          "text": [
            "finish!\n"
          ],
          "name": "stdout"
        }
      ]
    },
    {
      "metadata": {
        "id": "2_7FrYorZgCY",
        "colab_type": "code",
        "colab": {}
      },
      "cell_type": "code",
      "source": [
        "ReduceLR = tf.keras.callbacks.ReduceLROnPlateau(monitor='val_acc', factor=0.5, patience=3,\n",
        "                      min_delta=0.005, mode='max', cooldown=3, verbose=1)"
      ],
      "execution_count": 0,
      "outputs": []
    },
    {
      "metadata": {
        "id": "W5GKc5-E4Bj8",
        "colab_type": "code",
        "colab": {}
      },
      "cell_type": "code",
      "source": [
        "csv_logger = CSVLogger(LOG_PATH, separator=',', append=True)"
      ],
      "execution_count": 0,
      "outputs": []
    },
    {
      "metadata": {
        "id": "bwRxaI2QTibU",
        "colab_type": "text"
      },
      "cell_type": "markdown",
      "source": [
        "# Load Data"
      ]
    },
    {
      "metadata": {
        "id": "aj041zzZTwrF",
        "colab_type": "code",
        "outputId": "bc95ca97-fc24-4575-cd45-193fc01137d2",
        "colab": {
          "base_uri": "https://localhost:8080/",
          "height": 35
        }
      },
      "cell_type": "code",
      "source": [
        "# load train data and valid data\n",
        "#  labels_dict and data path\n",
        "\n",
        "# labels convert into nums\n",
        "labels_dict = np.load(LABEL_DICT_PATH)\n",
        "labels2nums_dict = {v: k for k, v in enumerate(labels_dict)}\n",
        "\n",
        "# read csv \n",
        "train_data = pd.read_csv(TRAIN_DATA_PATH)\n",
        "valid_data = pd.read_csv(VALID_DATA_PATH)\n",
        "\n",
        "print('finish!')"
      ],
      "execution_count": 0,
      "outputs": [
        {
          "output_type": "stream",
          "text": [
            "finish!\n"
          ],
          "name": "stdout"
        }
      ]
    },
    {
      "metadata": {
        "id": "D_sA1QMzUysO",
        "colab_type": "text"
      },
      "cell_type": "markdown",
      "source": [
        "# Model"
      ]
    },
    {
      "metadata": {
        "id": "-DXg_7LEU1Ap",
        "colab_type": "code",
        "outputId": "246f3f93-225a-4c40-a3c9-cdd40df74ecc",
        "colab": {
          "base_uri": "https://localhost:8080/",
          "height": 1223
        }
      },
      "cell_type": "code",
      "source": [
        "\n",
        "x_input = Input(shape=(IMAGE_SIZE,IMAGE_SIZE,1), name='Input')\n",
        "\n",
        "x = Conv2D(64, (15,15), strides=3, padding='valid',name='Conv2D_1')(x_input)\n",
        "x = BatchNormalization(name='BN_1')(x)\n",
        "x = ReLU(name='ReLU_1')(x)\n",
        "x = MaxPool2D(pool_size=(3,3),strides=2, name='Pooling_1')(x)\n",
        "\n",
        "x = Conv2D(128, (5,5), strides=1, padding='valid',name='Conv2D_2')(x)\n",
        "x = BatchNormalization(name='BN_2')(x)\n",
        "x = ReLU(name='ReLU_2')(x)\n",
        "x = MaxPool2D(pool_size=(3,3),strides=2, name='Pooling_2')(x)\n",
        "\n",
        "x = Conv2D(256, (3,3), strides=1, padding='same',name='Conv2D_3')(x)\n",
        "x = BatchNormalization(name='BN_3')(x)\n",
        "x = ReLU(name='ReLU_3')(x)\n",
        "\n",
        "x = Conv2D(256, (3,3), strides=1, padding='same',name='Conv2D_4')(x)\n",
        "x = BatchNormalization(name='BN_4')(x)\n",
        "x = ReLU(name='ReLU_4')(x)\n",
        "\n",
        "x = Conv2D(256, (3,3), strides=1, padding='same',name='Conv2D_5')(x)\n",
        "x = BatchNormalization(name='BN_5')(x)\n",
        "x = ReLU(name='ReLU_5')(x)\n",
        "x = MaxPool2D(pool_size=(3,3),strides=2, name='Pooling_5')(x)\n",
        "\n",
        "x_shape = x.shape[1]\n",
        "x = Conv2D(512, (int(x_shape),int(x_shape)), strides=1, padding='valid',name='Conv2D_FC_6')(x)\n",
        "x = BatchNormalization(name='BN_6')(x)\n",
        "x = ReLU(name='ReLU_6')(x)\n",
        "x = Dropout(0.5,name='Dropout_6')(x)\n",
        "\n",
        "x = Conv2D(512, (1,1), strides=1, padding='valid',name='Conv2D_FC_7')(x)\n",
        "x = BatchNormalization(name='BN_7')(x)\n",
        "x = ReLU(name='ReLU_7')(x)\n",
        "x = Dropout(0.5,name='Dropout_7')(x)\n",
        "\n",
        "x = Conv2D(340, (1,1), strides=1, padding='valid',name='Conv2D_FC_8')(x)\n",
        "x = Flatten(name='Flatten')(x)\n",
        "x_output = Softmax(name='Softmax')(x)\n",
        "\n",
        "MODEL = keras.models.Model(inputs=x_input, outputs=x_output)\n",
        "MODEL.summary()"
      ],
      "execution_count": 0,
      "outputs": [
        {
          "output_type": "stream",
          "text": [
            "_________________________________________________________________\n",
            "Layer (type)                 Output Shape              Param #   \n",
            "=================================================================\n",
            "Input (InputLayer)           (None, 225, 225, 1)       0         \n",
            "_________________________________________________________________\n",
            "Conv2D_1 (Conv2D)            (None, 71, 71, 64)        14464     \n",
            "_________________________________________________________________\n",
            "BN_1 (BatchNormalization)    (None, 71, 71, 64)        256       \n",
            "_________________________________________________________________\n",
            "ReLU_1 (ReLU)                (None, 71, 71, 64)        0         \n",
            "_________________________________________________________________\n",
            "Pooling_1 (MaxPooling2D)     (None, 35, 35, 64)        0         \n",
            "_________________________________________________________________\n",
            "Conv2D_2 (Conv2D)            (None, 31, 31, 128)       204928    \n",
            "_________________________________________________________________\n",
            "BN_2 (BatchNormalization)    (None, 31, 31, 128)       512       \n",
            "_________________________________________________________________\n",
            "ReLU_2 (ReLU)                (None, 31, 31, 128)       0         \n",
            "_________________________________________________________________\n",
            "Pooling_2 (MaxPooling2D)     (None, 15, 15, 128)       0         \n",
            "_________________________________________________________________\n",
            "Conv2D_3 (Conv2D)            (None, 15, 15, 256)       295168    \n",
            "_________________________________________________________________\n",
            "BN_3 (BatchNormalization)    (None, 15, 15, 256)       1024      \n",
            "_________________________________________________________________\n",
            "ReLU_3 (ReLU)                (None, 15, 15, 256)       0         \n",
            "_________________________________________________________________\n",
            "Conv2D_4 (Conv2D)            (None, 15, 15, 256)       590080    \n",
            "_________________________________________________________________\n",
            "BN_4 (BatchNormalization)    (None, 15, 15, 256)       1024      \n",
            "_________________________________________________________________\n",
            "ReLU_4 (ReLU)                (None, 15, 15, 256)       0         \n",
            "_________________________________________________________________\n",
            "Conv2D_5 (Conv2D)            (None, 15, 15, 256)       590080    \n",
            "_________________________________________________________________\n",
            "BN_5 (BatchNormalization)    (None, 15, 15, 256)       1024      \n",
            "_________________________________________________________________\n",
            "ReLU_5 (ReLU)                (None, 15, 15, 256)       0         \n",
            "_________________________________________________________________\n",
            "Pooling_5 (MaxPooling2D)     (None, 7, 7, 256)         0         \n",
            "_________________________________________________________________\n",
            "Conv2D_FC_6 (Conv2D)         (None, 1, 1, 512)         6423040   \n",
            "_________________________________________________________________\n",
            "BN_6 (BatchNormalization)    (None, 1, 1, 512)         2048      \n",
            "_________________________________________________________________\n",
            "ReLU_6 (ReLU)                (None, 1, 1, 512)         0         \n",
            "_________________________________________________________________\n",
            "Dropout_6 (Dropout)          (None, 1, 1, 512)         0         \n",
            "_________________________________________________________________\n",
            "Conv2D_FC_7 (Conv2D)         (None, 1, 1, 512)         262656    \n",
            "_________________________________________________________________\n",
            "BN_7 (BatchNormalization)    (None, 1, 1, 512)         2048      \n",
            "_________________________________________________________________\n",
            "ReLU_7 (ReLU)                (None, 1, 1, 512)         0         \n",
            "_________________________________________________________________\n",
            "Dropout_7 (Dropout)          (None, 1, 1, 512)         0         \n",
            "_________________________________________________________________\n",
            "Conv2D_FC_8 (Conv2D)         (None, 1, 1, 340)         174420    \n",
            "_________________________________________________________________\n",
            "Flatten (Flatten)            (None, 340)               0         \n",
            "_________________________________________________________________\n",
            "Softmax (Softmax)            (None, 340)               0         \n",
            "=================================================================\n",
            "Total params: 8,562,772\n",
            "Trainable params: 8,558,804\n",
            "Non-trainable params: 3,968\n",
            "_________________________________________________________________\n"
          ],
          "name": "stdout"
        }
      ]
    },
    {
      "metadata": {
        "id": "02zm3e7qU87T",
        "colab_type": "text"
      },
      "cell_type": "markdown",
      "source": [
        "# TPU Complie"
      ]
    },
    {
      "metadata": {
        "id": "Rtz3F1UAU_RW",
        "colab_type": "code",
        "outputId": "3933c2da-5c19-4588-fef6-8df79e39dac6",
        "colab": {
          "base_uri": "https://localhost:8080/",
          "height": 35
        }
      },
      "cell_type": "code",
      "source": [
        "model = MODEL\n",
        "model.compile(loss='sparse_categorical_crossentropy',\n",
        "              optimizer='adam',\n",
        "              metrics=['accuracy'])\n",
        "\n",
        "print('finish')\n"
      ],
      "execution_count": 0,
      "outputs": [
        {
          "output_type": "stream",
          "text": [
            "finish\n"
          ],
          "name": "stdout"
        }
      ]
    },
    {
      "metadata": {
        "id": "hOj3QaVNVm-H",
        "colab_type": "text"
      },
      "cell_type": "markdown",
      "source": [
        "# Train"
      ]
    },
    {
      "metadata": {
        "id": "5Kl8pgH8Vope",
        "colab_type": "code",
        "outputId": "b489eb14-fe16-4e54-c52c-2ed7cc0807f3",
        "colab": {
          "base_uri": "https://localhost:8080/",
          "height": 4596
        }
      },
      "cell_type": "code",
      "source": [
        "print('start training')\n",
        "# callbacks = [History, cp_callback]\n",
        "\n",
        "history = model.fit_generator(generate_data(train_data, BATCH_SIZE, True),\n",
        "                              steps_per_epoch = STEPS_PER_EPOCH,\n",
        "                              epochs = EPOCHS,\n",
        "                              validation_data = generate_data(valid_data, BATCH_SIZE, False) ,\n",
        "                              validation_steps = VALIDATION_STEPS,\n",
        "                              verbose = 1,\n",
        "                              initial_epoch = 0,\n",
        "                              callbacks = [History,cp_callback,ReduceLR,csv_logger]\n",
        "                             )\n",
        "print(\"finish training\")\n",
        "\n",
        "History.loss_plot('epoch', LOSS_PLOT_PATH, ACC_PLOT_PATH)\n",
        "\n",
        "print('finish!')"
      ],
      "execution_count": 0,
      "outputs": [
        {
          "output_type": "stream",
          "text": [
            "start training\n",
            "Epoch 1/50\n",
            "849/850 [============================>.] - ETA: 0s - loss: 3.8941 - acc: 0.1969\n",
            "Epoch 00001: val_acc improved from -inf to 0.39465, saving model to gdrive/My Drive/QW/Notebook/Quick Draw/Thesis_pre_research/(2-1)StrokeColor_Skatch-A-Net/best_model_2_1.ckpt\n",
            "850/850 [==============================] - 387s 456ms/step - loss: 3.8926 - acc: 0.1971 - val_loss: 2.6247 - val_acc: 0.3946\n",
            "Epoch 2/50\n",
            "849/850 [============================>.] - ETA: 0s - loss: 2.6675 - acc: 0.3848\n",
            "Epoch 00002: val_acc improved from 0.39465 to 0.47900, saving model to gdrive/My Drive/QW/Notebook/Quick Draw/Thesis_pre_research/(2-1)StrokeColor_Skatch-A-Net/best_model_2_1.ckpt\n",
            "850/850 [==============================] - 377s 444ms/step - loss: 2.6675 - acc: 0.3848 - val_loss: 2.1809 - val_acc: 0.4790\n",
            "Epoch 3/50\n",
            "849/850 [============================>.] - ETA: 0s - loss: 2.3318 - acc: 0.4522\n",
            "Epoch 00003: val_acc improved from 0.47900 to 0.54445, saving model to gdrive/My Drive/QW/Notebook/Quick Draw/Thesis_pre_research/(2-1)StrokeColor_Skatch-A-Net/best_model_2_1.ckpt\n",
            "850/850 [==============================] - 378s 445ms/step - loss: 2.3316 - acc: 0.4522 - val_loss: 1.8988 - val_acc: 0.5444\n",
            "Epoch 4/50\n",
            "849/850 [============================>.] - ETA: 0s - loss: 2.1677 - acc: 0.4867\n",
            "Epoch 00004: val_acc improved from 0.54445 to 0.56575, saving model to gdrive/My Drive/QW/Notebook/Quick Draw/Thesis_pre_research/(2-1)StrokeColor_Skatch-A-Net/best_model_2_1.ckpt\n",
            "850/850 [==============================] - 378s 445ms/step - loss: 2.1676 - acc: 0.4868 - val_loss: 1.8030 - val_acc: 0.5657\n",
            "Epoch 5/50\n",
            "849/850 [============================>.] - ETA: 0s - loss: 2.0528 - acc: 0.5103\n",
            "Epoch 00005: val_acc improved from 0.56575 to 0.58080, saving model to gdrive/My Drive/QW/Notebook/Quick Draw/Thesis_pre_research/(2-1)StrokeColor_Skatch-A-Net/best_model_2_1.ckpt\n",
            "850/850 [==============================] - 377s 443ms/step - loss: 2.0527 - acc: 0.5104 - val_loss: 1.7436 - val_acc: 0.5808\n",
            "Epoch 6/50\n",
            "849/850 [============================>.] - ETA: 0s - loss: 1.9624 - acc: 0.5287\n",
            "Epoch 00006: val_acc improved from 0.58080 to 0.60580, saving model to gdrive/My Drive/QW/Notebook/Quick Draw/Thesis_pre_research/(2-1)StrokeColor_Skatch-A-Net/best_model_2_1.ckpt\n",
            "850/850 [==============================] - 377s 443ms/step - loss: 1.9621 - acc: 0.5287 - val_loss: 1.6372 - val_acc: 0.6058\n",
            "Epoch 7/50\n",
            "849/850 [============================>.] - ETA: 0s - loss: 1.8950 - acc: 0.5424\n",
            "Epoch 00007: val_acc improved from 0.60580 to 0.62155, saving model to gdrive/My Drive/QW/Notebook/Quick Draw/Thesis_pre_research/(2-1)StrokeColor_Skatch-A-Net/best_model_2_1.ckpt\n",
            "850/850 [==============================] - 377s 443ms/step - loss: 1.8948 - acc: 0.5425 - val_loss: 1.5491 - val_acc: 0.6216\n",
            "Epoch 8/50\n",
            "849/850 [============================>.] - ETA: 0s - loss: 1.8435 - acc: 0.5566\n",
            "Epoch 00008: val_acc improved from 0.62155 to 0.62295, saving model to gdrive/My Drive/QW/Notebook/Quick Draw/Thesis_pre_research/(2-1)StrokeColor_Skatch-A-Net/best_model_2_1.ckpt\n",
            "850/850 [==============================] - 377s 443ms/step - loss: 1.8434 - acc: 0.5567 - val_loss: 1.5613 - val_acc: 0.6229\n",
            "Epoch 9/50\n",
            "849/850 [============================>.] - ETA: 0s - loss: 1.8053 - acc: 0.5638\n",
            "Epoch 00009: val_acc improved from 0.62295 to 0.63075, saving model to gdrive/My Drive/QW/Notebook/Quick Draw/Thesis_pre_research/(2-1)StrokeColor_Skatch-A-Net/best_model_2_1.ckpt\n",
            "850/850 [==============================] - 376s 443ms/step - loss: 1.8055 - acc: 0.5638 - val_loss: 1.5016 - val_acc: 0.6308\n",
            "Epoch 10/50\n",
            "849/850 [============================>.] - ETA: 0s - loss: 1.7765 - acc: 0.5722\n",
            "Epoch 00010: val_acc improved from 0.63075 to 0.64190, saving model to gdrive/My Drive/QW/Notebook/Quick Draw/Thesis_pre_research/(2-1)StrokeColor_Skatch-A-Net/best_model_2_1.ckpt\n",
            "850/850 [==============================] - 378s 444ms/step - loss: 1.7762 - acc: 0.5723 - val_loss: 1.4643 - val_acc: 0.6419\n",
            "Epoch 11/50\n",
            "849/850 [============================>.] - ETA: 0s - loss: 1.7327 - acc: 0.5814\n",
            "Epoch 00011: val_acc improved from 0.64190 to 0.64475, saving model to gdrive/My Drive/QW/Notebook/Quick Draw/Thesis_pre_research/(2-1)StrokeColor_Skatch-A-Net/best_model_2_1.ckpt\n",
            "850/850 [==============================] - 379s 446ms/step - loss: 1.7328 - acc: 0.5813 - val_loss: 1.4487 - val_acc: 0.6448\n",
            "Epoch 12/50\n",
            "849/850 [============================>.] - ETA: 0s - loss: 1.7013 - acc: 0.5872\n",
            "Epoch 00012: val_acc improved from 0.64475 to 0.66140, saving model to gdrive/My Drive/QW/Notebook/Quick Draw/Thesis_pre_research/(2-1)StrokeColor_Skatch-A-Net/best_model_2_1.ckpt\n",
            "850/850 [==============================] - 376s 443ms/step - loss: 1.7013 - acc: 0.5872 - val_loss: 1.3741 - val_acc: 0.6614\n",
            "Epoch 13/50\n",
            "849/850 [============================>.] - ETA: 0s - loss: 1.6855 - acc: 0.5926\n",
            "Epoch 00013: val_acc did not improve from 0.66140\n",
            "850/850 [==============================] - 377s 443ms/step - loss: 1.6855 - acc: 0.5926 - val_loss: 1.3968 - val_acc: 0.6534\n",
            "Epoch 14/50\n",
            "849/850 [============================>.] - ETA: 0s - loss: 1.6563 - acc: 0.5971\n",
            "Epoch 00014: val_acc improved from 0.66140 to 0.66705, saving model to gdrive/My Drive/QW/Notebook/Quick Draw/Thesis_pre_research/(2-1)StrokeColor_Skatch-A-Net/best_model_2_1.ckpt\n",
            "850/850 [==============================] - 378s 445ms/step - loss: 1.6563 - acc: 0.5971 - val_loss: 1.3629 - val_acc: 0.6671\n",
            "Epoch 15/50\n",
            "849/850 [============================>.] - ETA: 0s - loss: 1.6341 - acc: 0.6046\n",
            "Epoch 00015: val_acc improved from 0.66705 to 0.66855, saving model to gdrive/My Drive/QW/Notebook/Quick Draw/Thesis_pre_research/(2-1)StrokeColor_Skatch-A-Net/best_model_2_1.ckpt\n",
            "850/850 [==============================] - 378s 445ms/step - loss: 1.6343 - acc: 0.6046 - val_loss: 1.3530 - val_acc: 0.6686\n",
            "Epoch 16/50\n",
            "849/850 [============================>.] - ETA: 0s - loss: 1.6199 - acc: 0.6069\n",
            "Epoch 00016: val_acc did not improve from 0.66855\n",
            "850/850 [==============================] - 376s 442ms/step - loss: 1.6202 - acc: 0.6069 - val_loss: 1.3713 - val_acc: 0.6575\n",
            "Epoch 17/50\n",
            "849/850 [============================>.] - ETA: 0s - loss: 1.6173 - acc: 0.6075\n",
            "Epoch 00017: val_acc improved from 0.66855 to 0.67000, saving model to gdrive/My Drive/QW/Notebook/Quick Draw/Thesis_pre_research/(2-1)StrokeColor_Skatch-A-Net/best_model_2_1.ckpt\n",
            "\n",
            "Epoch 00017: ReduceLROnPlateau reducing learning rate to 0.0005000000237487257.\n",
            "850/850 [==============================] - 379s 446ms/step - loss: 1.6176 - acc: 0.6074 - val_loss: 1.3229 - val_acc: 0.6700\n",
            "Epoch 18/50\n",
            "849/850 [============================>.] - ETA: 0s - loss: 1.5386 - acc: 0.6271\n",
            "Epoch 00018: val_acc improved from 0.67000 to 0.69380, saving model to gdrive/My Drive/QW/Notebook/Quick Draw/Thesis_pre_research/(2-1)StrokeColor_Skatch-A-Net/best_model_2_1.ckpt\n",
            "850/850 [==============================] - 379s 445ms/step - loss: 1.5386 - acc: 0.6272 - val_loss: 1.2598 - val_acc: 0.6938\n",
            "Epoch 19/50\n",
            "849/850 [============================>.] - ETA: 0s - loss: 1.5188 - acc: 0.6306\n",
            "Epoch 00019: val_acc improved from 0.69380 to 0.69660, saving model to gdrive/My Drive/QW/Notebook/Quick Draw/Thesis_pre_research/(2-1)StrokeColor_Skatch-A-Net/best_model_2_1.ckpt\n",
            "850/850 [==============================] - 378s 445ms/step - loss: 1.5188 - acc: 0.6306 - val_loss: 1.2129 - val_acc: 0.6966\n",
            "Epoch 20/50\n",
            "849/850 [============================>.] - ETA: 0s - loss: 1.4950 - acc: 0.6357\n",
            "Epoch 00020: val_acc did not improve from 0.69660\n",
            "850/850 [==============================] - 375s 441ms/step - loss: 1.4949 - acc: 0.6358 - val_loss: 1.2308 - val_acc: 0.6928\n",
            "Epoch 21/50\n",
            "849/850 [============================>.] - ETA: 0s - loss: 1.4978 - acc: 0.6373\n",
            "Epoch 00021: val_acc improved from 0.69660 to 0.69905, saving model to gdrive/My Drive/QW/Notebook/Quick Draw/Thesis_pre_research/(2-1)StrokeColor_Skatch-A-Net/best_model_2_1.ckpt\n",
            "850/850 [==============================] - 377s 443ms/step - loss: 1.4976 - acc: 0.6373 - val_loss: 1.2007 - val_acc: 0.6990\n",
            "Epoch 22/50\n",
            "849/850 [============================>.] - ETA: 0s - loss: 1.4804 - acc: 0.6399\n",
            "Epoch 00022: val_acc improved from 0.69905 to 0.70405, saving model to gdrive/My Drive/QW/Notebook/Quick Draw/Thesis_pre_research/(2-1)StrokeColor_Skatch-A-Net/best_model_2_1.ckpt\n",
            "850/850 [==============================] - 376s 443ms/step - loss: 1.4806 - acc: 0.6399 - val_loss: 1.1987 - val_acc: 0.7040\n",
            "Epoch 23/50\n",
            "849/850 [============================>.] - ETA: 0s - loss: 1.4638 - acc: 0.6436\n",
            "Epoch 00023: val_acc did not improve from 0.70405\n",
            "850/850 [==============================] - 374s 440ms/step - loss: 1.4637 - acc: 0.6436 - val_loss: 1.2002 - val_acc: 0.7013\n",
            "Epoch 24/50\n",
            "849/850 [============================>.] - ETA: 0s - loss: 1.4643 - acc: 0.6436\n",
            "Epoch 00024: val_acc did not improve from 0.70405\n",
            "\n",
            "Epoch 00024: ReduceLROnPlateau reducing learning rate to 0.0002500000118743628.\n",
            "850/850 [==============================] - 375s 441ms/step - loss: 1.4643 - acc: 0.6436 - val_loss: 1.2037 - val_acc: 0.7014\n",
            "Epoch 25/50\n",
            "849/850 [============================>.] - ETA: 0s - loss: 1.4363 - acc: 0.6510\n",
            "Epoch 00025: val_acc improved from 0.70405 to 0.71090, saving model to gdrive/My Drive/QW/Notebook/Quick Draw/Thesis_pre_research/(2-1)StrokeColor_Skatch-A-Net/best_model_2_1.ckpt\n",
            "850/850 [==============================] - 377s 444ms/step - loss: 1.4364 - acc: 0.6510 - val_loss: 1.1670 - val_acc: 0.7109\n",
            "Epoch 26/50\n",
            "849/850 [============================>.] - ETA: 0s - loss: 1.4184 - acc: 0.6538\n",
            "Epoch 00026: val_acc did not improve from 0.71090\n",
            "850/850 [==============================] - 375s 441ms/step - loss: 1.4181 - acc: 0.6539 - val_loss: 1.1788 - val_acc: 0.7091\n",
            "Epoch 27/50\n",
            "849/850 [============================>.] - ETA: 0s - loss: 1.4016 - acc: 0.6568\n",
            "Epoch 00027: val_acc improved from 0.71090 to 0.71460, saving model to gdrive/My Drive/QW/Notebook/Quick Draw/Thesis_pre_research/(2-1)StrokeColor_Skatch-A-Net/best_model_2_1.ckpt\n",
            "850/850 [==============================] - 380s 447ms/step - loss: 1.4013 - acc: 0.6569 - val_loss: 1.1414 - val_acc: 0.7146\n",
            "Epoch 28/50\n",
            "849/850 [============================>.] - ETA: 0s - loss: 1.3937 - acc: 0.6610\n",
            "Epoch 00028: val_acc did not improve from 0.71460\n",
            "850/850 [==============================] - 376s 442ms/step - loss: 1.3936 - acc: 0.6611 - val_loss: 1.1373 - val_acc: 0.7125\n",
            "Epoch 29/50\n",
            "849/850 [============================>.] - ETA: 0s - loss: 1.3896 - acc: 0.6597\n",
            "Epoch 00029: val_acc improved from 0.71460 to 0.71685, saving model to gdrive/My Drive/QW/Notebook/Quick Draw/Thesis_pre_research/(2-1)StrokeColor_Skatch-A-Net/best_model_2_1.ckpt\n",
            "850/850 [==============================] - 379s 445ms/step - loss: 1.3896 - acc: 0.6598 - val_loss: 1.1344 - val_acc: 0.7169\n",
            "Epoch 30/50\n",
            "849/850 [============================>.] - ETA: 0s - loss: 1.3840 - acc: 0.6609\n",
            "Epoch 00030: val_acc improved from 0.71685 to 0.71710, saving model to gdrive/My Drive/QW/Notebook/Quick Draw/Thesis_pre_research/(2-1)StrokeColor_Skatch-A-Net/best_model_2_1.ckpt\n",
            "850/850 [==============================] - 378s 445ms/step - loss: 1.3838 - acc: 0.6610 - val_loss: 1.1308 - val_acc: 0.7171\n",
            "Epoch 31/50\n",
            "849/850 [============================>.] - ETA: 0s - loss: 1.3710 - acc: 0.6644\n",
            "Epoch 00031: val_acc improved from 0.71710 to 0.72155, saving model to gdrive/My Drive/QW/Notebook/Quick Draw/Thesis_pre_research/(2-1)StrokeColor_Skatch-A-Net/best_model_2_1.ckpt\n",
            "850/850 [==============================] - 378s 445ms/step - loss: 1.3711 - acc: 0.6644 - val_loss: 1.1181 - val_acc: 0.7215\n",
            "Epoch 32/50\n",
            "849/850 [============================>.] - ETA: 0s - loss: 1.3580 - acc: 0.6681\n",
            "Epoch 00032: val_acc did not improve from 0.72155\n",
            "\n",
            "Epoch 00032: ReduceLROnPlateau reducing learning rate to 0.0001250000059371814.\n",
            "850/850 [==============================] - 376s 442ms/step - loss: 1.3578 - acc: 0.6681 - val_loss: 1.1584 - val_acc: 0.7098\n",
            "Epoch 33/50\n",
            "849/850 [============================>.] - ETA: 0s - loss: 1.3556 - acc: 0.6703\n",
            "Epoch 00033: val_acc did not improve from 0.72155\n",
            "850/850 [==============================] - 376s 442ms/step - loss: 1.3554 - acc: 0.6704 - val_loss: 1.1211 - val_acc: 0.7193\n",
            "Epoch 34/50\n",
            "849/850 [============================>.] - ETA: 0s - loss: 1.3362 - acc: 0.6718\n",
            "Epoch 00034: val_acc did not improve from 0.72155\n",
            "850/850 [==============================] - 377s 443ms/step - loss: 1.3360 - acc: 0.6718 - val_loss: 1.1250 - val_acc: 0.7190\n",
            "Epoch 35/50\n",
            "849/850 [============================>.] - ETA: 0s - loss: 1.3302 - acc: 0.6732\n",
            "Epoch 00035: val_acc improved from 0.72155 to 0.72275, saving model to gdrive/My Drive/QW/Notebook/Quick Draw/Thesis_pre_research/(2-1)StrokeColor_Skatch-A-Net/best_model_2_1.ckpt\n",
            "850/850 [==============================] - 378s 445ms/step - loss: 1.3304 - acc: 0.6732 - val_loss: 1.1230 - val_acc: 0.7228\n",
            "Epoch 36/50\n",
            "849/850 [============================>.] - ETA: 0s - loss: 1.3245 - acc: 0.6756\n",
            "Epoch 00036: val_acc improved from 0.72275 to 0.72670, saving model to gdrive/My Drive/QW/Notebook/Quick Draw/Thesis_pre_research/(2-1)StrokeColor_Skatch-A-Net/best_model_2_1.ckpt\n",
            "850/850 [==============================] - 380s 447ms/step - loss: 1.3247 - acc: 0.6756 - val_loss: 1.0932 - val_acc: 0.7267\n",
            "Epoch 37/50\n",
            "849/850 [============================>.] - ETA: 0s - loss: 1.3298 - acc: 0.6737\n",
            "Epoch 00037: val_acc did not improve from 0.72670\n",
            "850/850 [==============================] - 376s 443ms/step - loss: 1.3301 - acc: 0.6736 - val_loss: 1.1155 - val_acc: 0.7211\n",
            "Epoch 38/50\n",
            "849/850 [============================>.] - ETA: 0s - loss: 1.3323 - acc: 0.6736\n",
            "Epoch 00038: val_acc did not improve from 0.72670\n",
            "\n",
            "Epoch 00038: ReduceLROnPlateau reducing learning rate to 6.25000029685907e-05.\n",
            "850/850 [==============================] - 377s 443ms/step - loss: 1.3322 - acc: 0.6736 - val_loss: 1.1010 - val_acc: 0.7235\n",
            "Epoch 39/50\n",
            "849/850 [============================>.] - ETA: 0s - loss: 1.3270 - acc: 0.6735\n",
            "Epoch 00039: val_acc improved from 0.72670 to 0.73410, saving model to gdrive/My Drive/QW/Notebook/Quick Draw/Thesis_pre_research/(2-1)StrokeColor_Skatch-A-Net/best_model_2_1.ckpt\n",
            "850/850 [==============================] - 377s 444ms/step - loss: 1.3272 - acc: 0.6734 - val_loss: 1.0813 - val_acc: 0.7341\n",
            "Epoch 40/50\n",
            "849/850 [============================>.] - ETA: 0s - loss: 1.3100 - acc: 0.6791\n",
            "Epoch 00040: val_acc did not improve from 0.73410\n",
            "850/850 [==============================] - 375s 441ms/step - loss: 1.3098 - acc: 0.6792 - val_loss: 1.1073 - val_acc: 0.7233\n",
            "Epoch 41/50\n",
            "849/850 [============================>.] - ETA: 0s - loss: 1.3206 - acc: 0.6757\n",
            "Epoch 00041: val_acc did not improve from 0.73410\n",
            "850/850 [==============================] - 375s 441ms/step - loss: 1.3205 - acc: 0.6758 - val_loss: 1.1091 - val_acc: 0.7260\n",
            "Epoch 42/50\n",
            "849/850 [============================>.] - ETA: 0s - loss: 1.3115 - acc: 0.6784\n",
            "Epoch 00042: val_acc did not improve from 0.73410\n",
            "850/850 [==============================] - 375s 441ms/step - loss: 1.3116 - acc: 0.6784 - val_loss: 1.1056 - val_acc: 0.7268\n",
            "Epoch 43/50\n",
            "849/850 [============================>.] - ETA: 0s - loss: 1.3003 - acc: 0.6803\n",
            "Epoch 00043: val_acc did not improve from 0.73410\n",
            "\n",
            "Epoch 00043: ReduceLROnPlateau reducing learning rate to 3.125000148429535e-05.\n",
            "850/850 [==============================] - 376s 442ms/step - loss: 1.3003 - acc: 0.6803 - val_loss: 1.1134 - val_acc: 0.7251\n",
            "Epoch 44/50\n",
            "849/850 [============================>.] - ETA: 0s - loss: 1.2990 - acc: 0.6813\n",
            "Epoch 00044: val_acc did not improve from 0.73410\n",
            "850/850 [==============================] - 375s 442ms/step - loss: 1.2992 - acc: 0.6813 - val_loss: 1.0807 - val_acc: 0.7263\n",
            "Epoch 45/50\n",
            "849/850 [============================>.] - ETA: 0s - loss: 1.3236 - acc: 0.6775\n",
            "Epoch 00045: val_acc did not improve from 0.73410\n",
            "850/850 [==============================] - 375s 441ms/step - loss: 1.3237 - acc: 0.6775 - val_loss: 1.0877 - val_acc: 0.7267\n",
            "Epoch 46/50\n",
            "849/850 [============================>.] - ETA: 0s - loss: 1.3123 - acc: 0.6787\n",
            "Epoch 00046: val_acc did not improve from 0.73410\n",
            "850/850 [==============================] - 375s 441ms/step - loss: 1.3120 - acc: 0.6787 - val_loss: 1.0856 - val_acc: 0.7257\n",
            "Epoch 47/50\n",
            "849/850 [============================>.] - ETA: 0s - loss: 1.3018 - acc: 0.6800\n",
            "Epoch 00047: val_acc did not improve from 0.73410\n",
            "850/850 [==============================] - 375s 441ms/step - loss: 1.3015 - acc: 0.6800 - val_loss: 1.0814 - val_acc: 0.7313\n",
            "Epoch 48/50\n",
            "849/850 [============================>.] - ETA: 0s - loss: 1.2945 - acc: 0.6830\n",
            "Epoch 00048: val_acc did not improve from 0.73410\n",
            "\n",
            "Epoch 00048: ReduceLROnPlateau reducing learning rate to 1.5625000742147677e-05.\n",
            "850/850 [==============================] - 375s 441ms/step - loss: 1.2945 - acc: 0.6831 - val_loss: 1.0808 - val_acc: 0.7329\n",
            "Epoch 49/50\n",
            "849/850 [============================>.] - ETA: 0s - loss: 1.2904 - acc: 0.6821\n",
            "Epoch 00049: val_acc did not improve from 0.73410\n",
            "850/850 [==============================] - 374s 441ms/step - loss: 1.2903 - acc: 0.6822 - val_loss: 1.1028 - val_acc: 0.7255\n",
            "Epoch 50/50\n",
            "849/850 [============================>.] - ETA: 0s - loss: 1.2929 - acc: 0.6814\n",
            "Epoch 00050: val_acc did not improve from 0.73410\n",
            "850/850 [==============================] - 375s 442ms/step - loss: 1.2927 - acc: 0.6814 - val_loss: 1.0952 - val_acc: 0.7276\n",
            "finish training\n"
          ],
          "name": "stdout"
        },
        {
          "output_type": "display_data",
          "data": {
            "image/png": "[encoded data removed]",
            "text/plain": [
              "<matplotlib.figure.Figure at 0x7ff60c210128>"
            ]
          },
          "metadata": {
            "tags": []
          }
        },
        {
          "output_type": "display_data",
          "data": {
            "image/png": "[encoded data removed]",
            "text/plain": [
              "<matplotlib.figure.Figure at 0x7ff604e7f550>"
            ]
          },
          "metadata": {
            "tags": []
          }
        },
        {
          "output_type": "stream",
          "text": [
            "finish!\n"
          ],
          "name": "stdout"
        }
      ]
    },
    {
      "metadata": {
        "id": "Xf7OWwaTdJEn",
        "colab_type": "text"
      },
      "cell_type": "markdown",
      "source": [
        "# Evaluate"
      ]
    },
    {
      "metadata": {
        "id": "WA_Jeo2AdIvS",
        "colab_type": "code",
        "outputId": "9dc76e86-efc4-430b-e4e1-05ff2d04e1f1",
        "colab": {
          "base_uri": "https://localhost:8080/",
          "height": 35
        }
      },
      "cell_type": "code",
      "source": [
        "def top_3_accuracy(X, Y):\n",
        "        return sparse_top_k_categorical_accuracy(X, Y, 3)\n",
        "  \n",
        "def top_5_accuracy(X, Y):\n",
        "        return sparse_top_k_categorical_accuracy(X, Y, 5)\n",
        "  \n",
        "model_E = MODEL\n",
        "model_E.compile(loss=tf.keras.losses.sparse_categorical_crossentropy,\n",
        "              optimizer=tf.train.AdamOptimizer(),\n",
        "              metrics=['accuracy',top_3_accuracy, top_5_accuracy])\n",
        "\n",
        "model_weights_path = CKPT_PATH \n",
        "model_E.load_weights(model_weights_path)\n",
        "print('finish')"
      ],
      "execution_count": 0,
      "outputs": [
        {
          "output_type": "stream",
          "text": [
            "finish\n"
          ],
          "name": "stdout"
        }
      ]
    },
    {
      "metadata": {
        "id": "hks1cNludS1s",
        "colab_type": "code",
        "outputId": "547e7a9a-6756-4b87-bf43-3a5820d0dde9",
        "colab": {
          "base_uri": "https://localhost:8080/",
          "height": 107
        }
      },
      "cell_type": "code",
      "source": [
        "result = model_E.evaluate_generator(\n",
        "    generate_data(valid_data, BATCH_SIZE, False),\n",
        "    steps = EVALUATE_STEPS,\n",
        "    verbose = 1\n",
        ")\n",
        "\n",
        "print('loss:', result[0])\n",
        "print('top1 accuracy:', result[1])\n",
        "print('top3 accuracy:', result[2])\n",
        "print('top3 accuracy:', result[3])"
      ],
      "execution_count": 0,
      "outputs": [
        {
          "output_type": "stream",
          "text": [
            "850/850 [==============================] - 170s 200ms/step\n",
            "loss: 1.1010285833302667\n",
            "top1 accuracy: 0.7247588239697849\n",
            "top3 accuracy: 0.8787941166232613\n",
            "top3 accuracy: 0.9123647066424875\n"
          ],
          "name": "stdout"
        }
      ]
    }
  ]
}