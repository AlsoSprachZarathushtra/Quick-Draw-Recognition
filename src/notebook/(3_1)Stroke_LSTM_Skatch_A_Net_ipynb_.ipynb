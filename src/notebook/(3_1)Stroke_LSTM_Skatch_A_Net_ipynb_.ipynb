{
  "nbformat": 4,
  "nbformat_minor": 0,
  "metadata": {
    "colab": {
      "name": "(3-1)Stroke_LSTM-Skatch-A-Net.ipynb.",
      "version": "0.3.2",
      "provenance": [],
      "collapsed_sections": [],
      "toc_visible": true,
      "include_colab_link": true
    },
    "kernelspec": {
      "name": "python3",
      "display_name": "Python 3"
    },
    "accelerator": "GPU"
  },
  "cells": [
    {
      "cell_type": "markdown",
      "metadata": {
        "id": "view-in-github",
        "colab_type": "text"
      },
      "source": [
        "<a href=\"https://colab.research.google.com/github/AlsoSprachZarathushtra/Quick-Draw-Recognition/blob/master/(3_1)Stroke_LSTM_Skatch_A_Net_ipynb_.ipynb\" target=\"_parent\"><img src=\"https://colab.research.google.com/assets/colab-badge.svg\" alt=\"Open In Colab\"/></a>"
      ]
    },
    {
      "metadata": {
        "id": "ioxMYD5fIN0l",
        "colab_type": "text"
      },
      "cell_type": "markdown",
      "source": [
        "# Connect Google Drive"
      ]
    },
    {
      "metadata": {
        "id": "QfwNChIWH-gL",
        "colab_type": "code",
        "outputId": "5eec6fbd-eec5-4a16-ee82-6c5cea792944",
        "colab": {
          "base_uri": "https://localhost:8080/",
          "height": 127
        }
      },
      "cell_type": "code",
      "source": [
        "from google.colab import drive\n",
        "drive.mount('/content/gdrive')"
      ],
      "execution_count": 0,
      "outputs": [
        {
          "output_type": "stream",
          "text": [
            "Go to this URL in a browser: https://accounts.google.com/o/oauth2/auth?client_id=947318989803-6bn6qk8qdgf4n4g3pfee6491hc0brc4i.apps.googleusercontent.com&redirect_uri=urn%3Aietf%3Awg%3Aoauth%3A2.0%3Aoob&scope=email%20https%3A%2F%2Fwww.googleapis.com%2Fauth%2Fdocs.test%20https%3A%2F%2Fwww.googleapis.com%2Fauth%2Fdrive%20https%3A%2F%2Fwww.googleapis.com%2Fauth%2Fdrive.photos.readonly%20https%3A%2F%2Fwww.googleapis.com%2Fauth%2Fpeopleapi.readonly&response_type=code\n",
            "\n",
            "Enter your authorization code:\n",
            "··········\n",
            "Mounted at /content/gdrive\n"
          ],
          "name": "stdout"
        }
      ]
    },
    {
      "metadata": {
        "id": "bEMTrWPCLoJL",
        "colab_type": "text"
      },
      "cell_type": "markdown",
      "source": [
        "# Import"
      ]
    },
    {
      "metadata": {
        "id": "ccG3izHdEySj",
        "colab_type": "code",
        "colab": {}
      },
      "cell_type": "code",
      "source": [
        "import tensorflow as tf\n",
        "import numpy as np\n",
        "import pandas as pd\n",
        "import matplotlib.pyplot as plt\n",
        "import cv2\n",
        "import os\n",
        "\n",
        "from tensorflow import keras\n",
        "from tensorflow.keras.layers import Input\n",
        "from tensorflow.keras.layers import Conv2D\n",
        "from tensorflow.keras.layers import MaxPool2D\n",
        "from tensorflow.keras.layers import ReLU\n",
        "from tensorflow.keras.layers import Softmax\n",
        "from tensorflow.keras.layers import Flatten\n",
        "from tensorflow.keras.layers import Dropout\n",
        "from tensorflow.keras.layers import Lambda\n",
        "from tensorflow.keras.layers import Reshape\n",
        "from tensorflow.keras.layers import LSTM\n",
        "from tensorflow.keras.layers import Dense\n",
        "from tensorflow.keras.layers import concatenate\n",
        "from tensorflow.keras.layers import BatchNormalization\n",
        "from tensorflow.keras.metrics import sparse_top_k_categorical_accuracy\n",
        "from tensorflow.keras.callbacks import CSVLogger\n",
        "from ast import literal_eval"
      ],
      "execution_count": 0,
      "outputs": []
    },
    {
      "metadata": {
        "id": "JUvwhYjZIe-M",
        "colab_type": "text"
      },
      "cell_type": "markdown",
      "source": [
        "# Parameters  and  Work-Space Paths"
      ]
    },
    {
      "metadata": {
        "id": "dPOH3112IVQN",
        "colab_type": "code",
        "outputId": "d61b5718-123e-40d1-c83d-42394ce4e61f",
        "colab": {
          "base_uri": "https://localhost:8080/",
          "height": 35
        }
      },
      "cell_type": "code",
      "source": [
        "# parameters\n",
        "BATCH_SIZE = 200\n",
        "EPOCHS = 50\n",
        "STEPS_PER_EPOCH = 425\n",
        "VALIDATION_STEPS = 100\n",
        "EVALUATE_STEPS = 850\n",
        "IMAGE_SIZE = 225\n",
        "LINE_SIZE = 3\n",
        "\n",
        "\n",
        "# load path\n",
        "TRAIN_DATA_PATH = 'gdrive/My Drive/QW/Data/Data_10000/All_classes_10000.csv'\n",
        "VALID_DATA_PATH = 'gdrive/My Drive/QW/Data/My_test_data/My_test_data.csv'\n",
        "LABEL_DICT_PATH = 'gdrive/My Drive/QW/Data/labels_dict.npy'\n",
        "\n",
        "# save path\n",
        "CKPT_PATH = 'gdrive/My Drive/QW/Notebook/Quick Draw/Thesis_pre_research/(3-1)Stroke_LSTM-Skatch-A-Net/best_model_3_1.ckpt'\n",
        "LOSS_PLOT_PATH = 'gdrive/My Drive/QW/Notebook/Quick Draw/Thesis_pre_research/(3-1)Stroke_LSTM-Skatch-A-Net/loss_plot_3_1.png'\n",
        "ACC_PLOT_PATH = 'gdrive/My Drive/QW/Notebook/Quick Draw/Thesis_pre_research/(3-1)Stroke_LSTM-Skatch-A-Net/acc_plot_3_1.png'\n",
        "LOG_PATH = 'gdrive/My Drive/QW/Notebook/Quick Draw/Thesis_pre_research/(3-1)Stroke_LSTM-Skatch-A-Net/Log_3_1.log'\n",
        "print('finish!')"
      ],
      "execution_count": 0,
      "outputs": [
        {
          "output_type": "stream",
          "text": [
            "finish!\n"
          ],
          "name": "stdout"
        }
      ]
    },
    {
      "metadata": {
        "id": "bTH2CjZKLbQ7",
        "colab_type": "text"
      },
      "cell_type": "markdown",
      "source": [
        "# Generator"
      ]
    },
    {
      "metadata": {
        "id": "aVDS0fZiZEFL",
        "colab_type": "code",
        "outputId": "358b77f8-cfa2-4a65-dfa9-8d9079659d2b",
        "colab": {
          "base_uri": "https://localhost:8080/",
          "height": 35
        }
      },
      "cell_type": "code",
      "source": [
        "\n",
        "def generate_data(data, batch_size, choose_recognized):\n",
        "    data = data.sample(frac = 1)\n",
        "    \n",
        "    while 1:\n",
        "        \n",
        "#         get columns' values named 'drawing', 'word' and 'recognized'\n",
        "        drawings = data[\"drawing\"].values\n",
        "        drawing_recognized = data[\"recognized\"].values\n",
        "        drawing_class = data[\"word\"].values\n",
        "      \n",
        "#         initialization\n",
        "        cnt = 0\n",
        "        data_X =[]\n",
        "        data_Y =[]\n",
        "        \n",
        "#         generate batch\n",
        "        for i in range(len(drawings)):\n",
        "            if choose_recognized:\n",
        "                if drawing_recognized[i] == 'False':    #Choose according to recognized value\n",
        "                    continue\n",
        "            draw = drawings[i]\n",
        "            stroke_vec = literal_eval(draw)\n",
        "            \n",
        "            l = len(stroke_vec)\n",
        "            stroke_set = []\n",
        "            if l <= 3:\n",
        "                if l == 1:\n",
        "                    stroke_set =[[0],[0],[0]]\n",
        "                if l == 2:\n",
        "                    stroke_set =[[0],[1],[1]]\n",
        "                if l == 3:\n",
        "                    stroke_set =[[0],[1],[2]]\n",
        "            if l > 3:\n",
        "                a = l // 3\n",
        "                b = l % 3\n",
        "                c = (a + 1) * 3\n",
        "                d = c - l\n",
        "                n = 0\n",
        "                for h in range(0,d):\n",
        "                    temp = []\n",
        "                    for k in range(a):\n",
        "                        temp.append(n)\n",
        "                        n += 1\n",
        "                    stroke_set.append(temp)\n",
        "                for h in range(d,3):\n",
        "                    temp = []\n",
        "                    for k in range(a+1):\n",
        "                        temp.append(n)\n",
        "                        n += 1\n",
        "                    stroke_set.append(temp)\n",
        "            \n",
        "            img = np.zeros([256, 256])\n",
        "            x = []\n",
        "            stroke_num = 0\n",
        "            for j in range(3):\n",
        "                stroke_index = stroke_set[j]\n",
        "                for m in list(stroke_index):\n",
        "                    line = np.array(stroke_vec[m]).T\n",
        "                    cv2.polylines(img, [line], False, (255-(13*min(stroke_num,10))), LINE_SIZE)\n",
        "                    stroke_num += 1\n",
        "                img_copy = img.copy()\n",
        "                img_x = cv2.resize(img_copy,(IMAGE_SIZE,IMAGE_SIZE),interpolation = cv2.INTER_NEAREST)\n",
        "                x.append(img_x)\n",
        "            x = np.array(x)\n",
        "            x = x[:,:,:,np.newaxis]\n",
        "            label = drawing_class[i]\n",
        "            y = labels2nums_dict[label]\n",
        "            data_X.append(x)\n",
        "            data_Y.append(y)\n",
        "            cnt += 1\n",
        "            if cnt==batch_size:        #generate a batch when cnt reaches batch_size \n",
        "                cnt = 0\n",
        "                yield (np.array(data_X), np.array(data_Y))\n",
        "                data_X = []\n",
        "                data_Y = []\n",
        "print(\"finish!\")"
      ],
      "execution_count": 0,
      "outputs": [
        {
          "output_type": "stream",
          "text": [
            "finish!\n"
          ],
          "name": "stdout"
        }
      ]
    },
    {
      "metadata": {
        "id": "Z3SIDIfoSR2d",
        "colab_type": "text"
      },
      "cell_type": "markdown",
      "source": [
        "# Callbacks"
      ]
    },
    {
      "metadata": {
        "id": "fhoAdkcESQiM",
        "colab_type": "code",
        "outputId": "9a2f8077-7bdb-4c43-ab96-2d4ee54c9a19",
        "colab": {
          "base_uri": "https://localhost:8080/",
          "height": 35
        }
      },
      "cell_type": "code",
      "source": [
        "# define a class named LossHitory \n",
        "class LossHistory(keras.callbacks.Callback):\n",
        "    def on_train_begin(self, logs={}):\n",
        "        self.losses = {'batch':[], 'epoch':[]}\n",
        "        self.accuracy = {'batch':[], 'epoch':[]}\n",
        "        self.val_loss = {'batch':[], 'epoch':[]}\n",
        "        self.val_acc = {'batch':[], 'epoch':[]}\n",
        "\n",
        "    def on_batch_end(self, batch, logs={}):\n",
        "        self.losses['batch'].append(logs.get('loss'))\n",
        "        self.accuracy['batch'].append(logs.get('acc'))\n",
        "        self.val_loss['batch'].append(logs.get('val_loss'))\n",
        "        self.val_acc['batch'].append(logs.get('val_acc'))\n",
        "\n",
        "    def on_epoch_end(self, batch, logs={}):\n",
        "        self.losses['epoch'].append(logs.get('loss'))\n",
        "        self.accuracy['epoch'].append(logs.get('acc'))\n",
        "        self.val_loss['epoch'].append(logs.get('val_loss'))\n",
        "        self.val_acc['epoch'].append(logs.get('val_acc'))\n",
        "\n",
        "    def loss_plot(self, loss_type, loss_fig_save_path, acc_fig_save_path):\n",
        "        iters = range(len(self.losses[loss_type]))\n",
        "        plt.figure('acc')\n",
        "        plt.plot(iters, self.accuracy[loss_type], 'r', label='train acc')\n",
        "        plt.plot(iters, self.val_acc[loss_type], 'b', label='val acc')\n",
        "        plt.grid(True)\n",
        "        plt.xlabel(loss_type)\n",
        "        plt.ylabel('acc')\n",
        "        plt.legend(loc=\"upper right\")\n",
        "        plt.savefig(acc_fig_save_path)\n",
        "        plt.show()\n",
        "        \n",
        "        \n",
        "        plt.figure('loss')\n",
        "        plt.plot(iters, self.losses[loss_type], 'g', label='train loss')\n",
        "        plt.plot(iters, self.val_loss[loss_type], 'k', label='val loss')\n",
        "        plt.grid(True)\n",
        "        plt.xlabel(loss_type)\n",
        "        plt.ylabel('loss')\n",
        "        plt.legend(loc=\"upper right\")\n",
        "        plt.savefig(loss_fig_save_path)\n",
        "        plt.show()\n",
        "        \n",
        "# create a object from LossHistory class\n",
        "History = LossHistory()\n",
        "\n",
        "print(\"finish!\")"
      ],
      "execution_count": 0,
      "outputs": [
        {
          "output_type": "stream",
          "text": [
            "finish!\n"
          ],
          "name": "stdout"
        }
      ]
    },
    {
      "metadata": {
        "id": "zUBqEb49S7qZ",
        "colab_type": "code",
        "outputId": "191490c9-7f62-4b15-b228-4098ed6a8064",
        "colab": {
          "base_uri": "https://localhost:8080/",
          "height": 35
        }
      },
      "cell_type": "code",
      "source": [
        "\n",
        "cp_callback = tf.keras.callbacks.ModelCheckpoint(\n",
        "    CKPT_PATH, \n",
        "    verbose = 1, \n",
        "    monitor='val_acc', \n",
        "    mode = 'max', \n",
        "    save_best_only=True)\n",
        "\n",
        "print(\"finish!\")"
      ],
      "execution_count": 0,
      "outputs": [
        {
          "output_type": "stream",
          "text": [
            "finish!\n"
          ],
          "name": "stdout"
        }
      ]
    },
    {
      "metadata": {
        "id": "ZooXHWfaZleG",
        "colab_type": "code",
        "colab": {}
      },
      "cell_type": "code",
      "source": [
        "ReduceLR = tf.keras.callbacks.ReduceLROnPlateau(monitor='val_acc', factor=0.5, patience=3,\n",
        "                      min_delta=0.005, mode='max', cooldown=3, verbose=1)"
      ],
      "execution_count": 0,
      "outputs": []
    },
    {
      "metadata": {
        "id": "8bpAT1y8dHmd",
        "colab_type": "code",
        "colab": {}
      },
      "cell_type": "code",
      "source": [
        "csv_logger = CSVLogger(LOG_PATH, separator=',', append=True)"
      ],
      "execution_count": 0,
      "outputs": []
    },
    {
      "metadata": {
        "id": "bwRxaI2QTibU",
        "colab_type": "text"
      },
      "cell_type": "markdown",
      "source": [
        "# Load Data"
      ]
    },
    {
      "metadata": {
        "id": "aj041zzZTwrF",
        "colab_type": "code",
        "outputId": "2d994f3b-c772-4529-84ae-7179a8fc26ec",
        "colab": {
          "base_uri": "https://localhost:8080/",
          "height": 35
        }
      },
      "cell_type": "code",
      "source": [
        "# load train data and valid data\n",
        "#  labels_dict and data path\n",
        "\n",
        "# labels convert into nums\n",
        "labels_dict = np.load(LABEL_DICT_PATH)\n",
        "labels2nums_dict = {v: k for k, v in enumerate(labels_dict)}\n",
        "\n",
        "# read csv \n",
        "train_data = pd.read_csv(TRAIN_DATA_PATH)\n",
        "valid_data = pd.read_csv(VALID_DATA_PATH)\n",
        "\n",
        "print('finish!')"
      ],
      "execution_count": 0,
      "outputs": [
        {
          "output_type": "stream",
          "text": [
            "finish!\n"
          ],
          "name": "stdout"
        }
      ]
    },
    {
      "metadata": {
        "id": "D_sA1QMzUysO",
        "colab_type": "text"
      },
      "cell_type": "markdown",
      "source": [
        "# Model"
      ]
    },
    {
      "metadata": {
        "id": "-DXg_7LEU1Ap",
        "colab_type": "code",
        "outputId": "0c7ff671-3c3c-4462-c185-a68716305ab5",
        "colab": {
          "base_uri": "https://localhost:8080/",
          "height": 3041
        }
      },
      "cell_type": "code",
      "source": [
        "def Sketch_A_Net(M):\n",
        "    _x_input = Lambda(lambda x: x[:,M])(X_INPUT)\n",
        "\n",
        "    _x = Conv2D(64, (15,15), strides=3, padding='valid',name='Conv2D_1_{}'.format(M))(_x_input)\n",
        "    _x = BatchNormalization(name='BN_1_{}'.format(M))(_x)\n",
        "    _x = ReLU(name='ReLU_1_{}'.format(M))(_x)\n",
        "    _x = MaxPool2D(pool_size=(3,3),strides=2, name='Pooling_1_{}'.format(M))(_x)\n",
        "\n",
        "    _x = Conv2D(128, (5,5), strides=1, padding='valid',name='Conv2D_2_{}'.format(M))(_x)\n",
        "    _x = BatchNormalization(name='BN_2_{}'.format(M))(_x)\n",
        "    _x = ReLU(name='ReLU_2_{}'.format(M))(_x)\n",
        "    _x = MaxPool2D(pool_size=(3,3),strides=2, name='Pooling_2_{}'.format(M))(_x)\n",
        "\n",
        "    _x = Conv2D(256, (3,3), strides=1, padding='same',name='Conv2D_3_{}'.format(M))(_x)\n",
        "    _x = BatchNormalization(name='BN_3_{}'.format(M))(_x)\n",
        "    _x = ReLU(name='ReLU_3_{}'.format(M))(_x)\n",
        "\n",
        "    _x = Conv2D(256, (3,3), strides=1, padding='same',name='Conv2D_4_{}'.format(M))(_x)\n",
        "    _x = BatchNormalization(name='BN_4_{}'.format(M))(_x)\n",
        "    _x = ReLU(name='ReLU_4_{}'.format(M))(_x)\n",
        "\n",
        "    _x = Conv2D(256, (3,3), strides=1, padding='same',name='Conv2D_5_{}'.format(M))(_x)\n",
        "    _x = BatchNormalization(name='BN_5_{}'.format(M))(_x)\n",
        "    _x = ReLU(name='ReLU_5_{}'.format(M))(_x)\n",
        "    _x = MaxPool2D(pool_size=(3,3),strides=2, name='Pooling_5_{}'.format(M))(_x)\n",
        "\n",
        "    _x_shape = _x.shape[1]\n",
        "    _x = Conv2D(512, (int(_x_shape),int(_x_shape)), strides=1, padding='valid',name='Conv2D_FC_6_{}'.format(M))(_x)\n",
        "    _x = BatchNormalization(name='BN_6_{}'.format(M))(_x)\n",
        "    _x = Reshape((512,),name='Reshape_{}'.format(M))(_x)\n",
        "    return _x\n",
        "\n",
        "X_INPUT = Input(shape=(3,IMAGE_SIZE,IMAGE_SIZE,1))\n",
        "x1_output = Sketch_A_Net(0)\n",
        "x2_output = Sketch_A_Net(1)\n",
        "x3_output = Sketch_A_Net(2)\n",
        "\n",
        "x = concatenate([x1_output, x2_output,x3_output],axis = 1,name='Concatenate')\n",
        "x = Reshape((3,512),name='Reshape_f1')(x)\n",
        "x = LSTM(512, return_sequences=True, name='LSTM_1')(x)\n",
        "x = BatchNormalization(name='BN_1')(x)\n",
        "x = Dropout(0.5, name='Dropout_1')(x)\n",
        "x = LSTM(512, return_sequences=False, name='LSTM_2')(x)\n",
        "x = BatchNormalization(name='BN_2')(x)\n",
        "x = Dropout(0.5, name='Dropout_2')(x)\n",
        "xx = concatenate([x,x3_output],axis = 1,name='Concatenate_last')\n",
        "xx = Reshape((1024,),name='Reshape_f2')(xx)\n",
        "xx = Dense(340, name='FC')(xx)\n",
        "X_OUTPUT = Softmax(name='Softmax')(xx)\n",
        "\n",
        "MODEL = keras.Model(inputs=X_INPUT, outputs= X_OUTPUT)\n",
        "MODEL.summary()  "
      ],
      "execution_count": 0,
      "outputs": [
        {
          "output_type": "stream",
          "text": [
            "__________________________________________________________________________________________________\n",
            "Layer (type)                    Output Shape         Param #     Connected to                     \n",
            "==================================================================================================\n",
            "input_1 (InputLayer)            (None, 3, 225, 225,  0                                            \n",
            "__________________________________________________________________________________________________\n",
            "lambda (Lambda)                 (None, 225, 225, 1)  0           input_1[0][0]                    \n",
            "__________________________________________________________________________________________________\n",
            "lambda_1 (Lambda)               (None, 225, 225, 1)  0           input_1[0][0]                    \n",
            "__________________________________________________________________________________________________\n",
            "lambda_2 (Lambda)               (None, 225, 225, 1)  0           input_1[0][0]                    \n",
            "__________________________________________________________________________________________________\n",
            "Conv2D_1_0 (Conv2D)             (None, 71, 71, 64)   14464       lambda[0][0]                     \n",
            "__________________________________________________________________________________________________\n",
            "Conv2D_1_1 (Conv2D)             (None, 71, 71, 64)   14464       lambda_1[0][0]                   \n",
            "__________________________________________________________________________________________________\n",
            "Conv2D_1_2 (Conv2D)             (None, 71, 71, 64)   14464       lambda_2[0][0]                   \n",
            "__________________________________________________________________________________________________\n",
            "BN_1_0 (BatchNormalization)     (None, 71, 71, 64)   256         Conv2D_1_0[0][0]                 \n",
            "__________________________________________________________________________________________________\n",
            "BN_1_1 (BatchNormalization)     (None, 71, 71, 64)   256         Conv2D_1_1[0][0]                 \n",
            "__________________________________________________________________________________________________\n",
            "BN_1_2 (BatchNormalization)     (None, 71, 71, 64)   256         Conv2D_1_2[0][0]                 \n",
            "__________________________________________________________________________________________________\n",
            "ReLU_1_0 (ReLU)                 (None, 71, 71, 64)   0           BN_1_0[0][0]                     \n",
            "__________________________________________________________________________________________________\n",
            "ReLU_1_1 (ReLU)                 (None, 71, 71, 64)   0           BN_1_1[0][0]                     \n",
            "__________________________________________________________________________________________________\n",
            "ReLU_1_2 (ReLU)                 (None, 71, 71, 64)   0           BN_1_2[0][0]                     \n",
            "__________________________________________________________________________________________________\n",
            "Pooling_1_0 (MaxPooling2D)      (None, 35, 35, 64)   0           ReLU_1_0[0][0]                   \n",
            "__________________________________________________________________________________________________\n",
            "Pooling_1_1 (MaxPooling2D)      (None, 35, 35, 64)   0           ReLU_1_1[0][0]                   \n",
            "__________________________________________________________________________________________________\n",
            "Pooling_1_2 (MaxPooling2D)      (None, 35, 35, 64)   0           ReLU_1_2[0][0]                   \n",
            "__________________________________________________________________________________________________\n",
            "Conv2D_2_0 (Conv2D)             (None, 31, 31, 128)  204928      Pooling_1_0[0][0]                \n",
            "__________________________________________________________________________________________________\n",
            "Conv2D_2_1 (Conv2D)             (None, 31, 31, 128)  204928      Pooling_1_1[0][0]                \n",
            "__________________________________________________________________________________________________\n",
            "Conv2D_2_2 (Conv2D)             (None, 31, 31, 128)  204928      Pooling_1_2[0][0]                \n",
            "__________________________________________________________________________________________________\n",
            "BN_2_0 (BatchNormalization)     (None, 31, 31, 128)  512         Conv2D_2_0[0][0]                 \n",
            "__________________________________________________________________________________________________\n",
            "BN_2_1 (BatchNormalization)     (None, 31, 31, 128)  512         Conv2D_2_1[0][0]                 \n",
            "__________________________________________________________________________________________________\n",
            "BN_2_2 (BatchNormalization)     (None, 31, 31, 128)  512         Conv2D_2_2[0][0]                 \n",
            "__________________________________________________________________________________________________\n",
            "ReLU_2_0 (ReLU)                 (None, 31, 31, 128)  0           BN_2_0[0][0]                     \n",
            "__________________________________________________________________________________________________\n",
            "ReLU_2_1 (ReLU)                 (None, 31, 31, 128)  0           BN_2_1[0][0]                     \n",
            "__________________________________________________________________________________________________\n",
            "ReLU_2_2 (ReLU)                 (None, 31, 31, 128)  0           BN_2_2[0][0]                     \n",
            "__________________________________________________________________________________________________\n",
            "Pooling_2_0 (MaxPooling2D)      (None, 15, 15, 128)  0           ReLU_2_0[0][0]                   \n",
            "__________________________________________________________________________________________________\n",
            "Pooling_2_1 (MaxPooling2D)      (None, 15, 15, 128)  0           ReLU_2_1[0][0]                   \n",
            "__________________________________________________________________________________________________\n",
            "Pooling_2_2 (MaxPooling2D)      (None, 15, 15, 128)  0           ReLU_2_2[0][0]                   \n",
            "__________________________________________________________________________________________________\n",
            "Conv2D_3_0 (Conv2D)             (None, 15, 15, 256)  295168      Pooling_2_0[0][0]                \n",
            "__________________________________________________________________________________________________\n",
            "Conv2D_3_1 (Conv2D)             (None, 15, 15, 256)  295168      Pooling_2_1[0][0]                \n",
            "__________________________________________________________________________________________________\n",
            "Conv2D_3_2 (Conv2D)             (None, 15, 15, 256)  295168      Pooling_2_2[0][0]                \n",
            "__________________________________________________________________________________________________\n",
            "BN_3_0 (BatchNormalization)     (None, 15, 15, 256)  1024        Conv2D_3_0[0][0]                 \n",
            "__________________________________________________________________________________________________\n",
            "BN_3_1 (BatchNormalization)     (None, 15, 15, 256)  1024        Conv2D_3_1[0][0]                 \n",
            "__________________________________________________________________________________________________\n",
            "BN_3_2 (BatchNormalization)     (None, 15, 15, 256)  1024        Conv2D_3_2[0][0]                 \n",
            "__________________________________________________________________________________________________\n",
            "ReLU_3_0 (ReLU)                 (None, 15, 15, 256)  0           BN_3_0[0][0]                     \n",
            "__________________________________________________________________________________________________\n",
            "ReLU_3_1 (ReLU)                 (None, 15, 15, 256)  0           BN_3_1[0][0]                     \n",
            "__________________________________________________________________________________________________\n",
            "ReLU_3_2 (ReLU)                 (None, 15, 15, 256)  0           BN_3_2[0][0]                     \n",
            "__________________________________________________________________________________________________\n",
            "Conv2D_4_0 (Conv2D)             (None, 15, 15, 256)  590080      ReLU_3_0[0][0]                   \n",
            "__________________________________________________________________________________________________\n",
            "Conv2D_4_1 (Conv2D)             (None, 15, 15, 256)  590080      ReLU_3_1[0][0]                   \n",
            "__________________________________________________________________________________________________\n",
            "Conv2D_4_2 (Conv2D)             (None, 15, 15, 256)  590080      ReLU_3_2[0][0]                   \n",
            "__________________________________________________________________________________________________\n",
            "BN_4_0 (BatchNormalization)     (None, 15, 15, 256)  1024        Conv2D_4_0[0][0]                 \n",
            "__________________________________________________________________________________________________\n",
            "BN_4_1 (BatchNormalization)     (None, 15, 15, 256)  1024        Conv2D_4_1[0][0]                 \n",
            "__________________________________________________________________________________________________\n",
            "BN_4_2 (BatchNormalization)     (None, 15, 15, 256)  1024        Conv2D_4_2[0][0]                 \n",
            "__________________________________________________________________________________________________\n",
            "ReLU_4_0 (ReLU)                 (None, 15, 15, 256)  0           BN_4_0[0][0]                     \n",
            "__________________________________________________________________________________________________\n",
            "ReLU_4_1 (ReLU)                 (None, 15, 15, 256)  0           BN_4_1[0][0]                     \n",
            "__________________________________________________________________________________________________\n",
            "ReLU_4_2 (ReLU)                 (None, 15, 15, 256)  0           BN_4_2[0][0]                     \n",
            "__________________________________________________________________________________________________\n",
            "Conv2D_5_0 (Conv2D)             (None, 15, 15, 256)  590080      ReLU_4_0[0][0]                   \n",
            "__________________________________________________________________________________________________\n",
            "Conv2D_5_1 (Conv2D)             (None, 15, 15, 256)  590080      ReLU_4_1[0][0]                   \n",
            "__________________________________________________________________________________________________\n",
            "Conv2D_5_2 (Conv2D)             (None, 15, 15, 256)  590080      ReLU_4_2[0][0]                   \n",
            "__________________________________________________________________________________________________\n",
            "BN_5_0 (BatchNormalization)     (None, 15, 15, 256)  1024        Conv2D_5_0[0][0]                 \n",
            "__________________________________________________________________________________________________\n",
            "BN_5_1 (BatchNormalization)     (None, 15, 15, 256)  1024        Conv2D_5_1[0][0]                 \n",
            "__________________________________________________________________________________________________\n",
            "BN_5_2 (BatchNormalization)     (None, 15, 15, 256)  1024        Conv2D_5_2[0][0]                 \n",
            "__________________________________________________________________________________________________\n",
            "ReLU_5_0 (ReLU)                 (None, 15, 15, 256)  0           BN_5_0[0][0]                     \n",
            "__________________________________________________________________________________________________\n",
            "ReLU_5_1 (ReLU)                 (None, 15, 15, 256)  0           BN_5_1[0][0]                     \n",
            "__________________________________________________________________________________________________\n",
            "ReLU_5_2 (ReLU)                 (None, 15, 15, 256)  0           BN_5_2[0][0]                     \n",
            "__________________________________________________________________________________________________\n",
            "Pooling_5_0 (MaxPooling2D)      (None, 7, 7, 256)    0           ReLU_5_0[0][0]                   \n",
            "__________________________________________________________________________________________________\n",
            "Pooling_5_1 (MaxPooling2D)      (None, 7, 7, 256)    0           ReLU_5_1[0][0]                   \n",
            "__________________________________________________________________________________________________\n",
            "Pooling_5_2 (MaxPooling2D)      (None, 7, 7, 256)    0           ReLU_5_2[0][0]                   \n",
            "__________________________________________________________________________________________________\n",
            "Conv2D_FC_6_0 (Conv2D)          (None, 1, 1, 512)    6423040     Pooling_5_0[0][0]                \n",
            "__________________________________________________________________________________________________\n",
            "Conv2D_FC_6_1 (Conv2D)          (None, 1, 1, 512)    6423040     Pooling_5_1[0][0]                \n",
            "__________________________________________________________________________________________________\n",
            "Conv2D_FC_6_2 (Conv2D)          (None, 1, 1, 512)    6423040     Pooling_5_2[0][0]                \n",
            "__________________________________________________________________________________________________\n",
            "BN_6_0 (BatchNormalization)     (None, 1, 1, 512)    2048        Conv2D_FC_6_0[0][0]              \n",
            "__________________________________________________________________________________________________\n",
            "BN_6_1 (BatchNormalization)     (None, 1, 1, 512)    2048        Conv2D_FC_6_1[0][0]              \n",
            "__________________________________________________________________________________________________\n",
            "BN_6_2 (BatchNormalization)     (None, 1, 1, 512)    2048        Conv2D_FC_6_2[0][0]              \n",
            "__________________________________________________________________________________________________\n",
            "Reshape_0 (Reshape)             (None, 512)          0           BN_6_0[0][0]                     \n",
            "__________________________________________________________________________________________________\n",
            "Reshape_1 (Reshape)             (None, 512)          0           BN_6_1[0][0]                     \n",
            "__________________________________________________________________________________________________\n",
            "Reshape_2 (Reshape)             (None, 512)          0           BN_6_2[0][0]                     \n",
            "__________________________________________________________________________________________________\n",
            "Concatenate (Concatenate)       (None, 1536)         0           Reshape_0[0][0]                  \n",
            "                                                                 Reshape_1[0][0]                  \n",
            "                                                                 Reshape_2[0][0]                  \n",
            "__________________________________________________________________________________________________\n",
            "Reshape_f1 (Reshape)            (None, 3, 512)       0           Concatenate[0][0]                \n",
            "__________________________________________________________________________________________________\n",
            "LSTM_1 (LSTM)                   (None, 3, 512)       2099200     Reshape_f1[0][0]                 \n",
            "__________________________________________________________________________________________________\n",
            "BN_1 (BatchNormalization)       (None, 3, 512)       2048        LSTM_1[0][0]                     \n",
            "__________________________________________________________________________________________________\n",
            "Dropout_1 (Dropout)             (None, 3, 512)       0           BN_1[0][0]                       \n",
            "__________________________________________________________________________________________________\n",
            "LSTM_2 (LSTM)                   (None, 512)          2099200     Dropout_1[0][0]                  \n",
            "__________________________________________________________________________________________________\n",
            "BN_2 (BatchNormalization)       (None, 512)          2048        LSTM_2[0][0]                     \n",
            "__________________________________________________________________________________________________\n",
            "Dropout_2 (Dropout)             (None, 512)          0           BN_2[0][0]                       \n",
            "__________________________________________________________________________________________________\n",
            "Concatenate_last (Concatenate)  (None, 1024)         0           Dropout_2[0][0]                  \n",
            "                                                                 Reshape_2[0][0]                  \n",
            "__________________________________________________________________________________________________\n",
            "Reshape_f2 (Reshape)            (None, 1024)         0           Concatenate_last[0][0]           \n",
            "__________________________________________________________________________________________________\n",
            "FC (Dense)                      (None, 340)          348500      Reshape_f2[0][0]                 \n",
            "__________________________________________________________________________________________________\n",
            "Softmax (Softmax)               (None, 340)          0           FC[0][0]                         \n",
            "==================================================================================================\n",
            "Total params: 28,921,940\n",
            "Trainable params: 28,911,060\n",
            "Non-trainable params: 10,880\n",
            "__________________________________________________________________________________________________\n"
          ],
          "name": "stdout"
        }
      ]
    },
    {
      "metadata": {
        "id": "02zm3e7qU87T",
        "colab_type": "text"
      },
      "cell_type": "markdown",
      "source": [
        "# TPU Complie"
      ]
    },
    {
      "metadata": {
        "id": "Rtz3F1UAU_RW",
        "colab_type": "code",
        "outputId": "7f9ed24d-4528-4386-ae1e-09c20dda2fc9",
        "colab": {
          "base_uri": "https://localhost:8080/",
          "height": 379
        }
      },
      "cell_type": "code",
      "source": [
        "model = MODEL\n",
        "TPU_model = tf.contrib.tpu.keras_to_tpu_model(\n",
        "    model,\n",
        "    strategy=tf.contrib.tpu.TPUDistributionStrategy(\n",
        "            tf.contrib.cluster_resolver.TPUClusterResolver(tpu='grpc://' + os.environ['COLAB_TPU_ADDR'])\n",
        "        )\n",
        "    )\n",
        "\n",
        "TPU_model.compile(loss=tf.keras.losses.sparse_categorical_crossentropy,\n",
        "                  optimizer=tf.train.AdamOptimizer(learning_rate=1e-3),\n",
        "                  metrics=['accuracy'])\n",
        "\n",
        "\n",
        "print('finish')"
      ],
      "execution_count": 0,
      "outputs": [
        {
          "output_type": "stream",
          "text": [
            "INFO:tensorflow:Querying Tensorflow master (b'grpc://10.72.17.58:8470') for TPU system metadata.\n",
            "INFO:tensorflow:Found TPU system:\n",
            "INFO:tensorflow:*** Num TPU Cores: 8\n",
            "INFO:tensorflow:*** Num TPU Workers: 1\n",
            "INFO:tensorflow:*** Num TPU Cores Per Worker: 8\n",
            "INFO:tensorflow:*** Available Device: _DeviceAttributes(/job:worker/replica:0/task:0/device:CPU:0, CPU, -1, 929088615968568844)\n",
            "INFO:tensorflow:*** Available Device: _DeviceAttributes(/job:worker/replica:0/task:0/device:XLA_CPU:0, XLA_CPU, 17179869184, 15900753977296052317)\n",
            "INFO:tensorflow:*** Available Device: _DeviceAttributes(/job:worker/replica:0/task:0/device:XLA_GPU:0, XLA_GPU, 17179869184, 8765991032916183184)\n",
            "INFO:tensorflow:*** Available Device: _DeviceAttributes(/job:worker/replica:0/task:0/device:TPU:0, TPU, 17179869184, 529849079297276646)\n",
            "INFO:tensorflow:*** Available Device: _DeviceAttributes(/job:worker/replica:0/task:0/device:TPU:1, TPU, 17179869184, 3452447291276583421)\n",
            "INFO:tensorflow:*** Available Device: _DeviceAttributes(/job:worker/replica:0/task:0/device:TPU:2, TPU, 17179869184, 8667903427041268716)\n",
            "INFO:tensorflow:*** Available Device: _DeviceAttributes(/job:worker/replica:0/task:0/device:TPU:3, TPU, 17179869184, 8842056305586983265)\n",
            "INFO:tensorflow:*** Available Device: _DeviceAttributes(/job:worker/replica:0/task:0/device:TPU:4, TPU, 17179869184, 18120390467061945228)\n",
            "INFO:tensorflow:*** Available Device: _DeviceAttributes(/job:worker/replica:0/task:0/device:TPU:5, TPU, 17179869184, 6895034419450112142)\n",
            "INFO:tensorflow:*** Available Device: _DeviceAttributes(/job:worker/replica:0/task:0/device:TPU:6, TPU, 17179869184, 22718087368919159)\n",
            "INFO:tensorflow:*** Available Device: _DeviceAttributes(/job:worker/replica:0/task:0/device:TPU:7, TPU, 17179869184, 17971390634073933564)\n",
            "INFO:tensorflow:*** Available Device: _DeviceAttributes(/job:worker/replica:0/task:0/device:TPU_SYSTEM:0, TPU_SYSTEM, 17179869184, 17968918297085487944)\n",
            "WARNING:tensorflow:tpu_model (from tensorflow.contrib.tpu.python.tpu.keras_support) is experimental and may change or be removed at any time, and without warning.\n",
            "finish\n"
          ],
          "name": "stdout"
        }
      ]
    },
    {
      "metadata": {
        "id": "hOj3QaVNVm-H",
        "colab_type": "text"
      },
      "cell_type": "markdown",
      "source": [
        "# Train"
      ]
    },
    {
      "metadata": {
        "id": "5Kl8pgH8Vope",
        "colab_type": "code",
        "outputId": "3df231b0-9736-4fa7-8ec2-56e91de5678b",
        "colab": {
          "base_uri": "https://localhost:8080/",
          "height": 5513
        }
      },
      "cell_type": "code",
      "source": [
        "print('start training')\n",
        "# callbacks = [History, cp_callback]\n",
        "\n",
        "history = TPU_model.fit_generator(generate_data(train_data, BATCH_SIZE, True),\n",
        "                              steps_per_epoch = STEPS_PER_EPOCH,\n",
        "                              epochs = EPOCHS,\n",
        "                              validation_data = generate_data(valid_data, BATCH_SIZE, False) ,\n",
        "                              validation_steps = VALIDATION_STEPS,\n",
        "                              verbose = 1,\n",
        "                              initial_epoch = 0,\n",
        "                              callbacks = [History,cp_callback,csv_logger]\n",
        "                             )\n",
        "print(\"finish training\")\n",
        "\n",
        "History.loss_plot('epoch', LOSS_PLOT_PATH, ACC_PLOT_PATH)\n",
        "\n",
        "print('finish!')"
      ],
      "execution_count": 0,
      "outputs": [
        {
          "output_type": "stream",
          "text": [
            "start training\n",
            "Epoch 1/50\n",
            "INFO:tensorflow:New input shapes; (re-)compiling: mode=train (# of cores 8), [TensorSpec(shape=(12,), dtype=tf.int32, name='core_id_20'), TensorSpec(shape=(12, 3, 225, 225, 1), dtype=tf.float32, name='input_3_10'), TensorSpec(shape=(12, 1), dtype=tf.float32, name='Softmax_target_50')]\n",
            "INFO:tensorflow:Overriding default placeholder.\n",
            "INFO:tensorflow:Remapping placeholder for input_3\n",
            "INFO:tensorflow:Started compiling\n",
            "INFO:tensorflow:Finished compiling. Time elapsed: 68.03637170791626 secs\n",
            "INFO:tensorflow:Setting weights on TPU model.\n",
            "424/425 [============================>.] - ETA: 1s - loss: 4.3930 - acc: 0.1663INFO:tensorflow:New input shapes; (re-)compiling: mode=eval (# of cores 8), [TensorSpec(shape=(12,), dtype=tf.int32, name='core_id_30'), TensorSpec(shape=(12, 3, 225, 225, 1), dtype=tf.float32, name='input_3_10'), TensorSpec(shape=(12, 1), dtype=tf.float32, name='Softmax_target_50')]\n",
            "INFO:tensorflow:Overriding default placeholder.\n",
            "INFO:tensorflow:Remapping placeholder for input_3\n",
            "INFO:tensorflow:Started compiling\n",
            "INFO:tensorflow:Finished compiling. Time elapsed: 59.174062728881836 secs\n",
            "\n",
            "Epoch 00001: val_acc improved from -inf to 0.25479, saving model to gdrive/My Drive/QW/Notebook/Quick Draw/Thesis_pre_research/(3-1)Stroke_LSTM-Skatch-A-Net/best_model_3_1.ckpt\n",
            "INFO:tensorflow:Copying TPU weights to the CPU\n",
            "WARNING:tensorflow:TensorFlow optimizers do not make it possible to access optimizer attributes or optimizer state after instantiation. As a result, we cannot save the optimizer as part of the model save file.You will have to compile your model again after loading it. Prefer using a Keras optimizer instead (see keras.io/optimizers).\n",
            "425/425 [==============================] - 772s 2s/step - loss: 4.3914 - acc: 0.1667 - val_loss: 4.0412 - val_acc: 0.2548\n",
            "Epoch 2/50\n",
            "424/425 [============================>.] - ETA: 0s - loss: 3.1749 - acc: 0.3250\n",
            "Epoch 00002: val_acc improved from 0.25479 to 0.39292, saving model to gdrive/My Drive/QW/Notebook/Quick Draw/Thesis_pre_research/(3-1)Stroke_LSTM-Skatch-A-Net/best_model_3_1.ckpt\n",
            "INFO:tensorflow:Copying TPU weights to the CPU\n",
            "WARNING:tensorflow:TensorFlow optimizers do not make it possible to access optimizer attributes or optimizer state after instantiation. As a result, we cannot save the optimizer as part of the model save file.You will have to compile your model again after loading it. Prefer using a Keras optimizer instead (see keras.io/optimizers).\n",
            "425/425 [==============================] - 419s 986ms/step - loss: 3.1751 - acc: 0.3250 - val_loss: 2.9500 - val_acc: 0.3929\n",
            "Epoch 3/50\n",
            "424/425 [============================>.] - ETA: 0s - loss: 2.7405 - acc: 0.4056\n",
            "Epoch 00003: val_acc improved from 0.39292 to 0.44448, saving model to gdrive/My Drive/QW/Notebook/Quick Draw/Thesis_pre_research/(3-1)Stroke_LSTM-Skatch-A-Net/best_model_3_1.ckpt\n",
            "INFO:tensorflow:Copying TPU weights to the CPU\n",
            "WARNING:tensorflow:TensorFlow optimizers do not make it possible to access optimizer attributes or optimizer state after instantiation. As a result, we cannot save the optimizer as part of the model save file.You will have to compile your model again after loading it. Prefer using a Keras optimizer instead (see keras.io/optimizers).\n",
            "425/425 [==============================] - 413s 973ms/step - loss: 2.7399 - acc: 0.4056 - val_loss: 2.5952 - val_acc: 0.4445\n",
            "Epoch 4/50\n",
            "424/425 [============================>.] - ETA: 0s - loss: 2.5010 - acc: 0.4426\n",
            "Epoch 00004: val_acc improved from 0.44448 to 0.46823, saving model to gdrive/My Drive/QW/Notebook/Quick Draw/Thesis_pre_research/(3-1)Stroke_LSTM-Skatch-A-Net/best_model_3_1.ckpt\n",
            "INFO:tensorflow:Copying TPU weights to the CPU\n",
            "WARNING:tensorflow:TensorFlow optimizers do not make it possible to access optimizer attributes or optimizer state after instantiation. As a result, we cannot save the optimizer as part of the model save file.You will have to compile your model again after loading it. Prefer using a Keras optimizer instead (see keras.io/optimizers).\n",
            "425/425 [==============================] - 412s 970ms/step - loss: 2.5006 - acc: 0.4427 - val_loss: 2.4804 - val_acc: 0.4682\n",
            "Epoch 5/50\n",
            "424/425 [============================>.] - ETA: 0s - loss: 2.3373 - acc: 0.4738\n",
            "Epoch 00005: val_acc improved from 0.46823 to 0.50542, saving model to gdrive/My Drive/QW/Notebook/Quick Draw/Thesis_pre_research/(3-1)Stroke_LSTM-Skatch-A-Net/best_model_3_1.ckpt\n",
            "INFO:tensorflow:Copying TPU weights to the CPU\n",
            "WARNING:tensorflow:TensorFlow optimizers do not make it possible to access optimizer attributes or optimizer state after instantiation. As a result, we cannot save the optimizer as part of the model save file.You will have to compile your model again after loading it. Prefer using a Keras optimizer instead (see keras.io/optimizers).\n",
            "425/425 [==============================] - 417s 981ms/step - loss: 2.3369 - acc: 0.4738 - val_loss: 2.2047 - val_acc: 0.5054\n",
            "Epoch 6/50\n",
            "424/425 [============================>.] - ETA: 0s - loss: 2.2350 - acc: 0.4923\n",
            "Epoch 00006: val_acc improved from 0.50542 to 0.52958, saving model to gdrive/My Drive/QW/Notebook/Quick Draw/Thesis_pre_research/(3-1)Stroke_LSTM-Skatch-A-Net/best_model_3_1.ckpt\n",
            "INFO:tensorflow:Copying TPU weights to the CPU\n",
            "WARNING:tensorflow:TensorFlow optimizers do not make it possible to access optimizer attributes or optimizer state after instantiation. As a result, we cannot save the optimizer as part of the model save file.You will have to compile your model again after loading it. Prefer using a Keras optimizer instead (see keras.io/optimizers).\n",
            "425/425 [==============================] - 415s 977ms/step - loss: 2.2354 - acc: 0.4922 - val_loss: 2.1050 - val_acc: 0.5296\n",
            "Epoch 7/50\n",
            "424/425 [============================>.] - ETA: 0s - loss: 2.1069 - acc: 0.5178\n",
            "Epoch 00007: val_acc improved from 0.52958 to 0.54177, saving model to gdrive/My Drive/QW/Notebook/Quick Draw/Thesis_pre_research/(3-1)Stroke_LSTM-Skatch-A-Net/best_model_3_1.ckpt\n",
            "INFO:tensorflow:Copying TPU weights to the CPU\n",
            "WARNING:tensorflow:TensorFlow optimizers do not make it possible to access optimizer attributes or optimizer state after instantiation. As a result, we cannot save the optimizer as part of the model save file.You will have to compile your model again after loading it. Prefer using a Keras optimizer instead (see keras.io/optimizers).\n",
            "425/425 [==============================] - 417s 981ms/step - loss: 2.1059 - acc: 0.5179 - val_loss: 2.0439 - val_acc: 0.5418\n",
            "Epoch 8/50\n",
            "424/425 [============================>.] - ETA: 0s - loss: 2.0464 - acc: 0.5271\n",
            "Epoch 00008: val_acc improved from 0.54177 to 0.55042, saving model to gdrive/My Drive/QW/Notebook/Quick Draw/Thesis_pre_research/(3-1)Stroke_LSTM-Skatch-A-Net/best_model_3_1.ckpt\n",
            "INFO:tensorflow:Copying TPU weights to the CPU\n",
            "WARNING:tensorflow:TensorFlow optimizers do not make it possible to access optimizer attributes or optimizer state after instantiation. As a result, we cannot save the optimizer as part of the model save file.You will have to compile your model again after loading it. Prefer using a Keras optimizer instead (see keras.io/optimizers).\n",
            "425/425 [==============================] - 415s 976ms/step - loss: 2.0465 - acc: 0.5271 - val_loss: 1.9622 - val_acc: 0.5504\n",
            "Epoch 9/50\n",
            "424/425 [============================>.] - ETA: 0s - loss: 1.9628 - acc: 0.5434\n",
            "Epoch 00009: val_acc improved from 0.55042 to 0.57281, saving model to gdrive/My Drive/QW/Notebook/Quick Draw/Thesis_pre_research/(3-1)Stroke_LSTM-Skatch-A-Net/best_model_3_1.ckpt\n",
            "INFO:tensorflow:Copying TPU weights to the CPU\n",
            "WARNING:tensorflow:TensorFlow optimizers do not make it possible to access optimizer attributes or optimizer state after instantiation. As a result, we cannot save the optimizer as part of the model save file.You will have to compile your model again after loading it. Prefer using a Keras optimizer instead (see keras.io/optimizers).\n",
            "425/425 [==============================] - 415s 976ms/step - loss: 1.9629 - acc: 0.5435 - val_loss: 1.8613 - val_acc: 0.5728\n",
            "Epoch 10/50\n",
            "424/425 [============================>.] - ETA: 0s - loss: 1.9215 - acc: 0.5535\n",
            "Epoch 00010: val_acc did not improve from 0.57281\n",
            "425/425 [==============================] - 400s 941ms/step - loss: 1.9212 - acc: 0.5535 - val_loss: 1.8557 - val_acc: 0.5716\n",
            "Epoch 11/50\n",
            "424/425 [============================>.] - ETA: 0s - loss: 1.8789 - acc: 0.5622\n",
            "Epoch 00011: val_acc improved from 0.57281 to 0.58156, saving model to gdrive/My Drive/QW/Notebook/Quick Draw/Thesis_pre_research/(3-1)Stroke_LSTM-Skatch-A-Net/best_model_3_1.ckpt\n",
            "INFO:tensorflow:Copying TPU weights to the CPU\n",
            "WARNING:tensorflow:TensorFlow optimizers do not make it possible to access optimizer attributes or optimizer state after instantiation. As a result, we cannot save the optimizer as part of the model save file.You will have to compile your model again after loading it. Prefer using a Keras optimizer instead (see keras.io/optimizers).\n",
            "425/425 [==============================] - 419s 987ms/step - loss: 1.8784 - acc: 0.5623 - val_loss: 1.7853 - val_acc: 0.5816\n",
            "Epoch 12/50\n",
            "424/425 [============================>.] - ETA: 0s - loss: 1.8306 - acc: 0.5681\n",
            "Epoch 00012: val_acc did not improve from 0.58156\n",
            "425/425 [==============================] - 401s 944ms/step - loss: 1.8310 - acc: 0.5680 - val_loss: 1.7967 - val_acc: 0.5800\n",
            "Epoch 13/50\n",
            "424/425 [============================>.] - ETA: 0s - loss: 1.8081 - acc: 0.5761\n",
            "Epoch 00013: val_acc improved from 0.58156 to 0.59583, saving model to gdrive/My Drive/QW/Notebook/Quick Draw/Thesis_pre_research/(3-1)Stroke_LSTM-Skatch-A-Net/best_model_3_1.ckpt\n",
            "INFO:tensorflow:Copying TPU weights to the CPU\n",
            "WARNING:tensorflow:TensorFlow optimizers do not make it possible to access optimizer attributes or optimizer state after instantiation. As a result, we cannot save the optimizer as part of the model save file.You will have to compile your model again after loading it. Prefer using a Keras optimizer instead (see keras.io/optimizers).\n",
            "425/425 [==============================] - 420s 988ms/step - loss: 1.8075 - acc: 0.5761 - val_loss: 1.7348 - val_acc: 0.5958\n",
            "Epoch 14/50\n",
            "424/425 [============================>.] - ETA: 0s - loss: 1.7675 - acc: 0.5830\n",
            "Epoch 00014: val_acc improved from 0.59583 to 0.60063, saving model to gdrive/My Drive/QW/Notebook/Quick Draw/Thesis_pre_research/(3-1)Stroke_LSTM-Skatch-A-Net/best_model_3_1.ckpt\n",
            "INFO:tensorflow:Copying TPU weights to the CPU\n",
            "WARNING:tensorflow:TensorFlow optimizers do not make it possible to access optimizer attributes or optimizer state after instantiation. As a result, we cannot save the optimizer as part of the model save file.You will have to compile your model again after loading it. Prefer using a Keras optimizer instead (see keras.io/optimizers).\n",
            "425/425 [==============================] - 421s 991ms/step - loss: 1.7678 - acc: 0.5830 - val_loss: 1.7275 - val_acc: 0.6006\n",
            "Epoch 15/50\n",
            "424/425 [============================>.] - ETA: 0s - loss: 1.7441 - acc: 0.5910\n",
            "Epoch 00015: val_acc improved from 0.60063 to 0.60719, saving model to gdrive/My Drive/QW/Notebook/Quick Draw/Thesis_pre_research/(3-1)Stroke_LSTM-Skatch-A-Net/best_model_3_1.ckpt\n",
            "INFO:tensorflow:Copying TPU weights to the CPU\n",
            "WARNING:tensorflow:TensorFlow optimizers do not make it possible to access optimizer attributes or optimizer state after instantiation. As a result, we cannot save the optimizer as part of the model save file.You will have to compile your model again after loading it. Prefer using a Keras optimizer instead (see keras.io/optimizers).\n",
            "425/425 [==============================] - 424s 999ms/step - loss: 1.7431 - acc: 0.5911 - val_loss: 1.6485 - val_acc: 0.6072\n",
            "Epoch 16/50\n",
            "424/425 [============================>.] - ETA: 0s - loss: 1.7158 - acc: 0.5951\n",
            "Epoch 00016: val_acc improved from 0.60719 to 0.61156, saving model to gdrive/My Drive/QW/Notebook/Quick Draw/Thesis_pre_research/(3-1)Stroke_LSTM-Skatch-A-Net/best_model_3_1.ckpt\n",
            "INFO:tensorflow:Copying TPU weights to the CPU\n",
            "WARNING:tensorflow:TensorFlow optimizers do not make it possible to access optimizer attributes or optimizer state after instantiation. As a result, we cannot save the optimizer as part of the model save file.You will have to compile your model again after loading it. Prefer using a Keras optimizer instead (see keras.io/optimizers).\n",
            "425/425 [==============================] - 422s 992ms/step - loss: 1.7157 - acc: 0.5950 - val_loss: 1.6627 - val_acc: 0.6116\n",
            "Epoch 17/50\n",
            "424/425 [============================>.] - ETA: 0s - loss: 1.6767 - acc: 0.6018\n",
            "Epoch 00017: val_acc improved from 0.61156 to 0.61656, saving model to gdrive/My Drive/QW/Notebook/Quick Draw/Thesis_pre_research/(3-1)Stroke_LSTM-Skatch-A-Net/best_model_3_1.ckpt\n",
            "INFO:tensorflow:Copying TPU weights to the CPU\n",
            "WARNING:tensorflow:TensorFlow optimizers do not make it possible to access optimizer attributes or optimizer state after instantiation. As a result, we cannot save the optimizer as part of the model save file.You will have to compile your model again after loading it. Prefer using a Keras optimizer instead (see keras.io/optimizers).\n",
            "425/425 [==============================] - 423s 994ms/step - loss: 1.6767 - acc: 0.6018 - val_loss: 1.6435 - val_acc: 0.6166\n",
            "Epoch 18/50\n",
            "424/425 [============================>.] - ETA: 0s - loss: 1.6790 - acc: 0.6031\n",
            "Epoch 00018: val_acc did not improve from 0.61656\n",
            "425/425 [==============================] - 407s 957ms/step - loss: 1.6786 - acc: 0.6031 - val_loss: 1.6379 - val_acc: 0.6111\n",
            "Epoch 19/50\n",
            "424/425 [============================>.] - ETA: 0s - loss: 1.6622 - acc: 0.6054\n",
            "Epoch 00019: val_acc improved from 0.61656 to 0.62021, saving model to gdrive/My Drive/QW/Notebook/Quick Draw/Thesis_pre_research/(3-1)Stroke_LSTM-Skatch-A-Net/best_model_3_1.ckpt\n",
            "INFO:tensorflow:Copying TPU weights to the CPU\n",
            "WARNING:tensorflow:TensorFlow optimizers do not make it possible to access optimizer attributes or optimizer state after instantiation. As a result, we cannot save the optimizer as part of the model save file.You will have to compile your model again after loading it. Prefer using a Keras optimizer instead (see keras.io/optimizers).\n",
            "425/425 [==============================] - 423s 995ms/step - loss: 1.6619 - acc: 0.6053 - val_loss: 1.6351 - val_acc: 0.6202\n",
            "Epoch 20/50\n",
            "424/425 [============================>.] - ETA: 0s - loss: 1.6325 - acc: 0.6114\n",
            "Epoch 00020: val_acc did not improve from 0.62021\n",
            "425/425 [==============================] - 406s 954ms/step - loss: 1.6324 - acc: 0.6115 - val_loss: 1.6088 - val_acc: 0.6142\n",
            "Epoch 21/50\n",
            "424/425 [============================>.] - ETA: 0s - loss: 1.6332 - acc: 0.6135\n",
            "Epoch 00021: val_acc improved from 0.62021 to 0.63031, saving model to gdrive/My Drive/QW/Notebook/Quick Draw/Thesis_pre_research/(3-1)Stroke_LSTM-Skatch-A-Net/best_model_3_1.ckpt\n",
            "INFO:tensorflow:Copying TPU weights to the CPU\n",
            "WARNING:tensorflow:TensorFlow optimizers do not make it possible to access optimizer attributes or optimizer state after instantiation. As a result, we cannot save the optimizer as part of the model save file.You will have to compile your model again after loading it. Prefer using a Keras optimizer instead (see keras.io/optimizers).\n",
            "425/425 [==============================] - 421s 990ms/step - loss: 1.6340 - acc: 0.6134 - val_loss: 1.5630 - val_acc: 0.6303\n",
            "Epoch 22/50\n",
            "424/425 [============================>.] - ETA: 0s - loss: 1.6150 - acc: 0.6166\n",
            "Epoch 00022: val_acc improved from 0.63031 to 0.63177, saving model to gdrive/My Drive/QW/Notebook/Quick Draw/Thesis_pre_research/(3-1)Stroke_LSTM-Skatch-A-Net/best_model_3_1.ckpt\n",
            "INFO:tensorflow:Copying TPU weights to the CPU\n",
            "WARNING:tensorflow:TensorFlow optimizers do not make it possible to access optimizer attributes or optimizer state after instantiation. As a result, we cannot save the optimizer as part of the model save file.You will have to compile your model again after loading it. Prefer using a Keras optimizer instead (see keras.io/optimizers).\n",
            "425/425 [==============================] - 427s 1s/step - loss: 1.6147 - acc: 0.6166 - val_loss: 1.5184 - val_acc: 0.6318\n",
            "Epoch 23/50\n",
            "424/425 [============================>.] - ETA: 0s - loss: 1.5715 - acc: 0.6226\n",
            "Epoch 00023: val_acc did not improve from 0.63177\n",
            "425/425 [==============================] - 404s 951ms/step - loss: 1.5714 - acc: 0.6225 - val_loss: 1.5480 - val_acc: 0.6301\n",
            "Epoch 24/50\n",
            "424/425 [============================>.] - ETA: 0s - loss: 1.5873 - acc: 0.6216\n",
            "Epoch 00024: val_acc improved from 0.63177 to 0.63490, saving model to gdrive/My Drive/QW/Notebook/Quick Draw/Thesis_pre_research/(3-1)Stroke_LSTM-Skatch-A-Net/best_model_3_1.ckpt\n",
            "INFO:tensorflow:Copying TPU weights to the CPU\n",
            "WARNING:tensorflow:TensorFlow optimizers do not make it possible to access optimizer attributes or optimizer state after instantiation. As a result, we cannot save the optimizer as part of the model save file.You will have to compile your model again after loading it. Prefer using a Keras optimizer instead (see keras.io/optimizers).\n",
            "425/425 [==============================] - 422s 993ms/step - loss: 1.5871 - acc: 0.6216 - val_loss: 1.5201 - val_acc: 0.6349\n",
            "Epoch 25/50\n",
            "424/425 [============================>.] - ETA: 0s - loss: 1.5461 - acc: 0.6294\n",
            "Epoch 00025: val_acc improved from 0.63490 to 0.63833, saving model to gdrive/My Drive/QW/Notebook/Quick Draw/Thesis_pre_research/(3-1)Stroke_LSTM-Skatch-A-Net/best_model_3_1.ckpt\n",
            "INFO:tensorflow:Copying TPU weights to the CPU\n",
            "WARNING:tensorflow:TensorFlow optimizers do not make it possible to access optimizer attributes or optimizer state after instantiation. As a result, we cannot save the optimizer as part of the model save file.You will have to compile your model again after loading it. Prefer using a Keras optimizer instead (see keras.io/optimizers).\n",
            "425/425 [==============================] - 424s 997ms/step - loss: 1.5463 - acc: 0.6294 - val_loss: 1.5406 - val_acc: 0.6383\n",
            "Epoch 26/50\n",
            "424/425 [============================>.] - ETA: 0s - loss: 1.5414 - acc: 0.6317\n",
            "Epoch 00026: val_acc improved from 0.63833 to 0.64615, saving model to gdrive/My Drive/QW/Notebook/Quick Draw/Thesis_pre_research/(3-1)Stroke_LSTM-Skatch-A-Net/best_model_3_1.ckpt\n",
            "INFO:tensorflow:Copying TPU weights to the CPU\n",
            "WARNING:tensorflow:TensorFlow optimizers do not make it possible to access optimizer attributes or optimizer state after instantiation. As a result, we cannot save the optimizer as part of the model save file.You will have to compile your model again after loading it. Prefer using a Keras optimizer instead (see keras.io/optimizers).\n",
            "425/425 [==============================] - 427s 1s/step - loss: 1.5413 - acc: 0.6318 - val_loss: 1.4676 - val_acc: 0.6461\n",
            "Epoch 27/50\n",
            "424/425 [============================>.] - ETA: 0s - loss: 1.5455 - acc: 0.6313\n",
            "Epoch 00027: val_acc improved from 0.64615 to 0.64958, saving model to gdrive/My Drive/QW/Notebook/Quick Draw/Thesis_pre_research/(3-1)Stroke_LSTM-Skatch-A-Net/best_model_3_1.ckpt\n",
            "INFO:tensorflow:Copying TPU weights to the CPU\n",
            "WARNING:tensorflow:TensorFlow optimizers do not make it possible to access optimizer attributes or optimizer state after instantiation. As a result, we cannot save the optimizer as part of the model save file.You will have to compile your model again after loading it. Prefer using a Keras optimizer instead (see keras.io/optimizers).\n",
            "425/425 [==============================] - 426s 1s/step - loss: 1.5449 - acc: 0.6314 - val_loss: 1.4633 - val_acc: 0.6496\n",
            "Epoch 28/50\n",
            "424/425 [============================>.] - ETA: 0s - loss: 1.5181 - acc: 0.6350\n",
            "Epoch 00028: val_acc improved from 0.64958 to 0.65438, saving model to gdrive/My Drive/QW/Notebook/Quick Draw/Thesis_pre_research/(3-1)Stroke_LSTM-Skatch-A-Net/best_model_3_1.ckpt\n",
            "INFO:tensorflow:Copying TPU weights to the CPU\n",
            "WARNING:tensorflow:TensorFlow optimizers do not make it possible to access optimizer attributes or optimizer state after instantiation. As a result, we cannot save the optimizer as part of the model save file.You will have to compile your model again after loading it. Prefer using a Keras optimizer instead (see keras.io/optimizers).\n",
            "425/425 [==============================] - 429s 1s/step - loss: 1.5192 - acc: 0.6348 - val_loss: 1.4539 - val_acc: 0.6544\n",
            "Epoch 29/50\n",
            "424/425 [============================>.] - ETA: 0s - loss: 1.5154 - acc: 0.6373\n",
            "Epoch 00029: val_acc did not improve from 0.65438\n",
            "425/425 [==============================] - 405s 952ms/step - loss: 1.5151 - acc: 0.6372 - val_loss: 1.4813 - val_acc: 0.6467\n",
            "Epoch 30/50\n",
            "424/425 [============================>.] - ETA: 0s - loss: 1.5141 - acc: 0.6398\n",
            "Epoch 00030: val_acc improved from 0.65438 to 0.66125, saving model to gdrive/My Drive/QW/Notebook/Quick Draw/Thesis_pre_research/(3-1)Stroke_LSTM-Skatch-A-Net/best_model_3_1.ckpt\n",
            "INFO:tensorflow:Copying TPU weights to the CPU\n",
            "WARNING:tensorflow:TensorFlow optimizers do not make it possible to access optimizer attributes or optimizer state after instantiation. As a result, we cannot save the optimizer as part of the model save file.You will have to compile your model again after loading it. Prefer using a Keras optimizer instead (see keras.io/optimizers).\n",
            "425/425 [==============================] - 424s 998ms/step - loss: 1.5138 - acc: 0.6397 - val_loss: 1.4034 - val_acc: 0.6613\n",
            "Epoch 31/50\n",
            "424/425 [============================>.] - ETA: 0s - loss: 1.5084 - acc: 0.6398\n",
            "Epoch 00031: val_acc did not improve from 0.66125\n",
            "425/425 [==============================] - 409s 962ms/step - loss: 1.5080 - acc: 0.6400 - val_loss: 1.4990 - val_acc: 0.6440\n",
            "Epoch 32/50\n",
            "424/425 [============================>.] - ETA: 0s - loss: 1.4803 - acc: 0.6427\n",
            "Epoch 00032: val_acc did not improve from 0.66125\n",
            "425/425 [==============================] - 403s 948ms/step - loss: 1.4807 - acc: 0.6428 - val_loss: 1.4252 - val_acc: 0.6554\n",
            "Epoch 33/50\n",
            "424/425 [============================>.] - ETA: 0s - loss: 1.4854 - acc: 0.6429\n",
            "Epoch 00033: val_acc did not improve from 0.66125\n",
            "425/425 [==============================] - 405s 953ms/step - loss: 1.4857 - acc: 0.6428 - val_loss: 1.4034 - val_acc: 0.6592\n",
            "Epoch 34/50\n",
            "424/425 [============================>.] - ETA: 0s - loss: 1.4865 - acc: 0.6418\n",
            "Epoch 00034: val_acc did not improve from 0.66125\n",
            "425/425 [==============================] - 405s 952ms/step - loss: 1.4868 - acc: 0.6418 - val_loss: 1.4318 - val_acc: 0.6601\n",
            "Epoch 35/50\n",
            "424/425 [============================>.] - ETA: 0s - loss: 1.4660 - acc: 0.6487\n",
            "Epoch 00035: val_acc did not improve from 0.66125\n",
            "425/425 [==============================] - 404s 951ms/step - loss: 1.4672 - acc: 0.6484 - val_loss: 1.4727 - val_acc: 0.6522\n",
            "Epoch 36/50\n",
            "424/425 [============================>.] - ETA: 0s - loss: 1.4666 - acc: 0.6462\n",
            "Epoch 00036: val_acc did not improve from 0.66125\n",
            "425/425 [==============================] - 402s 945ms/step - loss: 1.4659 - acc: 0.6463 - val_loss: 1.4707 - val_acc: 0.6528\n",
            "Epoch 37/50\n",
            "424/425 [============================>.] - ETA: 0s - loss: 1.4276 - acc: 0.6564\n",
            "Epoch 00037: val_acc improved from 0.66125 to 0.67729, saving model to gdrive/My Drive/QW/Notebook/Quick Draw/Thesis_pre_research/(3-1)Stroke_LSTM-Skatch-A-Net/best_model_3_1.ckpt\n",
            "INFO:tensorflow:Copying TPU weights to the CPU\n",
            "WARNING:tensorflow:TensorFlow optimizers do not make it possible to access optimizer attributes or optimizer state after instantiation. As a result, we cannot save the optimizer as part of the model save file.You will have to compile your model again after loading it. Prefer using a Keras optimizer instead (see keras.io/optimizers).\n",
            "425/425 [==============================] - 429s 1s/step - loss: 1.4279 - acc: 0.6564 - val_loss: 1.3551 - val_acc: 0.6773\n",
            "Epoch 38/50\n",
            "424/425 [============================>.] - ETA: 0s - loss: 1.4554 - acc: 0.6516\n",
            "Epoch 00038: val_acc did not improve from 0.67729\n",
            "425/425 [==============================] - 417s 982ms/step - loss: 1.4556 - acc: 0.6515 - val_loss: 1.3785 - val_acc: 0.6658\n",
            "Epoch 39/50\n",
            "424/425 [============================>.] - ETA: 0s - loss: 1.4429 - acc: 0.6513\n",
            "Epoch 00039: val_acc did not improve from 0.67729\n",
            "425/425 [==============================] - 407s 957ms/step - loss: 1.4432 - acc: 0.6512 - val_loss: 1.3882 - val_acc: 0.6633\n",
            "Epoch 40/50\n",
            "424/425 [============================>.] - ETA: 0s - loss: 1.4544 - acc: 0.6514\n",
            "Epoch 00040: val_acc did not improve from 0.67729\n",
            "425/425 [==============================] - 405s 953ms/step - loss: 1.4535 - acc: 0.6516 - val_loss: 1.3642 - val_acc: 0.6696\n",
            "Epoch 41/50\n",
            "424/425 [============================>.] - ETA: 0s - loss: 1.4308 - acc: 0.6565\n",
            "Epoch 00041: val_acc did not improve from 0.67729\n",
            "425/425 [==============================] - 403s 948ms/step - loss: 1.4303 - acc: 0.6565 - val_loss: 1.3960 - val_acc: 0.6668\n",
            "Epoch 42/50\n",
            "424/425 [============================>.] - ETA: 0s - loss: 1.4370 - acc: 0.6551\n",
            "Epoch 00042: val_acc did not improve from 0.67729\n",
            "425/425 [==============================] - 404s 951ms/step - loss: 1.4371 - acc: 0.6549 - val_loss: 1.3912 - val_acc: 0.6638\n",
            "Epoch 43/50\n",
            "424/425 [============================>.] - ETA: 0s - loss: 1.4160 - acc: 0.6583\n",
            "Epoch 00043: val_acc did not improve from 0.67729\n",
            "425/425 [==============================] - 403s 949ms/step - loss: 1.4152 - acc: 0.6585 - val_loss: 1.3890 - val_acc: 0.6595\n",
            "Epoch 44/50\n",
            "424/425 [============================>.] - ETA: 0s - loss: 1.4113 - acc: 0.6588\n",
            "Epoch 00044: val_acc did not improve from 0.67729\n",
            "425/425 [==============================] - 405s 954ms/step - loss: 1.4119 - acc: 0.6587 - val_loss: 1.3810 - val_acc: 0.6646\n",
            "Epoch 45/50\n",
            "424/425 [============================>.] - ETA: 0s - loss: 1.4139 - acc: 0.6575\n",
            "Epoch 00045: val_acc did not improve from 0.67729\n",
            "425/425 [==============================] - 404s 950ms/step - loss: 1.4131 - acc: 0.6576 - val_loss: 1.3963 - val_acc: 0.6600\n",
            "Epoch 46/50\n",
            "424/425 [============================>.] - ETA: 0s - loss: 1.3979 - acc: 0.6646\n",
            "Epoch 00046: val_acc improved from 0.67729 to 0.68615, saving model to gdrive/My Drive/QW/Notebook/Quick Draw/Thesis_pre_research/(3-1)Stroke_LSTM-Skatch-A-Net/best_model_3_1.ckpt\n",
            "INFO:tensorflow:Copying TPU weights to the CPU\n",
            "WARNING:tensorflow:TensorFlow optimizers do not make it possible to access optimizer attributes or optimizer state after instantiation. As a result, we cannot save the optimizer as part of the model save file.You will have to compile your model again after loading it. Prefer using a Keras optimizer instead (see keras.io/optimizers).\n",
            "425/425 [==============================] - 429s 1s/step - loss: 1.3972 - acc: 0.6648 - val_loss: 1.3027 - val_acc: 0.6861\n",
            "Epoch 47/50\n",
            "424/425 [============================>.] - ETA: 0s - loss: 1.3830 - acc: 0.6653\n",
            "Epoch 00047: val_acc did not improve from 0.68615\n",
            "425/425 [==============================] - 409s 962ms/step - loss: 1.3847 - acc: 0.6652 - val_loss: 1.3674 - val_acc: 0.6672\n",
            "Epoch 48/50\n",
            "424/425 [============================>.] - ETA: 0s - loss: 1.3955 - acc: 0.6608\n",
            "Epoch 00048: val_acc did not improve from 0.68615\n",
            "425/425 [==============================] - 403s 948ms/step - loss: 1.3957 - acc: 0.6608 - val_loss: 1.3127 - val_acc: 0.6858\n",
            "Epoch 49/50\n",
            "424/425 [============================>.] - ETA: 0s - loss: 1.4060 - acc: 0.6607\n",
            "Epoch 00049: val_acc did not improve from 0.68615\n",
            "425/425 [==============================] - 403s 949ms/step - loss: 1.4061 - acc: 0.6606 - val_loss: 1.3476 - val_acc: 0.6764\n",
            "Epoch 50/50\n",
            "424/425 [============================>.] - ETA: 0s - loss: 1.3722 - acc: 0.6671\n",
            "Epoch 00050: val_acc did not improve from 0.68615\n",
            "425/425 [==============================] - 404s 950ms/step - loss: 1.3713 - acc: 0.6674 - val_loss: 1.3877 - val_acc: 0.6741\n",
            "finish training\n"
          ],
          "name": "stdout"
        },
        {
          "output_type": "display_data",
          "data": {
            "image/png": "[encoded data removed]",
            "text/plain": [
              "<matplotlib.figure.Figure at 0x7fa8c7c62518>"
            ]
          },
          "metadata": {
            "tags": []
          }
        },
        {
          "output_type": "display_data",
          "data": {
            "image/png": "[encoded data removed]",
            "text/plain": [
              "<matplotlib.figure.Figure at 0x7fa8bae64e10>"
            ]
          },
          "metadata": {
            "tags": []
          }
        },
        {
          "output_type": "stream",
          "text": [
            "finish!\n"
          ],
          "name": "stdout"
        }
      ]
    },
    {
      "metadata": {
        "id": "tcSkjCYQdOQZ",
        "colab_type": "text"
      },
      "cell_type": "markdown",
      "source": [
        "# Evaluate"
      ]
    },
    {
      "metadata": {
        "id": "nxYmQfd1dPqS",
        "colab_type": "code",
        "outputId": "0d974b24-8a28-4547-be93-f0749717ba4f",
        "colab": {
          "base_uri": "https://localhost:8080/",
          "height": 35
        }
      },
      "cell_type": "code",
      "source": [
        "def top_3_accuracy(X, Y):\n",
        "        return sparse_top_k_categorical_accuracy(X, Y, 3)\n",
        "  \n",
        "def top_5_accuracy(X, Y):\n",
        "        return sparse_top_k_categorical_accuracy(X, Y, 5)\n",
        "  \n",
        "model_E = MODEL  \n",
        "\n",
        "\n",
        "model_E.compile(loss=tf.keras.losses.sparse_categorical_crossentropy,\n",
        "                    optimizer=tf.train.AdamOptimizer(learning_rate=1e-4),\n",
        "                    metrics=['accuracy',top_3_accuracy, top_5_accuracy])\n",
        "\n",
        "model_weights_path = CKPT_PATH   \n",
        "model_E.load_weights(model_weights_path)\n",
        "print('finish')"
      ],
      "execution_count": 0,
      "outputs": [
        {
          "output_type": "stream",
          "text": [
            "finish\n"
          ],
          "name": "stdout"
        }
      ]
    },
    {
      "metadata": {
        "id": "LLuK_LS3dTzs",
        "colab_type": "code",
        "outputId": "2741b5ef-ffec-4442-8933-ca1149bad5b3",
        "colab": {
          "base_uri": "https://localhost:8080/",
          "height": 125
        }
      },
      "cell_type": "code",
      "source": [
        "result = model_E.evaluate_generator(\n",
        "    generate_data(valid_data, BATCH_SIZE, False),\n",
        "    steps = EVALUATE_STEPS,\n",
        "    verbose = 1\n",
        ")\n",
        "print('number of test samples:', len(result))\n",
        "print('loss:', result[0])\n",
        "print('top1 accuracy:', result[1])\n",
        "print('top3 accuracy:', result[2])\n",
        "print('top3 accuracy:', result[3])"
      ],
      "execution_count": 0,
      "outputs": [
        {
          "output_type": "stream",
          "text": [
            "850/850 [==============================] - 453s 532ms/step\n",
            "number of test samples: 4\n",
            "loss: 1.332117350802702\n",
            "top1 accuracy: 0.6783235291172477\n",
            "top3 accuracy: 0.8453823546802296\n",
            "top3 accuracy: 0.8867411743192112\n"
          ],
          "name": "stdout"
        }
      ]
    }
  ]
}