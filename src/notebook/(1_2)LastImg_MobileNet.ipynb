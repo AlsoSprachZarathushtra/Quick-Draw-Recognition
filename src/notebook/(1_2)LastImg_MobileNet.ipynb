{
  "nbformat": 4,
  "nbformat_minor": 0,
  "metadata": {
    "colab": {
      "name": "(1-2)LastImg_MobileNet.ipynb",
      "version": "0.3.2",
      "provenance": [],
      "collapsed_sections": [],
      "toc_visible": true,
      "include_colab_link": true
    },
    "kernelspec": {
      "name": "python3",
      "display_name": "Python 3"
    },
    "accelerator": "GPU"
  },
  "cells": [
    {
      "cell_type": "markdown",
      "metadata": {
        "id": "view-in-github",
        "colab_type": "text"
      },
      "source": [
        "<a href=\"https://colab.research.google.com/github/AlsoSprachZarathushtra/Quick-Draw-Recognition/blob/master/(1_2)LastImg_MobileNet.ipynb\" target=\"_parent\"><img src=\"https://colab.research.google.com/assets/colab-badge.svg\" alt=\"Open In Colab\"/></a>"
      ]
    },
    {
      "metadata": {
        "id": "ioxMYD5fIN0l",
        "colab_type": "text"
      },
      "cell_type": "markdown",
      "source": [
        "# Connect Google Drive"
      ]
    },
    {
      "metadata": {
        "id": "QfwNChIWH-gL",
        "colab_type": "code",
        "outputId": "734479f2-3821-49ef-8180-77e365ece8c0",
        "colab": {
          "base_uri": "https://localhost:8080/",
          "height": 55
        }
      },
      "cell_type": "code",
      "source": [
        "from google.colab import drive\n",
        "drive.mount('/content/gdrive')"
      ],
      "execution_count": 0,
      "outputs": [
        {
          "output_type": "stream",
          "text": [
            "Drive already mounted at /content/gdrive; to attempt to forcibly remount, call drive.mount(\"/content/gdrive\", force_remount=True).\n"
          ],
          "name": "stdout"
        }
      ]
    },
    {
      "metadata": {
        "id": "bEMTrWPCLoJL",
        "colab_type": "text"
      },
      "cell_type": "markdown",
      "source": [
        "# Import"
      ]
    },
    {
      "metadata": {
        "id": "KRLlQxXBrXwx",
        "colab_type": "code",
        "colab": {}
      },
      "cell_type": "code",
      "source": [
        "import tensorflow as tf\n",
        "import numpy as np\n",
        "import pandas as pd\n",
        "import matplotlib.pyplot as plt\n",
        "import cv2\n",
        "import os\n",
        "\n",
        "from tensorflow import keras\n",
        "from tensorflow.keras.layers import Input\n",
        "from tensorflow.keras.layers import Conv2D\n",
        "from tensorflow.keras.layers import MaxPool2D\n",
        "from tensorflow.keras.layers import ReLU\n",
        "from tensorflow.keras.layers import Softmax\n",
        "from tensorflow.keras.layers import Flatten\n",
        "from tensorflow.keras.layers import Dropout\n",
        "from tensorflow.keras.metrics import sparse_top_k_categorical_accuracy\n",
        "from tensorflow.keras.callbacks import CSVLogger\n",
        "from ast import literal_eval\n"
      ],
      "execution_count": 0,
      "outputs": []
    },
    {
      "metadata": {
        "id": "JUvwhYjZIe-M",
        "colab_type": "text"
      },
      "cell_type": "markdown",
      "source": [
        "# Parameters  and  Work-Space Paths"
      ]
    },
    {
      "metadata": {
        "id": "dPOH3112IVQN",
        "colab_type": "code",
        "outputId": "907c49ae-19ce-4e0d-d111-0d362f0ccded",
        "colab": {
          "base_uri": "https://localhost:8080/",
          "height": 35
        }
      },
      "cell_type": "code",
      "source": [
        "# parameters\n",
        "BATCH_SIZE = 200\n",
        "EPOCHS = 50\n",
        "STEPS_PER_EPOCH = 850\n",
        "VALIDATION_STEPS = 100\n",
        "EVALUATE_STEPS = 850\n",
        "IMAGE_SIZE = 128\n",
        "LINE_SIZE = 3\n",
        "\n",
        "\n",
        "# load path\n",
        "TRAIN_DATA_PATH = 'gdrive/My Drive/QW/Data/Data_10000/All_classes_10000.csv'\n",
        "VALID_DATA_PATH = 'gdrive/My Drive/QW/Data/My_test_data/My_test_data.csv'\n",
        "LABEL_DICT_PATH = 'gdrive/My Drive/QW/Data/labels_dict.npy'\n",
        "\n",
        "# save path\n",
        "CKPT_PATH = 'gdrive/My Drive/QW/Notebook/Quick Draw/Thesis_pre_research/(1-2)LastImg_MobileNet/best_model_1_2.ckpt'\n",
        "LOSS_PLOT_PATH = 'gdrive/My Drive/QW/Notebook/Quick Draw/Thesis_pre_research/(1-2)LastImg_MobileNet/loss_plot_1_2.png'\n",
        "ACC_PLOT_PATH = 'gdrive/My Drive/QW/Notebook/Quick Draw/Thesis_pre_research/(1-2)LastImg_MobileNet/acc_plot_1_2.png'\n",
        "LOG_PATH = 'gdrive/My Drive/QW/Notebook/Quick Draw/Thesis_pre_research/(1-2)LastImg_MobileNet/Log_1_2.log'\n",
        "print('finish!')"
      ],
      "execution_count": 0,
      "outputs": [
        {
          "output_type": "stream",
          "text": [
            "finish!\n"
          ],
          "name": "stdout"
        }
      ]
    },
    {
      "metadata": {
        "id": "bTH2CjZKLbQ7",
        "colab_type": "text"
      },
      "cell_type": "markdown",
      "source": [
        "# Generator"
      ]
    },
    {
      "metadata": {
        "id": "tjIQVoD0LjKY",
        "colab_type": "code",
        "outputId": "d6914265-f495-460a-8f17-91871ec4307f",
        "colab": {
          "base_uri": "https://localhost:8080/",
          "height": 35
        }
      },
      "cell_type": "code",
      "source": [
        "def generate_data(data, batch_size, choose_recognized):\n",
        "    data = data.sample(frac = 1)\n",
        "    while 1:\n",
        "        \n",
        "#         get columns' values named 'drawing', 'word' and 'recognized'\n",
        "        drawings = data[\"drawing\"].values\n",
        "        drawing_recognized = data[\"recognized\"].values\n",
        "        drawing_class = data[\"word\"].values\n",
        "      \n",
        "#         initialization\n",
        "        cnt = 0\n",
        "        data_X =[]\n",
        "        data_Y =[]\n",
        "        \n",
        "#         generate batch\n",
        "        for i in range(len(drawings)):\n",
        "            if choose_recognized:\n",
        "                if drawing_recognized[i] == 'False':    #Choose according to recognized value\n",
        "                    continue\n",
        "            draw = drawings[i]\n",
        "            label = drawing_class[i]\n",
        "            stroke_vec = literal_eval(draw)\n",
        "            img = np.zeros([256, 256])\n",
        "            for j in range(len(stroke_vec)): \n",
        "                line = np.array(stroke_vec[j]).T\n",
        "                cv2.polylines(img, [line], False, 1, LINE_SIZE)\n",
        "            img = cv2.resize(img, (IMAGE_SIZE,IMAGE_SIZE), interpolation = cv2.INTER_NEAREST)\n",
        "            img = img[:,:, np.newaxis]\n",
        "            x = img\n",
        "            y = labels2nums_dict[label]\n",
        "            data_X.append(x)\n",
        "            data_Y.append(y)\n",
        "            cnt += 1\n",
        "            if cnt==batch_size:        #generate a batch when cnt reaches batch_size \n",
        "                cnt = 0\n",
        "                yield (np.array(data_X), np.array(data_Y))\n",
        "                data_X = []\n",
        "                data_Y = []\n",
        "\n",
        "print('finish!')"
      ],
      "execution_count": 0,
      "outputs": [
        {
          "output_type": "stream",
          "text": [
            "finish!\n"
          ],
          "name": "stdout"
        }
      ]
    },
    {
      "metadata": {
        "id": "Z3SIDIfoSR2d",
        "colab_type": "text"
      },
      "cell_type": "markdown",
      "source": [
        "# Callbacks"
      ]
    },
    {
      "metadata": {
        "id": "fhoAdkcESQiM",
        "colab_type": "code",
        "outputId": "e86697d2-31f5-40e8-8c8c-2db67de89cd3",
        "colab": {
          "base_uri": "https://localhost:8080/",
          "height": 33
        }
      },
      "cell_type": "code",
      "source": [
        "# define a class named LossHitory \n",
        "class LossHistory(keras.callbacks.Callback):\n",
        "    def on_train_begin(self, logs={}):\n",
        "        self.losses = {'batch':[], 'epoch':[]}\n",
        "        self.accuracy = {'batch':[], 'epoch':[]}\n",
        "        self.val_loss = {'batch':[], 'epoch':[]}\n",
        "        self.val_acc = {'batch':[], 'epoch':[]}\n",
        "\n",
        "    def on_batch_end(self, batch, logs={}):\n",
        "        self.losses['batch'].append(logs.get('loss'))\n",
        "        self.accuracy['batch'].append(logs.get('acc'))\n",
        "        self.val_loss['batch'].append(logs.get('val_loss'))\n",
        "        self.val_acc['batch'].append(logs.get('val_acc'))\n",
        "\n",
        "    def on_epoch_end(self, batch, logs={}):\n",
        "        self.losses['epoch'].append(logs.get('loss'))\n",
        "        self.accuracy['epoch'].append(logs.get('acc'))\n",
        "        self.val_loss['epoch'].append(logs.get('val_loss'))\n",
        "        self.val_acc['epoch'].append(logs.get('val_acc'))\n",
        "\n",
        "    def loss_plot(self, loss_type, loss_fig_save_path, acc_fig_save_path):\n",
        "        iters = range(len(self.losses[loss_type]))\n",
        "        plt.figure('acc')\n",
        "        plt.plot(iters, self.accuracy[loss_type], 'r', label='train acc')\n",
        "        plt.plot(iters, self.val_acc[loss_type], 'b', label='val acc')\n",
        "        plt.grid(True)\n",
        "        plt.xlabel(loss_type)\n",
        "        plt.ylabel('acc')\n",
        "        plt.legend(loc=\"upper right\")\n",
        "        plt.savefig(acc_fig_save_path)\n",
        "        plt.show()\n",
        "        \n",
        "        \n",
        "        plt.figure('loss')\n",
        "        plt.plot(iters, self.losses[loss_type], 'g', label='train loss')\n",
        "        plt.plot(iters, self.val_loss[loss_type], 'k', label='val loss')\n",
        "        plt.grid(True)\n",
        "        plt.xlabel(loss_type)\n",
        "        plt.ylabel('loss')\n",
        "        plt.legend(loc=\"upper right\")\n",
        "        plt.savefig(loss_fig_save_path)\n",
        "        plt.show()\n",
        "        \n",
        "# create a object from LossHistory class\n",
        "History = LossHistory()\n",
        "\n",
        "print(\"finish!\")"
      ],
      "execution_count": 0,
      "outputs": [
        {
          "output_type": "stream",
          "text": [
            "finish!\n"
          ],
          "name": "stdout"
        }
      ]
    },
    {
      "metadata": {
        "id": "zUBqEb49S7qZ",
        "colab_type": "code",
        "outputId": "be470fb9-708a-40c6-8486-1ba1d7eed61f",
        "colab": {
          "base_uri": "https://localhost:8080/",
          "height": 33
        }
      },
      "cell_type": "code",
      "source": [
        "cp_callback = tf.keras.callbacks.ModelCheckpoint(\n",
        "    CKPT_PATH, \n",
        "    verbose = 1, \n",
        "    monitor='val_acc', \n",
        "    mode = 'max', \n",
        "    save_best_only=True)\n",
        "\n",
        "print(\"finish!\")"
      ],
      "execution_count": 0,
      "outputs": [
        {
          "output_type": "stream",
          "text": [
            "finish!\n"
          ],
          "name": "stdout"
        }
      ]
    },
    {
      "metadata": {
        "id": "cm1XFtbfYGRj",
        "colab_type": "code",
        "colab": {}
      },
      "cell_type": "code",
      "source": [
        "ReduceLR = tf.keras.callbacks.ReduceLROnPlateau(monitor='val_acc', factor=0.5, patience=3,\n",
        "                      min_delta=0.005, mode='max', cooldown=3, verbose=1)"
      ],
      "execution_count": 0,
      "outputs": []
    },
    {
      "metadata": {
        "id": "XJ-hiqDxV5z6",
        "colab_type": "code",
        "colab": {}
      },
      "cell_type": "code",
      "source": [
        "csv_logger = CSVLogger(LOG_PATH, separator=',', append=True)"
      ],
      "execution_count": 0,
      "outputs": []
    },
    {
      "metadata": {
        "id": "bwRxaI2QTibU",
        "colab_type": "text"
      },
      "cell_type": "markdown",
      "source": [
        "# Load Data"
      ]
    },
    {
      "metadata": {
        "id": "aj041zzZTwrF",
        "colab_type": "code",
        "outputId": "eda6a53e-ad60-46b1-9d55-41e08fee7d4a",
        "colab": {
          "base_uri": "https://localhost:8080/",
          "height": 35
        }
      },
      "cell_type": "code",
      "source": [
        "# load train data and valid data\n",
        "#  labels_dict and data path\n",
        "\n",
        "# labels convert into nums\n",
        "labels_dict = np.load(LABEL_DICT_PATH)\n",
        "labels2nums_dict = {v: k for k, v in enumerate(labels_dict)}\n",
        "\n",
        "# read csv \n",
        "train_data = pd.read_csv(TRAIN_DATA_PATH)\n",
        "valid_data = pd.read_csv(VALID_DATA_PATH)\n",
        "\n",
        "print('finish!')"
      ],
      "execution_count": 0,
      "outputs": [
        {
          "output_type": "stream",
          "text": [
            "finish!\n"
          ],
          "name": "stdout"
        }
      ]
    },
    {
      "metadata": {
        "id": "D_sA1QMzUysO",
        "colab_type": "text"
      },
      "cell_type": "markdown",
      "source": [
        "# Model"
      ]
    },
    {
      "metadata": {
        "id": "-DXg_7LEU1Ap",
        "colab_type": "code",
        "outputId": "7bed3851-fcf6-4f32-b1bf-5561f03b05c9",
        "colab": {
          "base_uri": "https://localhost:8080/",
          "height": 3491
        }
      },
      "cell_type": "code",
      "source": [
        "\n",
        "MODEL = tf.keras.applications.MobileNet(\n",
        "        input_shape=(IMAGE_SIZE,IMAGE_SIZE,1),\n",
        "        alpha=1.0,\n",
        "        include_top=True,\n",
        "        weights=None,\n",
        "        classes=340\n",
        "        )\n",
        "\n",
        "MODEL.summary()"
      ],
      "execution_count": 0,
      "outputs": [
        {
          "output_type": "stream",
          "text": [
            "_________________________________________________________________\n",
            "Layer (type)                 Output Shape              Param #   \n",
            "=================================================================\n",
            "input_1 (InputLayer)         (None, 128, 128, 1)       0         \n",
            "_________________________________________________________________\n",
            "conv1_pad (ZeroPadding2D)    (None, 129, 129, 1)       0         \n",
            "_________________________________________________________________\n",
            "conv1 (Conv2D)               (None, 64, 64, 32)        288       \n",
            "_________________________________________________________________\n",
            "conv1_bn (BatchNormalization (None, 64, 64, 32)        128       \n",
            "_________________________________________________________________\n",
            "conv1_relu (ReLU)            (None, 64, 64, 32)        0         \n",
            "_________________________________________________________________\n",
            "conv_dw_1 (DepthwiseConv2D)  (None, 64, 64, 32)        288       \n",
            "_________________________________________________________________\n",
            "conv_dw_1_bn (BatchNormaliza (None, 64, 64, 32)        128       \n",
            "_________________________________________________________________\n",
            "conv_dw_1_relu (ReLU)        (None, 64, 64, 32)        0         \n",
            "_________________________________________________________________\n",
            "conv_pw_1 (Conv2D)           (None, 64, 64, 64)        2048      \n",
            "_________________________________________________________________\n",
            "conv_pw_1_bn (BatchNormaliza (None, 64, 64, 64)        256       \n",
            "_________________________________________________________________\n",
            "conv_pw_1_relu (ReLU)        (None, 64, 64, 64)        0         \n",
            "_________________________________________________________________\n",
            "conv_pad_2 (ZeroPadding2D)   (None, 65, 65, 64)        0         \n",
            "_________________________________________________________________\n",
            "conv_dw_2 (DepthwiseConv2D)  (None, 32, 32, 64)        576       \n",
            "_________________________________________________________________\n",
            "conv_dw_2_bn (BatchNormaliza (None, 32, 32, 64)        256       \n",
            "_________________________________________________________________\n",
            "conv_dw_2_relu (ReLU)        (None, 32, 32, 64)        0         \n",
            "_________________________________________________________________\n",
            "conv_pw_2 (Conv2D)           (None, 32, 32, 128)       8192      \n",
            "_________________________________________________________________\n",
            "conv_pw_2_bn (BatchNormaliza (None, 32, 32, 128)       512       \n",
            "_________________________________________________________________\n",
            "conv_pw_2_relu (ReLU)        (None, 32, 32, 128)       0         \n",
            "_________________________________________________________________\n",
            "conv_dw_3 (DepthwiseConv2D)  (None, 32, 32, 128)       1152      \n",
            "_________________________________________________________________\n",
            "conv_dw_3_bn (BatchNormaliza (None, 32, 32, 128)       512       \n",
            "_________________________________________________________________\n",
            "conv_dw_3_relu (ReLU)        (None, 32, 32, 128)       0         \n",
            "_________________________________________________________________\n",
            "conv_pw_3 (Conv2D)           (None, 32, 32, 128)       16384     \n",
            "_________________________________________________________________\n",
            "conv_pw_3_bn (BatchNormaliza (None, 32, 32, 128)       512       \n",
            "_________________________________________________________________\n",
            "conv_pw_3_relu (ReLU)        (None, 32, 32, 128)       0         \n",
            "_________________________________________________________________\n",
            "conv_pad_4 (ZeroPadding2D)   (None, 33, 33, 128)       0         \n",
            "_________________________________________________________________\n",
            "conv_dw_4 (DepthwiseConv2D)  (None, 16, 16, 128)       1152      \n",
            "_________________________________________________________________\n",
            "conv_dw_4_bn (BatchNormaliza (None, 16, 16, 128)       512       \n",
            "_________________________________________________________________\n",
            "conv_dw_4_relu (ReLU)        (None, 16, 16, 128)       0         \n",
            "_________________________________________________________________\n",
            "conv_pw_4 (Conv2D)           (None, 16, 16, 256)       32768     \n",
            "_________________________________________________________________\n",
            "conv_pw_4_bn (BatchNormaliza (None, 16, 16, 256)       1024      \n",
            "_________________________________________________________________\n",
            "conv_pw_4_relu (ReLU)        (None, 16, 16, 256)       0         \n",
            "_________________________________________________________________\n",
            "conv_dw_5 (DepthwiseConv2D)  (None, 16, 16, 256)       2304      \n",
            "_________________________________________________________________\n",
            "conv_dw_5_bn (BatchNormaliza (None, 16, 16, 256)       1024      \n",
            "_________________________________________________________________\n",
            "conv_dw_5_relu (ReLU)        (None, 16, 16, 256)       0         \n",
            "_________________________________________________________________\n",
            "conv_pw_5 (Conv2D)           (None, 16, 16, 256)       65536     \n",
            "_________________________________________________________________\n",
            "conv_pw_5_bn (BatchNormaliza (None, 16, 16, 256)       1024      \n",
            "_________________________________________________________________\n",
            "conv_pw_5_relu (ReLU)        (None, 16, 16, 256)       0         \n",
            "_________________________________________________________________\n",
            "conv_pad_6 (ZeroPadding2D)   (None, 17, 17, 256)       0         \n",
            "_________________________________________________________________\n",
            "conv_dw_6 (DepthwiseConv2D)  (None, 8, 8, 256)         2304      \n",
            "_________________________________________________________________\n",
            "conv_dw_6_bn (BatchNormaliza (None, 8, 8, 256)         1024      \n",
            "_________________________________________________________________\n",
            "conv_dw_6_relu (ReLU)        (None, 8, 8, 256)         0         \n",
            "_________________________________________________________________\n",
            "conv_pw_6 (Conv2D)           (None, 8, 8, 512)         131072    \n",
            "_________________________________________________________________\n",
            "conv_pw_6_bn (BatchNormaliza (None, 8, 8, 512)         2048      \n",
            "_________________________________________________________________\n",
            "conv_pw_6_relu (ReLU)        (None, 8, 8, 512)         0         \n",
            "_________________________________________________________________\n",
            "conv_dw_7 (DepthwiseConv2D)  (None, 8, 8, 512)         4608      \n",
            "_________________________________________________________________\n",
            "conv_dw_7_bn (BatchNormaliza (None, 8, 8, 512)         2048      \n",
            "_________________________________________________________________\n",
            "conv_dw_7_relu (ReLU)        (None, 8, 8, 512)         0         \n",
            "_________________________________________________________________\n",
            "conv_pw_7 (Conv2D)           (None, 8, 8, 512)         262144    \n",
            "_________________________________________________________________\n",
            "conv_pw_7_bn (BatchNormaliza (None, 8, 8, 512)         2048      \n",
            "_________________________________________________________________\n",
            "conv_pw_7_relu (ReLU)        (None, 8, 8, 512)         0         \n",
            "_________________________________________________________________\n",
            "conv_dw_8 (DepthwiseConv2D)  (None, 8, 8, 512)         4608      \n",
            "_________________________________________________________________\n",
            "conv_dw_8_bn (BatchNormaliza (None, 8, 8, 512)         2048      \n",
            "_________________________________________________________________\n",
            "conv_dw_8_relu (ReLU)        (None, 8, 8, 512)         0         \n",
            "_________________________________________________________________\n",
            "conv_pw_8 (Conv2D)           (None, 8, 8, 512)         262144    \n",
            "_________________________________________________________________\n",
            "conv_pw_8_bn (BatchNormaliza (None, 8, 8, 512)         2048      \n",
            "_________________________________________________________________\n",
            "conv_pw_8_relu (ReLU)        (None, 8, 8, 512)         0         \n",
            "_________________________________________________________________\n",
            "conv_dw_9 (DepthwiseConv2D)  (None, 8, 8, 512)         4608      \n",
            "_________________________________________________________________\n",
            "conv_dw_9_bn (BatchNormaliza (None, 8, 8, 512)         2048      \n",
            "_________________________________________________________________\n",
            "conv_dw_9_relu (ReLU)        (None, 8, 8, 512)         0         \n",
            "_________________________________________________________________\n",
            "conv_pw_9 (Conv2D)           (None, 8, 8, 512)         262144    \n",
            "_________________________________________________________________\n",
            "conv_pw_9_bn (BatchNormaliza (None, 8, 8, 512)         2048      \n",
            "_________________________________________________________________\n",
            "conv_pw_9_relu (ReLU)        (None, 8, 8, 512)         0         \n",
            "_________________________________________________________________\n",
            "conv_dw_10 (DepthwiseConv2D) (None, 8, 8, 512)         4608      \n",
            "_________________________________________________________________\n",
            "conv_dw_10_bn (BatchNormaliz (None, 8, 8, 512)         2048      \n",
            "_________________________________________________________________\n",
            "conv_dw_10_relu (ReLU)       (None, 8, 8, 512)         0         \n",
            "_________________________________________________________________\n",
            "conv_pw_10 (Conv2D)          (None, 8, 8, 512)         262144    \n",
            "_________________________________________________________________\n",
            "conv_pw_10_bn (BatchNormaliz (None, 8, 8, 512)         2048      \n",
            "_________________________________________________________________\n",
            "conv_pw_10_relu (ReLU)       (None, 8, 8, 512)         0         \n",
            "_________________________________________________________________\n",
            "conv_dw_11 (DepthwiseConv2D) (None, 8, 8, 512)         4608      \n",
            "_________________________________________________________________\n",
            "conv_dw_11_bn (BatchNormaliz (None, 8, 8, 512)         2048      \n",
            "_________________________________________________________________\n",
            "conv_dw_11_relu (ReLU)       (None, 8, 8, 512)         0         \n",
            "_________________________________________________________________\n",
            "conv_pw_11 (Conv2D)          (None, 8, 8, 512)         262144    \n",
            "_________________________________________________________________\n",
            "conv_pw_11_bn (BatchNormaliz (None, 8, 8, 512)         2048      \n",
            "_________________________________________________________________\n",
            "conv_pw_11_relu (ReLU)       (None, 8, 8, 512)         0         \n",
            "_________________________________________________________________\n",
            "conv_pad_12 (ZeroPadding2D)  (None, 9, 9, 512)         0         \n",
            "_________________________________________________________________\n",
            "conv_dw_12 (DepthwiseConv2D) (None, 4, 4, 512)         4608      \n",
            "_________________________________________________________________\n",
            "conv_dw_12_bn (BatchNormaliz (None, 4, 4, 512)         2048      \n",
            "_________________________________________________________________\n",
            "conv_dw_12_relu (ReLU)       (None, 4, 4, 512)         0         \n",
            "_________________________________________________________________\n",
            "conv_pw_12 (Conv2D)          (None, 4, 4, 1024)        524288    \n",
            "_________________________________________________________________\n",
            "conv_pw_12_bn (BatchNormaliz (None, 4, 4, 1024)        4096      \n",
            "_________________________________________________________________\n",
            "conv_pw_12_relu (ReLU)       (None, 4, 4, 1024)        0         \n",
            "_________________________________________________________________\n",
            "conv_dw_13 (DepthwiseConv2D) (None, 4, 4, 1024)        9216      \n",
            "_________________________________________________________________\n",
            "conv_dw_13_bn (BatchNormaliz (None, 4, 4, 1024)        4096      \n",
            "_________________________________________________________________\n",
            "conv_dw_13_relu (ReLU)       (None, 4, 4, 1024)        0         \n",
            "_________________________________________________________________\n",
            "conv_pw_13 (Conv2D)          (None, 4, 4, 1024)        1048576   \n",
            "_________________________________________________________________\n",
            "conv_pw_13_bn (BatchNormaliz (None, 4, 4, 1024)        4096      \n",
            "_________________________________________________________________\n",
            "conv_pw_13_relu (ReLU)       (None, 4, 4, 1024)        0         \n",
            "_________________________________________________________________\n",
            "global_average_pooling2d (Gl (None, 1024)              0         \n",
            "_________________________________________________________________\n",
            "reshape_1 (Reshape)          (None, 1, 1, 1024)        0         \n",
            "_________________________________________________________________\n",
            "dropout (Dropout)            (None, 1, 1, 1024)        0         \n",
            "_________________________________________________________________\n",
            "conv_preds (Conv2D)          (None, 1, 1, 340)         348500    \n",
            "_________________________________________________________________\n",
            "act_softmax (Activation)     (None, 1, 1, 340)         0         \n",
            "_________________________________________________________________\n",
            "reshape_2 (Reshape)          (None, 340)               0         \n",
            "=================================================================\n",
            "Total params: 3,576,788\n",
            "Trainable params: 3,554,900\n",
            "Non-trainable params: 21,888\n",
            "_________________________________________________________________\n"
          ],
          "name": "stdout"
        }
      ]
    },
    {
      "metadata": {
        "id": "02zm3e7qU87T",
        "colab_type": "text"
      },
      "cell_type": "markdown",
      "source": [
        "# Complie"
      ]
    },
    {
      "metadata": {
        "id": "Rtz3F1UAU_RW",
        "colab_type": "code",
        "outputId": "476e40c2-dd6d-4b62-fb3f-facc5a2b1c82",
        "colab": {
          "base_uri": "https://localhost:8080/",
          "height": 33
        }
      },
      "cell_type": "code",
      "source": [
        "model = MODEL\n",
        "model.compile(loss='sparse_categorical_crossentropy',\n",
        "              optimizer='adam',\n",
        "              metrics=['accuracy'])\n",
        "\n",
        "print('finish')"
      ],
      "execution_count": 0,
      "outputs": [
        {
          "output_type": "stream",
          "text": [
            "finish\n"
          ],
          "name": "stdout"
        }
      ]
    },
    {
      "metadata": {
        "id": "hOj3QaVNVm-H",
        "colab_type": "text"
      },
      "cell_type": "markdown",
      "source": [
        "# Train"
      ]
    },
    {
      "metadata": {
        "id": "5Kl8pgH8Vope",
        "colab_type": "code",
        "outputId": "60f6c6f9-19ca-454b-eaf3-21f2151dcb43",
        "colab": {
          "base_uri": "https://localhost:8080/",
          "height": 4342
        }
      },
      "cell_type": "code",
      "source": [
        "print('start training')\n",
        "# callbacks = [History, cp_callback]\n",
        "\n",
        "history = model.fit_generator(generate_data(train_data, BATCH_SIZE, True),\n",
        "                              steps_per_epoch = STEPS_PER_EPOCH,\n",
        "                              epochs = EPOCHS,\n",
        "                              validation_data = generate_data(valid_data, BATCH_SIZE, False) ,\n",
        "                              validation_steps = VALIDATION_STEPS,\n",
        "                              verbose = 1,\n",
        "                              initial_epoch = 0,\n",
        "                              callbacks = [History,cp_callback,ReduceLR, csv_logger]\n",
        "                             )\n",
        "print(\"finish training\")\n",
        "\n",
        "History.loss_plot('epoch', LOSS_PLOT_PATH, ACC_PLOT_PATH)\n",
        "\n",
        "print('finish!')"
      ],
      "execution_count": 0,
      "outputs": [
        {
          "output_type": "stream",
          "text": [
            "start training\n",
            "Epoch 1/50\n",
            "849/850 [============================>.] - ETA: 0s - loss: 3.2709 - acc: 0.2955\n",
            "Epoch 00001: val_acc improved from -inf to 0.32985, saving model to gdrive/My Drive/QW/Notebook/Quick Draw/Thesis_pre_research/(1-2)LastImg_MobileNet/best_model_1_2.ckpt\n",
            "850/850 [==============================] - 540s 635ms/step - loss: 3.2695 - acc: 0.2957 - val_loss: 3.0095 - val_acc: 0.3299\n",
            "Epoch 2/50\n",
            "849/850 [============================>.] - ETA: 0s - loss: 1.8670 - acc: 0.5488\n",
            "Epoch 00002: val_acc improved from 0.32985 to 0.52070, saving model to gdrive/My Drive/QW/Notebook/Quick Draw/Thesis_pre_research/(1-2)LastImg_MobileNet/best_model_1_2.ckpt\n",
            "850/850 [==============================] - 523s 616ms/step - loss: 1.8669 - acc: 0.5488 - val_loss: 2.0488 - val_acc: 0.5207\n",
            "Epoch 3/50\n",
            "849/850 [============================>.] - ETA: 0s - loss: 1.5905 - acc: 0.6088\n",
            "Epoch 00003: val_acc improved from 0.52070 to 0.56900, saving model to gdrive/My Drive/QW/Notebook/Quick Draw/Thesis_pre_research/(1-2)LastImg_MobileNet/best_model_1_2.ckpt\n",
            "850/850 [==============================] - 522s 614ms/step - loss: 1.5901 - acc: 0.6089 - val_loss: 1.8013 - val_acc: 0.5690\n",
            "Epoch 4/50\n",
            "849/850 [============================>.] - ETA: 0s - loss: 1.4628 - acc: 0.6379\n",
            "Epoch 00004: val_acc improved from 0.56900 to 0.60120, saving model to gdrive/My Drive/QW/Notebook/Quick Draw/Thesis_pre_research/(1-2)LastImg_MobileNet/best_model_1_2.ckpt\n",
            "850/850 [==============================] - 521s 613ms/step - loss: 1.4625 - acc: 0.6380 - val_loss: 1.6183 - val_acc: 0.6012\n",
            "Epoch 5/50\n",
            "849/850 [============================>.] - ETA: 0s - loss: 1.3735 - acc: 0.6571\n",
            "Epoch 00005: val_acc improved from 0.60120 to 0.63890, saving model to gdrive/My Drive/QW/Notebook/Quick Draw/Thesis_pre_research/(1-2)LastImg_MobileNet/best_model_1_2.ckpt\n",
            "850/850 [==============================] - 514s 605ms/step - loss: 1.3738 - acc: 0.6571 - val_loss: 1.4546 - val_acc: 0.6389\n",
            "Epoch 6/50\n",
            "849/850 [============================>.] - ETA: 0s - loss: 1.3197 - acc: 0.6701\n",
            "Epoch 00006: val_acc improved from 0.63890 to 0.66605, saving model to gdrive/My Drive/QW/Notebook/Quick Draw/Thesis_pre_research/(1-2)LastImg_MobileNet/best_model_1_2.ckpt\n",
            "850/850 [==============================] - 517s 609ms/step - loss: 1.3197 - acc: 0.6702 - val_loss: 1.3522 - val_acc: 0.6661\n",
            "Epoch 7/50\n",
            "849/850 [============================>.] - ETA: 0s - loss: 1.2787 - acc: 0.6806\n",
            "Epoch 00007: val_acc improved from 0.66605 to 0.67050, saving model to gdrive/My Drive/QW/Notebook/Quick Draw/Thesis_pre_research/(1-2)LastImg_MobileNet/best_model_1_2.ckpt\n",
            "850/850 [==============================] - 516s 607ms/step - loss: 1.2786 - acc: 0.6806 - val_loss: 1.3222 - val_acc: 0.6705\n",
            "Epoch 8/50\n",
            "849/850 [============================>.] - ETA: 0s - loss: 1.2393 - acc: 0.6893\n",
            "Epoch 00008: val_acc did not improve from 0.67050\n",
            "850/850 [==============================] - 515s 606ms/step - loss: 1.2390 - acc: 0.6893 - val_loss: 1.3127 - val_acc: 0.6666\n",
            "Epoch 9/50\n",
            "849/850 [============================>.] - ETA: 0s - loss: 1.2071 - acc: 0.6965\n",
            "Epoch 00009: val_acc improved from 0.67050 to 0.67100, saving model to gdrive/My Drive/QW/Notebook/Quick Draw/Thesis_pre_research/(1-2)LastImg_MobileNet/best_model_1_2.ckpt\n",
            "\n",
            "Epoch 00009: ReduceLROnPlateau reducing learning rate to 0.0005000000237487257.\n",
            "850/850 [==============================] - 514s 605ms/step - loss: 1.2069 - acc: 0.6965 - val_loss: 1.3119 - val_acc: 0.6710\n",
            "Epoch 10/50\n",
            "849/850 [============================>.] - ETA: 0s - loss: 1.1188 - acc: 0.7187\n",
            "Epoch 00010: val_acc improved from 0.67100 to 0.71895, saving model to gdrive/My Drive/QW/Notebook/Quick Draw/Thesis_pre_research/(1-2)LastImg_MobileNet/best_model_1_2.ckpt\n",
            "850/850 [==============================] - 513s 604ms/step - loss: 1.1187 - acc: 0.7187 - val_loss: 1.1142 - val_acc: 0.7190\n",
            "Epoch 11/50\n",
            "849/850 [============================>.] - ETA: 0s - loss: 1.0864 - acc: 0.7254\n",
            "Epoch 00011: val_acc did not improve from 0.71895\n",
            "850/850 [==============================] - 512s 602ms/step - loss: 1.0863 - acc: 0.7254 - val_loss: 1.1139 - val_acc: 0.7174\n",
            "Epoch 12/50\n",
            "849/850 [============================>.] - ETA: 0s - loss: 1.0803 - acc: 0.7279\n",
            "Epoch 00012: val_acc improved from 0.71895 to 0.72665, saving model to gdrive/My Drive/QW/Notebook/Quick Draw/Thesis_pre_research/(1-2)LastImg_MobileNet/best_model_1_2.ckpt\n",
            "850/850 [==============================] - 514s 605ms/step - loss: 1.0806 - acc: 0.7278 - val_loss: 1.0738 - val_acc: 0.7266\n",
            "Epoch 13/50\n",
            "849/850 [============================>.] - ETA: 0s - loss: 1.0569 - acc: 0.7331\n",
            "Epoch 00013: val_acc did not improve from 0.72665\n",
            "850/850 [==============================] - 514s 604ms/step - loss: 1.0567 - acc: 0.7331 - val_loss: 1.0951 - val_acc: 0.7246\n",
            "Epoch 14/50\n",
            "849/850 [============================>.] - ETA: 0s - loss: 1.0596 - acc: 0.7336\n",
            "Epoch 00014: val_acc improved from 0.72665 to 0.73180, saving model to gdrive/My Drive/QW/Notebook/Quick Draw/Thesis_pre_research/(1-2)LastImg_MobileNet/best_model_1_2.ckpt\n",
            "850/850 [==============================] - 517s 608ms/step - loss: 1.0596 - acc: 0.7335 - val_loss: 1.0793 - val_acc: 0.7318\n",
            "Epoch 15/50\n",
            "849/850 [============================>.] - ETA: 0s - loss: 1.0419 - acc: 0.7362\n",
            "Epoch 00015: val_acc did not improve from 0.73180\n",
            "850/850 [==============================] - 510s 601ms/step - loss: 1.0419 - acc: 0.7362 - val_loss: 1.0637 - val_acc: 0.7295\n",
            "Epoch 16/50\n",
            "849/850 [============================>.] - ETA: 0s - loss: 1.0293 - acc: 0.7394\n",
            "Epoch 00016: val_acc improved from 0.73180 to 0.73470, saving model to gdrive/My Drive/QW/Notebook/Quick Draw/Thesis_pre_research/(1-2)LastImg_MobileNet/best_model_1_2.ckpt\n",
            "850/850 [==============================] - 510s 600ms/step - loss: 1.0294 - acc: 0.7394 - val_loss: 1.0414 - val_acc: 0.7347\n",
            "Epoch 17/50\n",
            "849/850 [============================>.] - ETA: 0s - loss: 1.0219 - acc: 0.7411\n",
            "Epoch 00017: val_acc did not improve from 0.73470\n",
            "\n",
            "Epoch 00017: ReduceLROnPlateau reducing learning rate to 0.0002500000118743628.\n",
            "850/850 [==============================] - 515s 606ms/step - loss: 1.0220 - acc: 0.7410 - val_loss: 1.0510 - val_acc: 0.7325\n",
            "Epoch 18/50\n",
            "849/850 [============================>.] - ETA: 0s - loss: 0.9938 - acc: 0.7507\n",
            "Epoch 00018: val_acc improved from 0.73470 to 0.74830, saving model to gdrive/My Drive/QW/Notebook/Quick Draw/Thesis_pre_research/(1-2)LastImg_MobileNet/best_model_1_2.ckpt\n",
            "850/850 [==============================] - 517s 609ms/step - loss: 0.9936 - acc: 0.7508 - val_loss: 1.0015 - val_acc: 0.7483\n",
            "Epoch 19/50\n",
            "849/850 [============================>.] - ETA: 0s - loss: 0.9703 - acc: 0.7527\n",
            "Epoch 00019: val_acc improved from 0.74830 to 0.75395, saving model to gdrive/My Drive/QW/Notebook/Quick Draw/Thesis_pre_research/(1-2)LastImg_MobileNet/best_model_1_2.ckpt\n",
            "850/850 [==============================] - 516s 607ms/step - loss: 0.9704 - acc: 0.7527 - val_loss: 0.9592 - val_acc: 0.7539\n",
            "Epoch 20/50\n",
            "849/850 [============================>.] - ETA: 0s - loss: 0.9743 - acc: 0.7536\n",
            "Epoch 00020: val_acc improved from 0.75395 to 0.75560, saving model to gdrive/My Drive/QW/Notebook/Quick Draw/Thesis_pre_research/(1-2)LastImg_MobileNet/best_model_1_2.ckpt\n",
            "850/850 [==============================] - 516s 607ms/step - loss: 0.9744 - acc: 0.7536 - val_loss: 0.9614 - val_acc: 0.7556\n",
            "Epoch 21/50\n",
            "849/850 [============================>.] - ETA: 0s - loss: 0.9585 - acc: 0.7562\n",
            "Epoch 00021: val_acc improved from 0.75560 to 0.75955, saving model to gdrive/My Drive/QW/Notebook/Quick Draw/Thesis_pre_research/(1-2)LastImg_MobileNet/best_model_1_2.ckpt\n",
            "850/850 [==============================] - 517s 608ms/step - loss: 0.9586 - acc: 0.7562 - val_loss: 0.9403 - val_acc: 0.7595\n",
            "Epoch 22/50\n",
            "849/850 [============================>.] - ETA: 0s - loss: 0.9555 - acc: 0.7578\n",
            "Epoch 00022: val_acc improved from 0.75955 to 0.75990, saving model to gdrive/My Drive/QW/Notebook/Quick Draw/Thesis_pre_research/(1-2)LastImg_MobileNet/best_model_1_2.ckpt\n",
            "850/850 [==============================] - 522s 614ms/step - loss: 0.9555 - acc: 0.7578 - val_loss: 0.9567 - val_acc: 0.7599\n",
            "Epoch 23/50\n",
            "849/850 [============================>.] - ETA: 0s - loss: 0.9424 - acc: 0.7607\n",
            "Epoch 00023: val_acc improved from 0.75990 to 0.76140, saving model to gdrive/My Drive/QW/Notebook/Quick Draw/Thesis_pre_research/(1-2)LastImg_MobileNet/best_model_1_2.ckpt\n",
            "850/850 [==============================] - 524s 617ms/step - loss: 0.9423 - acc: 0.7608 - val_loss: 0.9521 - val_acc: 0.7614\n",
            "Epoch 24/50\n",
            "849/850 [============================>.] - ETA: 0s - loss: 0.9336 - acc: 0.7622\n",
            "Epoch 00024: val_acc improved from 0.76140 to 0.76145, saving model to gdrive/My Drive/QW/Notebook/Quick Draw/Thesis_pre_research/(1-2)LastImg_MobileNet/best_model_1_2.ckpt\n",
            "\n",
            "Epoch 00024: ReduceLROnPlateau reducing learning rate to 0.0001250000059371814.\n",
            "850/850 [==============================] - 521s 613ms/step - loss: 0.9333 - acc: 0.7622 - val_loss: 0.9419 - val_acc: 0.7614\n",
            "Epoch 25/50\n",
            "849/850 [============================>.] - ETA: 0s - loss: 0.9061 - acc: 0.7694\n",
            "Epoch 00025: val_acc did not improve from 0.76145\n",
            "850/850 [==============================] - 520s 612ms/step - loss: 0.9063 - acc: 0.7693 - val_loss: 0.9336 - val_acc: 0.7596\n",
            "Epoch 26/50\n",
            "849/850 [============================>.] - ETA: 0s - loss: 0.9013 - acc: 0.7716\n",
            "Epoch 00026: val_acc improved from 0.76145 to 0.76160, saving model to gdrive/My Drive/QW/Notebook/Quick Draw/Thesis_pre_research/(1-2)LastImg_MobileNet/best_model_1_2.ckpt\n",
            "850/850 [==============================] - 521s 613ms/step - loss: 0.9014 - acc: 0.7715 - val_loss: 0.9417 - val_acc: 0.7616\n",
            "Epoch 27/50\n",
            "849/850 [============================>.] - ETA: 0s - loss: 0.8912 - acc: 0.7729\n",
            "Epoch 00027: val_acc improved from 0.76160 to 0.76825, saving model to gdrive/My Drive/QW/Notebook/Quick Draw/Thesis_pre_research/(1-2)LastImg_MobileNet/best_model_1_2.ckpt\n",
            "850/850 [==============================] - 522s 614ms/step - loss: 0.8911 - acc: 0.7729 - val_loss: 0.9228 - val_acc: 0.7682\n",
            "Epoch 28/50\n",
            "849/850 [============================>.] - ETA: 0s - loss: 0.8808 - acc: 0.7750\n",
            "Epoch 00028: val_acc did not improve from 0.76825\n",
            "850/850 [==============================] - 521s 613ms/step - loss: 0.8805 - acc: 0.7751 - val_loss: 0.9232 - val_acc: 0.7655\n",
            "Epoch 29/50\n",
            "849/850 [============================>.] - ETA: 0s - loss: 0.8627 - acc: 0.7801\n",
            "Epoch 00029: val_acc did not improve from 0.76825\n",
            "850/850 [==============================] - 519s 610ms/step - loss: 0.8624 - acc: 0.7801 - val_loss: 0.9049 - val_acc: 0.7666\n",
            "Epoch 30/50\n",
            "849/850 [============================>.] - ETA: 0s - loss: 0.8885 - acc: 0.7748\n",
            "Epoch 00030: val_acc improved from 0.76825 to 0.77050, saving model to gdrive/My Drive/QW/Notebook/Quick Draw/Thesis_pre_research/(1-2)LastImg_MobileNet/best_model_1_2.ckpt\n",
            "\n",
            "Epoch 00030: ReduceLROnPlateau reducing learning rate to 6.25000029685907e-05.\n",
            "850/850 [==============================] - 521s 613ms/step - loss: 0.8884 - acc: 0.7748 - val_loss: 0.9115 - val_acc: 0.7705\n",
            "Epoch 31/50\n",
            "849/850 [============================>.] - ETA: 0s - loss: 0.8655 - acc: 0.7785\n",
            "Epoch 00031: val_acc improved from 0.77050 to 0.77245, saving model to gdrive/My Drive/QW/Notebook/Quick Draw/Thesis_pre_research/(1-2)LastImg_MobileNet/best_model_1_2.ckpt\n",
            "850/850 [==============================] - 520s 612ms/step - loss: 0.8655 - acc: 0.7784 - val_loss: 0.9136 - val_acc: 0.7725\n",
            "Epoch 32/50\n",
            "849/850 [============================>.] - ETA: 0s - loss: 0.8607 - acc: 0.7813\n",
            "Epoch 00032: val_acc improved from 0.77245 to 0.77660, saving model to gdrive/My Drive/QW/Notebook/Quick Draw/Thesis_pre_research/(1-2)LastImg_MobileNet/best_model_1_2.ckpt\n",
            "850/850 [==============================] - 520s 611ms/step - loss: 0.8609 - acc: 0.7813 - val_loss: 0.8806 - val_acc: 0.7766\n",
            "Epoch 33/50\n",
            "849/850 [============================>.] - ETA: 0s - loss: 0.8424 - acc: 0.7843\n",
            "Epoch 00033: val_acc did not improve from 0.77660\n",
            "850/850 [==============================] - 518s 609ms/step - loss: 0.8423 - acc: 0.7843 - val_loss: 0.9031 - val_acc: 0.7707\n",
            "Epoch 34/50\n",
            "849/850 [============================>.] - ETA: 0s - loss: 0.8482 - acc: 0.7854\n",
            "Epoch 00034: val_acc did not improve from 0.77660\n",
            "850/850 [==============================] - 513s 603ms/step - loss: 0.8482 - acc: 0.7854 - val_loss: 0.9108 - val_acc: 0.7689\n",
            "Epoch 35/50\n",
            "849/850 [============================>.] - ETA: 0s - loss: 0.8322 - acc: 0.7884\n",
            "Epoch 00035: val_acc did not improve from 0.77660\n",
            "\n",
            "Epoch 00035: ReduceLROnPlateau reducing learning rate to 3.125000148429535e-05.\n",
            "850/850 [==============================] - 512s 602ms/step - loss: 0.8323 - acc: 0.7885 - val_loss: 0.9091 - val_acc: 0.7728\n",
            "Epoch 36/50\n",
            "849/850 [============================>.] - ETA: 0s - loss: 0.8185 - acc: 0.7919\n",
            "Epoch 00036: val_acc did not improve from 0.77660\n",
            "850/850 [==============================] - 513s 604ms/step - loss: 0.8186 - acc: 0.7919 - val_loss: 0.8909 - val_acc: 0.7721\n",
            "Epoch 37/50\n",
            "849/850 [============================>.] - ETA: 0s - loss: 0.8106 - acc: 0.7932\n",
            "Epoch 00037: val_acc did not improve from 0.77660\n",
            "850/850 [==============================] - 515s 606ms/step - loss: 0.8106 - acc: 0.7931 - val_loss: 0.8856 - val_acc: 0.7745\n",
            "Epoch 38/50\n",
            "849/850 [============================>.] - ETA: 0s - loss: 0.8531 - acc: 0.7835\n",
            "Epoch 00038: val_acc improved from 0.77660 to 0.77785, saving model to gdrive/My Drive/QW/Notebook/Quick Draw/Thesis_pre_research/(1-2)LastImg_MobileNet/best_model_1_2.ckpt\n",
            "850/850 [==============================] - 518s 609ms/step - loss: 0.8530 - acc: 0.7835 - val_loss: 0.8726 - val_acc: 0.7778\n",
            "Epoch 39/50\n",
            "849/850 [============================>.] - ETA: 0s - loss: 0.8369 - acc: 0.7859\n",
            "Epoch 00039: val_acc did not improve from 0.77785\n",
            "850/850 [==============================] - 516s 607ms/step - loss: 0.8370 - acc: 0.7859 - val_loss: 0.9076 - val_acc: 0.7744\n",
            "Epoch 40/50\n",
            "849/850 [============================>.] - ETA: 0s - loss: 0.8407 - acc: 0.7864\n",
            "Epoch 00040: val_acc improved from 0.77785 to 0.77820, saving model to gdrive/My Drive/QW/Notebook/Quick Draw/Thesis_pre_research/(1-2)LastImg_MobileNet/best_model_1_2.ckpt\n",
            "\n",
            "Epoch 00040: ReduceLROnPlateau reducing learning rate to 1.5625000742147677e-05.\n",
            "850/850 [==============================] - 522s 615ms/step - loss: 0.8407 - acc: 0.7864 - val_loss: 0.8784 - val_acc: 0.7782\n",
            "Epoch 41/50\n",
            "849/850 [============================>.] - ETA: 0s - loss: 0.8278 - acc: 0.7887\n",
            "Epoch 00041: val_acc improved from 0.77820 to 0.77955, saving model to gdrive/My Drive/QW/Notebook/Quick Draw/Thesis_pre_research/(1-2)LastImg_MobileNet/best_model_1_2.ckpt\n",
            "850/850 [==============================] - 518s 610ms/step - loss: 0.8279 - acc: 0.7887 - val_loss: 0.8737 - val_acc: 0.7795\n",
            "Epoch 42/50\n",
            "849/850 [============================>.] - ETA: 0s - loss: 0.8243 - acc: 0.7896\n",
            "Epoch 00042: val_acc did not improve from 0.77955\n",
            "850/850 [==============================] - 520s 611ms/step - loss: 0.8243 - acc: 0.7896 - val_loss: 0.8958 - val_acc: 0.7715\n",
            "Epoch 43/50\n",
            "849/850 [============================>.] - ETA: 0s - loss: 0.8112 - acc: 0.7935\n",
            "Epoch 00043: val_acc did not improve from 0.77955\n",
            "850/850 [==============================] - 517s 608ms/step - loss: 0.8110 - acc: 0.7935 - val_loss: 0.8955 - val_acc: 0.7738\n",
            "Epoch 44/50\n",
            "849/850 [============================>.] - ETA: 0s - loss: 0.8009 - acc: 0.7953\n",
            "Epoch 00044: val_acc did not improve from 0.77955\n",
            "850/850 [==============================] - 518s 610ms/step - loss: 0.8007 - acc: 0.7953 - val_loss: 0.8825 - val_acc: 0.7762\n",
            "Epoch 45/50\n",
            "849/850 [============================>.] - ETA: 0s - loss: 0.8247 - acc: 0.7899\n",
            "Epoch 00045: val_acc did not improve from 0.77955\n",
            "\n",
            "Epoch 00045: ReduceLROnPlateau reducing learning rate to 7.812500371073838e-06.\n",
            "850/850 [==============================] - 520s 611ms/step - loss: 0.8249 - acc: 0.7899 - val_loss: 0.8916 - val_acc: 0.7730\n",
            "Epoch 46/50\n",
            "849/850 [============================>.] - ETA: 0s - loss: 0.8233 - acc: 0.7901\n",
            "Epoch 00046: val_acc did not improve from 0.77955\n",
            "850/850 [==============================] - 519s 610ms/step - loss: 0.8233 - acc: 0.7901 - val_loss: 0.8750 - val_acc: 0.7770\n",
            "Epoch 47/50\n",
            "849/850 [============================>.] - ETA: 0s - loss: 0.8131 - acc: 0.7926\n",
            "Epoch 00047: val_acc did not improve from 0.77955\n",
            "850/850 [==============================] - 518s 609ms/step - loss: 0.8129 - acc: 0.7926 - val_loss: 0.8850 - val_acc: 0.7769\n",
            "Epoch 48/50\n",
            "849/850 [============================>.] - ETA: 0s - loss: 0.8038 - acc: 0.7937\n",
            "Epoch 00048: val_acc did not improve from 0.77955\n",
            "850/850 [==============================] - 517s 608ms/step - loss: 0.8035 - acc: 0.7937 - val_loss: 0.8852 - val_acc: 0.7784\n",
            "Epoch 49/50\n",
            "849/850 [============================>.] - ETA: 0s - loss: 0.7846 - acc: 0.8002\n",
            "Epoch 00049: val_acc improved from 0.77955 to 0.78180, saving model to gdrive/My Drive/QW/Notebook/Quick Draw/Thesis_pre_research/(1-2)LastImg_MobileNet/best_model_1_2.ckpt\n",
            "850/850 [==============================] - 519s 610ms/step - loss: 0.7844 - acc: 0.8002 - val_loss: 0.8644 - val_acc: 0.7818\n",
            "Epoch 50/50\n",
            "849/850 [============================>.] - ETA: 0s - loss: 0.8066 - acc: 0.7956\n",
            "Epoch 00050: val_acc did not improve from 0.78180\n",
            "850/850 [==============================] - 518s 610ms/step - loss: 0.8065 - acc: 0.7957 - val_loss: 0.8810 - val_acc: 0.7738\n",
            "finish training\n"
          ],
          "name": "stdout"
        },
        {
          "output_type": "display_data",
          "data": {
            "image/png": "[encoded data removed]",
            "text/plain": [
              "<matplotlib.figure.Figure at 0x7f80a1804278>"
            ]
          },
          "metadata": {
            "tags": []
          }
        },
        {
          "output_type": "display_data",
          "data": {
            "image/png": "[encoded data removed]",
            "text/plain": [
              "<matplotlib.figure.Figure at 0x7f809a185d30>"
            ]
          },
          "metadata": {
            "tags": []
          }
        },
        {
          "output_type": "stream",
          "text": [
            "finish!\n"
          ],
          "name": "stdout"
        }
      ]
    },
    {
      "metadata": {
        "id": "INkEw6CjX87U",
        "colab_type": "text"
      },
      "cell_type": "markdown",
      "source": [
        "# Evaluate"
      ]
    },
    {
      "metadata": {
        "id": "k3GnYp7PX713",
        "colab_type": "code",
        "outputId": "1c411917-4264-47c9-e538-b8d12c917b29",
        "colab": {
          "base_uri": "https://localhost:8080/",
          "height": 35
        }
      },
      "cell_type": "code",
      "source": [
        "def top_3_accuracy(X, Y):\n",
        "        return sparse_top_k_categorical_accuracy(X, Y, 3)\n",
        "  \n",
        "def top_5_accuracy(X, Y):\n",
        "        return sparse_top_k_categorical_accuracy(X, Y, 5)\n",
        "  \n",
        "model_E = MODEL\n",
        "model_E.compile(loss='sparse_categorical_crossentropy',\n",
        "              optimizer='adam',\n",
        "              metrics=['accuracy',top_3_accuracy, top_5_accuracy])\n",
        "\n",
        "model_weights_path = CKPT_PATH  \n",
        "model_E.load_weights(model_weights_path)\n",
        "print('finish')"
      ],
      "execution_count": 0,
      "outputs": [
        {
          "output_type": "stream",
          "text": [
            "finish\n"
          ],
          "name": "stdout"
        }
      ]
    },
    {
      "metadata": {
        "id": "_PyjiI3iYZn2",
        "colab_type": "code",
        "outputId": "245c8fa0-f4c1-4164-8857-b77d25a98e39",
        "colab": {
          "base_uri": "https://localhost:8080/",
          "height": 116
        }
      },
      "cell_type": "code",
      "source": [
        "result = model_E.evaluate_generator(\n",
        "    generate_data(valid_data, BATCH_SIZE, False),\n",
        "    steps = EVALUATE_STEPS,\n",
        "    verbose = 1\n",
        ")\n",
        "print('number of test samples:', len(result))\n",
        "print('loss:', result[0])\n",
        "print('top1 accuracy:', result[1])\n",
        "print('top3 accuracy:', result[2])\n",
        "print('top3 accuracy:', result[3])"
      ],
      "execution_count": 0,
      "outputs": [
        {
          "output_type": "stream",
          "text": [
            "850/850 [==============================] - 150s 176ms/step\n",
            "number of test samples: 4\n",
            "loss: 0.8837472029994515\n",
            "top1 accuracy: 0.7758647046369664\n",
            "top3 accuracy: 0.9089058828353882\n",
            "top3 accuracy: 0.9344470597014708\n"
          ],
          "name": "stdout"
        }
      ]
    }
  ]
}